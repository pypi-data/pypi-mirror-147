{
 "cells": [
  {
   "cell_type": "code",
   "execution_count": null,
   "metadata": {},
   "outputs": [],
   "source": [
    "import pandas as pd\n",
    "from client import RestClient"
   ]
  },
  {
   "cell_type": "code",
   "execution_count": null,
   "metadata": {},
   "outputs": [],
   "source": [
    "client = RestClient(\"tegnuyofyi@yevme.com\", \"1194a27214f232dd\")\n",
    "def get_keywords(keyword, depth = 4, location = 'United States'):\n",
    "    post_data = dict()\n",
    "    post_data[len(post_data)] = dict(\n",
    "        keyword=keyword, \n",
    "        location_name=location,\n",
    "        language_name=\"English\",\n",
    "        depth=depth, \n",
    "    )\n",
    "    post_data2 = dict()\n",
    "    post_data2[len(post_data2)] = dict(\n",
    "        keywords=[keyword],\n",
    "        location_name=location,\n",
    "        language_name=\"English\",\n",
    "        depth=depth,\n",
    "    )\n",
    "    response = client.post(\"/v3/dataforseo_labs/related_keywords/live\", post_data)\n",
    "    response2 = client.post(\"/v3/dataforseo_labs/keyword_ideas/live\", post_data2)\n",
    "    response3 = client.post(\"/v3/dataforseo_labs/keyword_suggestions/live\", post_data)\n",
    "    \n",
    "    return {\n",
    "        'related' : response,\n",
    "        'ideas' : response2, \n",
    "        'suggestions' : response3\n",
    "    }\n"
   ]
  },
  {
   "cell_type": "code",
   "execution_count": null,
   "metadata": {},
   "outputs": [],
   "source": [
    "def extract_keywords(responses):\n",
    "    key_list = []\n",
    "    sources = []\n",
    "    \n",
    "    if responses['related'][\"status_code\"] == 20000 and not responses['related']['tasks'][0]['result'][0]['items'] == None:\n",
    "        for x in range(len(responses['related']['tasks'][0]['result'][0]['items'])):\n",
    "            res = responses['related']['tasks'][0]['result'][0]['items'][x]['related_keywords']\n",
    "            if res is not None:\n",
    "                key_list.extend(res)\n",
    "        print(f\"{len(key_list)} related\")\n",
    "        sources.extend(['related' for _ in range(len(key_list))])\n",
    "        \n",
    "    if responses['ideas'][\"status_code\"] == 20000 and not responses['ideas']['tasks'][0]['result'][0]['items'] == None:\n",
    "        # not good ideas\n",
    "        print(f\"{len(responses['ideas']['tasks'][0]['result'][0]['items'])} ideas\")\n",
    "        for x in range(len(responses['ideas']['tasks'][0]['result'][0]['items'])):\n",
    "            res = responses['ideas']['tasks'][0]['result'][0]['items'][x]['keyword']\n",
    "            if res is not None:\n",
    "                key_list.append(res)\n",
    "        sources.extend(['ideas' for _ in range(\n",
    "            len(responses['ideas']['tasks'][0]['result'][0]['items']))])\n",
    "                \n",
    "    if responses['suggestions'][\"status_code\"] == 20000 and not responses['suggestions']['tasks'][0]['result'][0]['items'] == None:\n",
    "        print(f\"{len(responses['suggestions']['tasks'][0]['result'][0]['items'])} suggestions\")\n",
    "        for x in range(len(responses['suggestions']['tasks'][0]['result'][0]['items'])):\n",
    "            res = responses['suggestions']['tasks'][0]['result'][0]['items'][x]['keyword']\n",
    "            if res is not None:\n",
    "                key_list.append(res)\n",
    "        sources.extend(['suggestions' for _ in range(\n",
    "            len(responses['suggestions']['tasks'][0]['result'][0]['items']))])\n",
    "    # else:\n",
    "    #     print(\"error. Code: %d Message: %s\" %\n",
    "    #           (responses['all][\"status_code\"], responses['all'][\"status_message\"]))\n",
    "    temp = {\n",
    "        'Keywords' : key_list,\n",
    "        'Sources' : sources\n",
    "    }\n",
    "    df = pd.DataFrame.from_dict(temp)\n",
    "    return df\n"
   ]
  },
  {
   "cell_type": "code",
   "execution_count": null,
   "metadata": {},
   "outputs": [],
   "source": [
    "keyword_list = ['ARR Loans', 'Revenue Based Loans', 'Loans for SaaS Companies']\n",
    "\n",
    "full_df = pd.DataFrame(columns=['Keywords', 'Keywords2', 'Sources'])\n",
    "for keyword in keyword_list:\n",
    "    print(f'keyword : {keyword}')\n",
    "    keywords = get_keywords(keyword, depth=4)\n",
    "    extracted = extract_keywords(keywords)\n",
    "    keywords2 = [keyword for _ in range(extracted.shape[0])]\n",
    "    extracted['Keywords2'] = keywords2\n",
    "    full_df = pd.concat([full_df, extracted])"
   ]
  },
  {
   "cell_type": "code",
   "execution_count": null,
   "metadata": {},
   "outputs": [],
   "source": [
    "full_df.to_csv('keywords_dataset.csv', index = False)"
   ]
  }
 ],
 "metadata": {
  "interpreter": {
   "hash": "a718d886758a0e197754b2bbefb17d9136cc1dd64d81a83997df248b0cfc0ee9"
  },
  "kernelspec": {
   "display_name": "Python 3.7.10 64-bit ('flk': conda)",
   "language": "python",
   "name": "python3"
  },
  "language_info": {
   "codemirror_mode": {
    "name": "ipython",
    "version": 3
   },
   "file_extension": ".py",
   "mimetype": "text/x-python",
   "name": "python",
   "nbconvert_exporter": "python",
   "pygments_lexer": "ipython3",
   "version": "3.7.10"
  },
  "orig_nbformat": 4
 },
 "nbformat": 4,
 "nbformat_minor": 2
}
