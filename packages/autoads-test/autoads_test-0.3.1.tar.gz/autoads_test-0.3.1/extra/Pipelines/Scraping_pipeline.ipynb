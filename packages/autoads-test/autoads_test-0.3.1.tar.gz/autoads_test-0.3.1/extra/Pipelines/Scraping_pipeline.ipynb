{
 "cells": [
  {
   "cell_type": "code",
   "execution_count": 31,
   "metadata": {},
   "outputs": [],
   "source": [
    "import re\n",
    "from urllib.request import urlopen\n",
    "from bs4 import BeautifulSoup\n",
    "\n",
    "def _extract_(urls, depth = 1, return_urls = True, return_redirects = True, exclude = ['twitter', 'google', 'facebook', 'linkedin', 'youtube']):\n",
    "    exclude = exclude\n",
    "    scrape_urls = urls\n",
    "    resp = []\n",
    "    resp_urls = []\n",
    "    full_text = ''\n",
    "    depth = depth\n",
    "    for _ in range(depth):\n",
    "        temp_urls = []\n",
    "        for url in scrape_urls:\n",
    "            try:\n",
    "                chk = 0\n",
    "                for exc in exclude:\n",
    "                    if exc in url:\n",
    "                        chk = 1\n",
    "                \n",
    "                if chk == 0:\n",
    "                    html = urlopen(url).read()\n",
    "                    soup = BeautifulSoup(html, features=\"html.parser\")\n",
    "                    \n",
    "                    for link in soup.find_all('a', attrs = {'href':re.compile('^/')}):\n",
    "                        uri = link.get('href')\n",
    "                        temp_urls.append(url + uri)\n",
    "                    \n",
    "                    for link in soup.find_all('a', attrs={'href': re.compile('^https://')}):\n",
    "                        uri = link.get('href')\n",
    "                        temp_urls.append(uri)\n",
    "                    \n",
    "                    for script in soup(['script', 'style']):\n",
    "                        script.extract()\n",
    "                    \n",
    "                    text = soup.get_text()\n",
    "                    \n",
    "                    lines = (line.strip() for line in text.splitlines())\n",
    "                    chunks = (phrase.strip() for line in lines for phrase in line.split(\"  \"))\n",
    "                    text = '\\n'.join(chunk for chunk in chunks if chunk)\n",
    "                    full_text += ' ' + text\n",
    "                    resp_urls.append(url)\n",
    "                    resp.append(1)\n",
    "            except:\n",
    "                resp_urls.append(url)\n",
    "                resp.append(0)\n",
    "                continue\n",
    "    \n",
    "        scrape_urls = list(set(temp_urls))\n",
    "        \n",
    "    if return_urls:\n",
    "        if return_redirects:\n",
    "            return full_text, resp_urls, (resp_urls, resp)\n",
    "        else:\n",
    "            return full_text, resp_urls\n",
    "    elif return_redirects:\n",
    "        return full_text, (resp_urls, resp)\n",
    "    else:\n",
    "        return full_text\n"
   ]
  },
  {
   "cell_type": "code",
   "execution_count": 66,
   "metadata": {},
   "outputs": [],
   "source": [
    "ext, uris, resp = _extract_(['https://www.capchase.com'], depth=3)\n"
   ]
  },
  {
   "cell_type": "code",
   "execution_count": 67,
   "metadata": {},
   "outputs": [
    {
     "name": "stdout",
     "output_type": "stream",
     "text": [
      "199\n"
     ]
    },
    {
     "data": {
      "text/plain": [
       "['https://www.capchase.com',\n",
       " 'https://www.capchase.com/blog',\n",
       " 'https://www.capchase.com/grow',\n",
       " 'https://www.capchase.com/extend',\n",
       " 'https://app.capchase.com/login',\n",
       " 'https://www.capchase.com/earn',\n",
       " 'https://www.capchase.com/privacy-policy',\n",
       " 'https://www.capchase.com/partners',\n",
       " 'https://www.capchase.com/about',\n",
       " 'https://www.capchase.com/customers',\n",
       " 'https://www.capchase.com/terms-of-use',\n",
       " 'https://www.capchase.com/careers',\n",
       " 'https://app.capchase.com/register',\n",
       " 'https://www.capchase.com/blog/capchase-is-expanding-to-the-netherlands-and-belgium',\n",
       " 'https://www.capchase.com/blog/how-capchase-hum-capital-partnership-helped-setschedule-revolutionize-real-estate',\n",
       " 'https://www.capchase.com/',\n",
       " 'https://runway.beta.capchase.com/',\n",
       " 'https://capchase.notion.site/capchase-Press-Kit-afce097b73f24dc58367f41f10b162fc',\n",
       " 'https://www.capchase.com/careers/grow',\n",
       " 'https://www.capchase.com/customers/customers/zinklar',\n",
       " 'https://www.capchase.com/privacy-policy/grow',\n",
       " 'https://www.capchase.com/customers/customers/setschedule',\n",
       " 'https://www.capchase.com/grow/',\n",
       " 'https://www.capchase.com/terms-of-use/extend',\n",
       " 'https://www.capchase.com/blog/how-capchase-hum-capital-partnership-helped-setschedule-revolutionize-real-estate/privacy-policy',\n",
       " 'https://www.capchase.com/customers/customers/webshare',\n",
       " 'https://www.capchase.com/blog/blog/financing-your-saas-companys-growth',\n",
       " 'https://www.capchase.com/partners/extend',\n",
       " 'https://www.capchase.com/about/terms-of-use',\n",
       " 'https://app.capchase.com/login',\n",
       " 'https://www.capchase.com//careers',\n",
       " 'https://app.capchase.com/register/',\n",
       " 'https://www.capchase.com//grow',\n",
       " 'https://www.capchase.com/privacy-policy/customers',\n",
       " 'https://www.capchase.com/careers/extend',\n",
       " 'https://www.capchase.com//blog/how-capchase-hum-capital-partnership-helped-setschedule-revolutionize-real-estate',\n",
       " 'https://www.capchase.com/customers/customers/blackthorn',\n",
       " 'https://www.capchase.com/customers/grow',\n",
       " 'https://hopin.com/events/the-startup-ecosystem-in-the-netherlands-entering-scaling-and-managing-growth',\n",
       " 'https://www.capchase.com/blog/careers',\n",
       " 'https://www.capchase.com/privacy-policy/careers',\n",
       " 'https://www.capchase.com/earn/careers',\n",
       " 'https://www.capchase.com/customers/blog',\n",
       " 'https://www.capchase.com/partners/terms-of-use',\n",
       " 'https://www.capchase.com/customers/earn',\n",
       " 'https://www.capchase.com/about/about',\n",
       " 'https://www.capchase.com/earn/blog',\n",
       " 'https://www.capchase.com/customers/customers/looma',\n",
       " 'https://www.capchase.com/blog/how-capchase-hum-capital-partnership-helped-setschedule-revolutionize-real-estate/blog',\n",
       " 'https://www.capchase.com/blog/grow',\n",
       " 'https://www.capchase.com/earn/grow',\n",
       " 'https://www.capchase.com//earn',\n",
       " 'https://www.capchase.com/terms-of-use/',\n",
       " 'https://www.capchase.com/partners/careers',\n",
       " 'https://www.capchase.com/blog/capchase-is-expanding-to-the-netherlands-and-belgium/privacy-policy',\n",
       " 'https://www.capchase.com/earn/earn',\n",
       " 'https://www.capchase.com/blog/blog/saas-founders-how-can-you-fund-your-growth',\n",
       " 'https://www.capchase.com/blog/blog/just-in-time-financing-what-it-is-and-why-it-is-vital-to-your-overall-growth-strategy',\n",
       " 'https://www.capchase.com/terms-of-use/grow',\n",
       " 'https://www.capchase.com/privacy-policy/terms-of-use',\n",
       " 'https://www.capchase.com/customers/customers',\n",
       " 'https://www.capchase.com/blog/how-capchase-hum-capital-partnership-helped-setschedule-revolutionize-real-estate/about',\n",
       " 'https://www.capchase.com/about/extend',\n",
       " 'https://www.capchase.com/terms-of-use/careers',\n",
       " 'https://www.capchase.com/customers/customers/nowports',\n",
       " 'https://www.capchase.com/terms-of-use/partners',\n",
       " 'https://www.setschedule.com/',\n",
       " 'https://www.capchase.com/privacy-policy/about',\n",
       " 'https://www.capchase.com/customers/privacy-policy',\n",
       " 'https://capchase.readme.io/',\n",
       " 'https://www.capchase.com/customers/terms-of-use',\n",
       " 'https://www.businesswire.com/news/home/20210310005221/en/SetSchedule-Recognized-on-America%E2%80%99s-Best-Startup-Employers-list-by-Forbes',\n",
       " 'https://www.capchase.com/customers/customers/ensemble',\n",
       " 'https://news.crunchbase.com/news/got-revenue-alternative-financing-tools-look-to-help-saas-founders-avoid-dilution/',\n",
       " 'https://www.capchase.com/partners/blog',\n",
       " 'https://www.capchase.com/blog/extend',\n",
       " 'https://www.capchase.com/partners/grow',\n",
       " 'https://www.capchase.com/earn/customers',\n",
       " 'https://www.capchase.com/about/blog',\n",
       " 'https://www.capchase.com/blog/capchase-is-expanding-to-the-netherlands-and-belgium/extend',\n",
       " 'https://www.capchase.com/terms-of-use/customers',\n",
       " 'https://www.capchase.com/blog/earn',\n",
       " 'https://www.capchase.com//privacy-policy',\n",
       " 'https://www.capchase.com/blog/blog/capchase-partners-with-aws-activate-console-to-integrate-native-revenue-financing-tool',\n",
       " 'https://www.capchase.com/earn/partners',\n",
       " 'https://www.capchase.com/blog/capchase-is-expanding-to-the-netherlands-and-belgium/terms-of-use',\n",
       " 'https://www.capchase.com/about/',\n",
       " 'https://www.capchase.com/terms-of-use/blog',\n",
       " 'https://www.capchase.com/customers/partners',\n",
       " 'https://www.capchase.com/privacy-policy/extend',\n",
       " 'https://www.capchase.com/blog/partners',\n",
       " 'https://www.capchase.com/about/privacy-policy',\n",
       " 'https://app.capchase.com/register',\n",
       " 'https://www.capchase.com/blog/blog/how-capchase-hum-capital-partnership-helped-setschedule-revolutionize-real-estate',\n",
       " 'https://www.capchase.com/partners/partners',\n",
       " 'https://www.capchase.com/privacy-policy/earn',\n",
       " 'https://www.capchase.com/blog/capchase-is-expanding-to-the-netherlands-and-belgium/careers',\n",
       " 'https://www.capchase.com/privacy-policy/',\n",
       " 'https://runway.beta.capchase.com/',\n",
       " 'https://jobs.lever.co/capchase',\n",
       " 'https://www.capchase.com/careers/blog',\n",
       " 'https://www.capchase.com/terms-of-use/terms-of-use',\n",
       " 'https://www.capchase.com/blog/capchase-is-expanding-to-the-netherlands-and-belgium/',\n",
       " 'https://www.capchase.com/grow/careers',\n",
       " 'https://www.capchase.com/partners/',\n",
       " 'https://www.capchase.com/blog/capchase-is-expanding-to-the-netherlands-and-belgium/earn',\n",
       " 'https://www.capchase.com/grow/privacy-policy',\n",
       " 'https://www.capchase.com/earn/extend',\n",
       " 'https://www.capchase.com/blog/how-capchase-hum-capital-partnership-helped-setschedule-revolutionize-real-estate/grow',\n",
       " 'https://www.capchase.com/customers/customers/bankable',\n",
       " 'https://www.capchase.com/earn/about',\n",
       " 'https://techcrunch.com/2021/07/20/capchase-raises-280m-to-scale-its-financing-platform-for-subscription-businesses/',\n",
       " 'https://www.capchase.com//customers',\n",
       " 'https://www.capchase.com/extend/blog',\n",
       " 'https://www.capchase.com/grow/customers',\n",
       " 'https://www.capchase.com/about/grow',\n",
       " 'https://www.capchase.com//terms-of-use',\n",
       " 'https://www.capchase.com/privacy-policy/blog',\n",
       " 'https://www.capchase.com/partners/privacy-policy',\n",
       " 'https://www.forbes.com/sites/annefield/2021/03/31/fast-cash-for-fast-growth-startups/?sh=40efbd114cf6',\n",
       " 'https://www.capchase.com/terms-of-use/about',\n",
       " 'https://www.capchase.com/blog/blog',\n",
       " 'https://www.capchase.com/extend/partners',\n",
       " 'https://www.capchase.com/partners/about',\n",
       " 'https://www.capchase.com/blog/how-capchase-hum-capital-partnership-helped-setschedule-revolutionize-real-estate/earn',\n",
       " 'https://www.capchase.com/extend/careers',\n",
       " 'https://www.capchase.com/grow/terms-of-use',\n",
       " 'https://www.capchase.com/earn/terms-of-use',\n",
       " 'https://www.capchase.com/careers/privacy-policy',\n",
       " 'https://www.capchase.com/extend/terms-of-use',\n",
       " 'https://www.capchase.com/blog/how-capchase-hum-capital-partnership-helped-setschedule-revolutionize-real-estate/careers',\n",
       " 'https://www.capchase.com/extend/customers',\n",
       " 'https://www.capchase.com/extend/privacy-policy',\n",
       " 'https://www.capchase.com/privacy-policy/partners',\n",
       " 'https://www.capchase.com/',\n",
       " 'https://www.capchase.com/customers/careers',\n",
       " 'https://www.capchase.com/about/partners',\n",
       " 'https://www.capchase.com/blog/how-capchase-hum-capital-partnership-helped-setschedule-revolutionize-real-estate/customers',\n",
       " 'https://www.capchase.com/terms-of-use/earn',\n",
       " 'https://www.capchase.com/about/customers',\n",
       " 'https://www.businesswire.com/news/home/20211117006351/en/SetSchedule-Transactions-Surpass-3.5-Billion-Projects-120-Growth-in-2022',\n",
       " 'https://www.capchase.com//partners',\n",
       " 'https://capchase.notion.site/capchase-Press-Kit-afce097b73f24dc58367f41f10b162fc',\n",
       " 'https://www.capchase.com/extend/extend',\n",
       " 'https://www.capchase.com/customers/extend',\n",
       " 'https://www.capchase.com/careers/terms-of-use',\n",
       " 'https://www.capchase.com/about/earn',\n",
       " 'https://www.capchase.com/blog/privacy-policy',\n",
       " 'https://www.capchase.com/grow/earn',\n",
       " 'https://www.capchase.com/blog/capchase-is-expanding-to-the-netherlands-and-belgium/grow',\n",
       " 'https://www.capchase.com/careers/earn',\n",
       " 'https://www.capchase.com/blog/how-capchase-hum-capital-partnership-helped-setschedule-revolutionize-real-estate/extend',\n",
       " 'https://humcapital.com/',\n",
       " 'https://www.capchase.com/terms-of-use/privacy-policy',\n",
       " 'https://share.hsforms.com/1FcpgUYEoQayX4qh1Cv9RRg4w4k3',\n",
       " 'https://www.capchase.com//extend',\n",
       " 'https://www.capchase.com/blog/capchase-is-expanding-to-the-netherlands-and-belgium/about',\n",
       " 'https://www.capchase.com/customers/',\n",
       " 'https://www.capchase.com/grow/about',\n",
       " 'https://www.capchase.com/privacy-policy/privacy-policy',\n",
       " 'https://www.capchase.com/extend/earn',\n",
       " 'https://www.capchase.com//blog',\n",
       " 'https://www.capchase.com/partners/customers',\n",
       " 'https://www.capchase.com//',\n",
       " 'https://www.capchase.com/grow/blog',\n",
       " 'https://www.comparably.com/news/best-company-culture-2021/',\n",
       " 'https://www.capchase.com//blog/capchase-is-expanding-to-the-netherlands-and-belgium',\n",
       " 'https://www.capchase.com/blog/capchase-is-expanding-to-the-netherlands-and-belgium/earn/eu',\n",
       " 'https://www.capchase.com/extend/about',\n",
       " 'https://www.capchase.com/extend/grow',\n",
       " 'https://www.capchase.com/blog/how-capchase-hum-capital-partnership-helped-setschedule-revolutionize-real-estate/',\n",
       " 'https://www.capchase.com/blog/',\n",
       " 'https://www.capchase.com/earn/',\n",
       " 'https://www.capchase.com/extend/',\n",
       " 'https://www.capchase.com/about/careers',\n",
       " 'https://www.capchase.com/careers/customers',\n",
       " 'https://www.capchase.com/careers/partners',\n",
       " 'https://www.capchase.com/customers/customers/fiit',\n",
       " 'https://www.capchase.com/careers/about',\n",
       " 'https://www.capchase.com/blog/capchase-is-expanding-to-the-netherlands-and-belgium/blog',\n",
       " 'https://www.capchase.com/blog/capchase-is-expanding-to-the-netherlands-and-belgium',\n",
       " 'https://www.capchase.com/careers/careers',\n",
       " 'https://www.capchase.com/blog/blog/learnings-from-slush-on-how-to-manage-your-cash-flow',\n",
       " 'https://www.capchase.com/grow/grow',\n",
       " 'https://www.capchase.com//about',\n",
       " 'https://www.capchase.com/blog/capchase-is-expanding-to-the-netherlands-and-belgium/customers',\n",
       " 'https://www.capchase.com/careers/',\n",
       " 'https://www.capchase.com/blog/how-capchase-hum-capital-partnership-helped-setschedule-revolutionize-real-estate/partners',\n",
       " 'https://www.capchase.com/partners/earn',\n",
       " 'https://www.capchase.com/blog/how-capchase-hum-capital-partnership-helped-setschedule-revolutionize-real-estate/terms-of-use',\n",
       " 'https://www.capchase.com/blog/capchase-is-expanding-to-the-netherlands-and-belgium/partners',\n",
       " 'https://www.capchase.com/earn/privacy-policy',\n",
       " 'https://www.capchase.com/blog/terms-of-use',\n",
       " 'https://www.capchase.com/blog/blog/capchase-is-expanding-to-the-netherlands-and-belgium',\n",
       " 'https://www.capchase.com/blog/customers',\n",
       " 'https://www.capchase.com/blog/about',\n",
       " 'https://www.capchase.com/grow/extend',\n",
       " 'https://www.capchase.com/customers/about',\n",
       " 'https://www.capchase.com/grow/partners']"
      ]
     },
     "execution_count": 67,
     "metadata": {},
     "output_type": "execute_result"
    }
   ],
   "source": [
    "print(len(resp[0]))\n",
    "resp[0]"
   ]
  },
  {
   "cell_type": "code",
   "execution_count": 77,
   "metadata": {},
   "outputs": [
    {
     "data": {
      "text/plain": [
       "array([1, 1, 1, 1, 0, 1, 1, 1, 1, 1, 1, 1, 0, 1, 1, 1, 0, 0, 0, 0, 0, 0,\n",
       "       1, 0, 0, 0, 0, 0, 0, 0, 1, 0, 1, 0, 0, 1, 0, 0, 0, 0, 0, 0, 0, 0,\n",
       "       0, 0, 0, 0, 0, 0, 0, 1, 1, 0, 0, 0, 0, 0, 0, 0, 0, 0, 0, 0, 0, 0,\n",
       "       1, 0, 0, 0, 0, 0, 0, 0, 0, 0, 0, 0, 0, 0, 0, 0, 1, 0, 0, 0, 1, 0,\n",
       "       0, 0, 0, 0, 0, 0, 0, 0, 0, 1, 0, 1, 0, 0, 1, 0, 1, 0, 0, 0, 0, 0,\n",
       "       0, 1, 1, 0, 0, 0, 1, 0, 0, 1, 0, 0, 0, 0, 0, 0, 0, 0, 0, 0, 0, 0,\n",
       "       0, 0, 1, 0, 0, 0, 0, 0, 0, 1, 0, 0, 0, 0, 0, 0, 0, 0, 0, 0, 0, 0,\n",
       "       1, 1, 0, 1, 0, 0, 0, 1, 0, 1, 0, 0, 1, 0, 0, 0, 1, 1, 1, 1, 0, 0,\n",
       "       0, 0, 0, 0, 1, 0, 0, 0, 1, 0, 1, 0, 0, 0, 0, 0, 0, 0, 0, 0, 0, 0,\n",
       "       0])"
      ]
     },
     "execution_count": 77,
     "metadata": {},
     "output_type": "execute_result"
    }
   ],
   "source": [
    "import numpy as np\n",
    "np.array(resp[1])"
   ]
  },
  {
   "cell_type": "code",
   "execution_count": 69,
   "metadata": {},
   "outputs": [
    {
     "data": {
      "text/plain": [
       "49830"
      ]
     },
     "execution_count": 69,
     "metadata": {},
     "output_type": "execute_result"
    }
   ],
   "source": [
    "ext.split(' ').__len__()"
   ]
  },
  {
   "cell_type": "code",
   "execution_count": 70,
   "metadata": {},
   "outputs": [
    {
     "data": {
      "text/plain": [
       "' Capchase - Upfront Cashflow To Fund Your Growth\\nAnnouncementsCapchase is live in Benelux\\nThis website uses cookiesBy using our website you consent all cookies in accordance to our cookie policy. Read moreAccept allSettingsCookies settingsCookies are small text files that are placed on your computer by websites that you visit. Read moreStrictly Necessary (always active)Strictly necessary cookies allow core website functionality such as user login and account management. The website cannot be used properly without strictly necessary cookies.MarketingCookies used to deliver advertising that is more relevant to you and your interests.PersonalizationCookies allowing the website to remember choices you make (such as your user name, language, or the region you are in).AnalyticsCookies helping understand how this website performs, how visitors interact with the site, and whether there may be technical issues.Save settingsAccept allDecline allThank you! Your submission has been received!Oops! Something went wrong while submitting the form.ProductsAboutCustomer StoriesBlogPartnersLog InGet startedProductsAboutCustomer sStoriesBlogPartnersLog nGet startedLog InGet FinancedSolutionsgrowUpfront capital to fund growthextendBuy now pay later for businessearnNEWEarn more on your idle cashToolsRunway CalculatorAboutCareersBlogProductsgrowextendearnRunway CalculatorCompanyAboutCareersCustomer StoriesBlogLog inGet startedAnnouncementsCapchase is live in BeneluxGrow without dilutionCapchase turns recurring revenue into startup funding. Capchase turns recurring revenue into growth funding. You no longer need to choose between scaling or diluting your company.Get financedThis will be replaced by the email CTA widgetThis will be replaced by the email CTA widgetTrusted by 1,000+ partners & customersgrowUpfront cash flow to fund your growthThe only solution for recurring revenue companies that scales at your pace – without dilution or debt.ProductsGrow your company or extend your runway wi'"
      ]
     },
     "execution_count": 70,
     "metadata": {},
     "output_type": "execute_result"
    }
   ],
   "source": [
    "ext[:2000]"
   ]
  },
  {
   "cell_type": "code",
   "execution_count": 88,
   "metadata": {},
   "outputs": [],
   "source": [
    "def add_spaces(text, thresh = 3, clean_n = False):\n",
    "    cleaned = ''\n",
    "    temp = [l.isupper() for l in text]\n",
    "    chk = 0\n",
    "    for i, s in enumerate(temp):\n",
    "        if s and i != 0 and (i - chk) > thresh:\n",
    "            cleaned += ' ' + ext[chk : i]\n",
    "            chk = i\n",
    "    for i, w in enumerate(cleaned):\n",
    "        if w != ' ':\n",
    "            cleaned = cleaned[i:]\n",
    "            break\n",
    "        else:\n",
    "            i+=1\n",
    "    if clean_n:\n",
    "        cleaned = cleaned.replace('\\n', ' ')\n",
    "    return cleaned.replace('  ', ' ')\n"
   ]
  },
  {
   "cell_type": "code",
   "execution_count": 89,
   "metadata": {},
   "outputs": [
    {
     "data": {
      "text/plain": [
       "'Capchase - Upfront Cashflow To Fund Your Growth Announcements Capchase is live in Benelux This website uses cookies By using our website you consent all cookies in accordance to our cookie policy. Read more Accept all Settings Cookies settings Cookies are small text files that are placed on your computer by websites that you visit. Read more Strictly Necessary (always active) Strictly necessary cookies allow core website functionality such as user login and account management. The website cannot be used properly without strictly necessary cookies. Marketing Cookies used to deliver advertising that is more relevant to you and your interests. Personalization Cookies allowing the website to remember choices you make (such as your user name, language, or the region you are in). Analytics Cookies helping understand how this website performs, how visitors interact with the site, and whether there may be technical issues. Save settings Accept all Decline all Thank you! Your submission has been received! Oops! Something went wrong while submitting the form. Products About Customer Stories Blog Partners Log InGet started Products About Customer s Stories Blog Partners Log n Get started Log InGet Financed Solutionsgrow Upfront capital to fund growthextend Buy now pay later for businessearn NEWEarn more on your idle cash Tools Runway Calculator About Careers Blog Productsgrowextendearn Runway Calculator Company About Careers Customer Stories Blog Log in Get started Announcements Capchase is live in Benelux Grow without dilution Capchase turns recurring revenue into startup funding. Capchase turns recurring revenue into growth funding. You no longer need to choose between scaling or diluting your company. Get financed This will be replaced by the email CTA widget This will be replaced by the email CTA widget Trusted by 1,000+ partners & customersgrow Upfront cash flow to fund your growth The only solution for recurring revenue companies that scales at your pace – without diluti'"
      ]
     },
     "execution_count": 89,
     "metadata": {},
     "output_type": "execute_result"
    }
   ],
   "source": [
    "add_spaces(ext, clean_n=True)[:2000]"
   ]
  },
  {
   "cell_type": "code",
   "execution_count": null,
   "metadata": {},
   "outputs": [],
   "source": []
  }
 ],
 "metadata": {
  "interpreter": {
   "hash": "a718d886758a0e197754b2bbefb17d9136cc1dd64d81a83997df248b0cfc0ee9"
  },
  "kernelspec": {
   "display_name": "Python 3.7.10 ('flk')",
   "language": "python",
   "name": "python3"
  },
  "language_info": {
   "codemirror_mode": {
    "name": "ipython",
    "version": 3
   },
   "file_extension": ".py",
   "mimetype": "text/x-python",
   "name": "python",
   "nbconvert_exporter": "python",
   "pygments_lexer": "ipython3",
   "version": "3.7.11"
  },
  "orig_nbformat": 4
 },
 "nbformat": 4,
 "nbformat_minor": 2
}
