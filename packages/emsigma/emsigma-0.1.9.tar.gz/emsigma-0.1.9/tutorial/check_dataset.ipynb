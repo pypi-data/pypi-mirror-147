{
  "cells": [
    {
      "cell_type": "markdown",
      "source": [
        "# (Optional) Link G-drive"
      ],
      "metadata": {
        "id": "IzNo8w9CIQJJ"
      }
    },
    {
      "cell_type": "code",
      "source": [
        "from google.colab import drive\n",
        "drive.mount('/content/drive')"
      ],
      "metadata": {
        "id": "SzGYtti-o3eB"
      },
      "execution_count": null,
      "outputs": []
    },
    {
      "cell_type": "markdown",
      "metadata": {
        "id": "PTooJbLTkDWl"
      },
      "source": [
        "# Import libraries"
      ]
    },
    {
      "cell_type": "code",
      "execution_count": null,
      "metadata": {
        "id": "4362PEEZfpQB"
      },
      "outputs": [],
      "source": [
        "!pip install hyperspy[all]\n",
        "!git clone --branch final https://github.com/poyentung/unmix.git\n",
        "from IPython.display import clear_output \n",
        "clear_output()\n",
        "\n",
        "\n",
        "import sys\n",
        "import os\n",
        "sys.path.append(os.path.join(os.getcwd(), 'unmix'))\n",
        "\n",
        "from utils import normalisation as norm \n",
        "from utils import visualisation as visual\n",
        "from utils.load import SEMDataset\n",
        "from src.utils import same_seeds\n",
        "from src.dim_reduction import Experiment\n",
        "from models.autoencoder import AutoEncoder\n",
        "from src.segmentation import PixelSegmenter\n",
        "from py_widgets import widgets\n",
        "\n",
        "%load_ext autoreload\n",
        "%autoreload 2"
      ]
    },
    {
      "cell_type": "markdown",
      "source": [
        "# Load files"
      ],
      "metadata": {
        "id": "olPzlO4gsAuG"
      }
    },
    {
      "cell_type": "markdown",
      "source": [
        "## Test file"
      ],
      "metadata": {
        "id": "SSSp78yf7-0_"
      }
    },
    {
      "cell_type": "code",
      "source": [
        "# locate the file path\n",
        "file_path = 'unmix/tutorial/test.bcf'\n",
        "\n",
        "# Load .bcf file\n",
        "sem = SEMDataset(file_path)\n",
        "\n",
        "# Set the elemental peaks in the dataset\n",
        "sem.set_feature_list(['Al_Ka', 'C_Ka', 'Ca_Ka', 'Fe_Ka', 'K_Ka', 'O_Ka', 'Si_Ka', 'Ti_Ka', 'Zn_La'])"
      ],
      "metadata": {
        "colab": {
          "base_uri": "https://localhost:8080/"
        },
        "id": "0nDs8V4Vqxqx",
        "outputId": "0de468d1-7808-4988-81b0-d97473a5e49f"
      },
      "execution_count": null,
      "outputs": [
        {
          "output_type": "stream",
          "name": "stdout",
          "text": [
            "Set feature_list to ['Al_Ka', 'C_Ka', 'Ca_Ka', 'Fe_Ka', 'K_Ka', 'O_Ka', 'Si_Ka', 'Ti_Ka', 'Zn_La']\n"
          ]
        }
      ]
    },
    {
      "cell_type": "markdown",
      "source": [
        "## Upload file"
      ],
      "metadata": {
        "id": "O-xiV2It7rrm"
      }
    },
    {
      "cell_type": "code",
      "source": [
        "from google.colab import files\n",
        "uploaded = files.upload()\n",
        "\n",
        "file_path=list(uploaded.keys())[0]\n",
        "sem = SEMDataset(file_path)"
      ],
      "metadata": {
        "id": "2Wd0omy47rJb"
      },
      "execution_count": null,
      "outputs": []
    },
    {
      "cell_type": "markdown",
      "metadata": {
        "id": "vpqYK5B6m-3k"
      },
      "source": [
        "# Dataset preprocessing"
      ]
    },
    {
      "cell_type": "markdown",
      "metadata": {
        "id": "U-xGqB8EtFGU"
      },
      "source": [
        "## View the dataset\n"
      ]
    },
    {
      "cell_type": "code",
      "source": [
        "widgets.view_bcf_dataset(sem)"
      ],
      "metadata": {
        "id": "1hxwImTSrUYT"
      },
      "execution_count": null,
      "outputs": []
    },
    {
      "cell_type": "markdown",
      "metadata": {
        "id": "zjNVT8T9ttZx"
      },
      "source": [
        "## Process the dataset"
      ]
    },
    {
      "cell_type": "code",
      "source": [
        "# Rebin both edx and bse dataset\n",
        "sem.rebin_signal(size=(2,2))\n",
        "\n",
        "# normalisation to make the spectrum of each pixel summing to 1.\n",
        "sem.peak_intensity_normalisation()\n",
        "\n",
        "# Remove the first peak until the energy of 0.1 keV\n",
        "sem.remove_fist_peak(end=0.1) \n",
        "\n",
        "# Denoise the X-ray profile using PCA.\n",
        "sem.peak_denoising_PCA(n_components_to_reconstruct=10, plot_results=False)"
      ],
      "metadata": {
        "id": "_kwTAEa5rz7r"
      },
      "execution_count": null,
      "outputs": []
    },
    {
      "cell_type": "code",
      "source": [
        "# View the dataset (bse, edx etc.) at one time.\n",
        "widgets.view_bcf_dataset(sem)"
      ],
      "metadata": {
        "id": "NARhLv5ASNry"
      },
      "execution_count": null,
      "outputs": []
    },
    {
      "cell_type": "markdown",
      "metadata": {
        "id": "59GFs_0SBSkW"
      },
      "source": [
        "## Normalisation"
      ]
    },
    {
      "cell_type": "code",
      "source": [
        "# Normalise the dataset using these three methods.\n",
        "sem.normalisation([norm.neighbour_averaging, \n",
        "                   norm.zscore, \n",
        "                   norm.softmax])"
      ],
      "metadata": {
        "id": "vgCJ-sfVsNbb"
      },
      "execution_count": null,
      "outputs": []
    },
    {
      "cell_type": "code",
      "source": [
        "widgets.view_pixel_distributions(sem, \n",
        "                                norm_list=[norm.neighbour_averaging,\n",
        "                                           norm.zscore,\n",
        "                                           norm.softmax], \n",
        "                                peak='Fe_Ka', \n",
        "                                cmap='inferno')"
      ],
      "metadata": {
        "id": "oXRo2LvTqxbK"
      },
      "execution_count": null,
      "outputs": []
    },
    {
      "cell_type": "markdown",
      "source": [
        "## Assign RGB to elemental peaks"
      ],
      "metadata": {
        "id": "6PaFMEOprt3B"
      }
    },
    {
      "cell_type": "code",
      "source": [
        "widgets.view_rgb(sem)"
      ],
      "metadata": {
        "id": "MZSQgdJsZTgV"
      },
      "execution_count": null,
      "outputs": []
    },
    {
      "cell_type": "code",
      "source": [
        "print('After normalisation:')\n",
        "widgets.view_intensity_maps(edx=sem.normalised_elemental_data, element_list=sem.feature_list)"
      ],
      "metadata": {
        "id": "Uns525mlsjfm"
      },
      "execution_count": null,
      "outputs": []
    }
  ],
  "metadata": {
    "accelerator": "GPU",
    "colab": {
      "collapsed_sections": [
        "PTooJbLTkDWl"
      ],
      "name": "Check_dataset",
      "provenance": [],
      "toc_visible": true
    },
    "kernelspec": {
      "display_name": "Python 3",
      "language": "python",
      "name": "python3"
    },
    "language_info": {
      "codemirror_mode": {
        "name": "ipython",
        "version": 3
      },
      "file_extension": ".py",
      "mimetype": "text/x-python",
      "name": "python",
      "nbconvert_exporter": "python",
      "pygments_lexer": "ipython3",
      "version": "3.7.10"
    }
  },
  "nbformat": 4,
  "nbformat_minor": 0
}