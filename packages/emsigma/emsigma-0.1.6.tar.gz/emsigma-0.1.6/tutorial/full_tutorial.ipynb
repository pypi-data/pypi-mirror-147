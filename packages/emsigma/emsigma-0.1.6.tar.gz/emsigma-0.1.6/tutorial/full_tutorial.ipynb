{
  "cells": [
    {
      "cell_type": "markdown",
      "source": [
        "# Link G-drive"
      ],
      "metadata": {
        "id": "IzNo8w9CIQJJ"
      }
    },
    {
      "cell_type": "code",
      "source": [
        "from google.colab import drive\n",
        "drive.mount('/content/drive')"
      ],
      "metadata": {
        "id": "SzGYtti-o3eB"
      },
      "execution_count": null,
      "outputs": []
    },
    {
      "cell_type": "markdown",
      "metadata": {
        "id": "PTooJbLTkDWl"
      },
      "source": [
        "# Import libraries"
      ]
    },
    {
      "cell_type": "code",
      "execution_count": 2,
      "metadata": {
        "id": "Rh2VtXMO3EAI"
      },
      "outputs": [],
      "source": [
        "!pip install hyperspy[all]\n",
        "!git clone --branch final https://github.com/poyentung/unmix.git\n",
        "\n",
        "from IPython.display import clear_output \n",
        "clear_output()"
      ]
    },
    {
      "cell_type": "code",
      "execution_count": null,
      "metadata": {
        "id": "4362PEEZfpQB"
      },
      "outputs": [],
      "source": [
        "import sys\n",
        "import os\n",
        "sys.path.append(os.path.join(os.getcwd(), 'unmix'))\n",
        "\n",
        "from utils import normalisation as norm \n",
        "from utils import visualisation as visual\n",
        "from utils.load import SEMDataset\n",
        "from src.utils import same_seeds\n",
        "from src.dim_reduction import Experiment\n",
        "from models.autoencoder import AutoEncoder\n",
        "from src.segmentation import PixelSegmenter\n",
        "from py_widgets import widgets\n",
        "\n",
        "%load_ext autoreload\n",
        "%autoreload 2"
      ]
    },
    {
      "cell_type": "markdown",
      "source": [
        "# Load files"
      ],
      "metadata": {
        "id": "olPzlO4gsAuG"
      }
    },
    {
      "cell_type": "markdown",
      "source": [
        "## Test file"
      ],
      "metadata": {
        "id": "SSSp78yf7-0_"
      }
    },
    {
      "cell_type": "code",
      "source": [
        "!gdown --id '1woNRlyrBbUDIClYp_HNldzA2evdpArsi' -O 'test.bcf'\n",
        "\n",
        "file_path = 'test.bcf'\n",
        "sem = SEMDataset(file_path)\n",
        "sem.set_feature_list(['Al_Ka', 'C_Ka', 'Ca_Ka', 'Fe_Ka', 'K_Ka', 'O_Ka', 'Si_Ka', 'Ti_Ka', 'Zn_La'])"
      ],
      "metadata": {
        "id": "0nDs8V4Vqxqx"
      },
      "execution_count": null,
      "outputs": []
    },
    {
      "cell_type": "markdown",
      "source": [
        "## Upload file"
      ],
      "metadata": {
        "id": "O-xiV2It7rrm"
      }
    },
    {
      "cell_type": "code",
      "source": [
        "from google.colab import files\n",
        "uploaded = files.upload()\n",
        "\n",
        "file_path=list(uploaded.keys())[0]\n",
        "sem = SEMDataset(file_path)"
      ],
      "metadata": {
        "id": "2Wd0omy47rJb"
      },
      "execution_count": null,
      "outputs": []
    },
    {
      "cell_type": "markdown",
      "metadata": {
        "id": "vpqYK5B6m-3k"
      },
      "source": [
        "# Dataset preprocessing"
      ]
    },
    {
      "cell_type": "markdown",
      "metadata": {
        "id": "U-xGqB8EtFGU"
      },
      "source": [
        "## View the dataset\n"
      ]
    },
    {
      "cell_type": "code",
      "source": [
        "widgets.view_bcf_dataset(sem)"
      ],
      "metadata": {
        "id": "1hxwImTSrUYT"
      },
      "execution_count": null,
      "outputs": []
    },
    {
      "cell_type": "markdown",
      "metadata": {
        "id": "zjNVT8T9ttZx"
      },
      "source": [
        "## Process the dataset"
      ]
    },
    {
      "cell_type": "code",
      "source": [
        "# Rebin both edx and bse dataset\n",
        "sem.rebin_signal(size=(2,2))\n",
        "\n",
        "# normalisation to make the spectrum of each pixel summing to 1.\n",
        "sem.peak_intensity_normalisation()\n",
        "\n",
        "# Remove the first peak until the energy of 0.1 keV\n",
        "sem.remove_fist_peak(end=0.1) \n",
        "\n",
        "# Denoise the X-ray profile using PCA.\n",
        "sem.peak_denoising_PCA(n_components_to_reconstruct=10, plot_results=False)"
      ],
      "metadata": {
        "id": "_kwTAEa5rz7r"
      },
      "execution_count": null,
      "outputs": []
    },
    {
      "cell_type": "code",
      "source": [
        "# View the dataset (bse, edx etc.) at one time.\n",
        "widgets.view_bcf_dataset(sem)"
      ],
      "metadata": {
        "id": "NARhLv5ASNry"
      },
      "execution_count": null,
      "outputs": []
    },
    {
      "cell_type": "markdown",
      "metadata": {
        "id": "59GFs_0SBSkW"
      },
      "source": [
        "## Normalisation"
      ]
    },
    {
      "cell_type": "code",
      "source": [
        "# Normalise the dataset using these three methods.\n",
        "sem.normalisation([norm.neighbour_averaging, \n",
        "                   norm.zscore, \n",
        "                   norm.softmax])"
      ],
      "metadata": {
        "id": "vgCJ-sfVsNbb"
      },
      "execution_count": null,
      "outputs": []
    },
    {
      "cell_type": "code",
      "source": [
        "widgets.view_pixel_distributions(sem, \n",
        "                                norm_list=[norm.neighbour_averaging,\n",
        "                                           norm.zscore,\n",
        "                                           norm.softmax], \n",
        "                                peak='Fe_Ka', \n",
        "                                cmap='inferno')"
      ],
      "metadata": {
        "id": "oXRo2LvTqxbK"
      },
      "execution_count": null,
      "outputs": []
    },
    {
      "cell_type": "markdown",
      "source": [
        "## Assign RGB to elemental peaks"
      ],
      "metadata": {
        "id": "6PaFMEOprt3B"
      }
    },
    {
      "cell_type": "code",
      "source": [
        "widgets.view_rgb(sem)"
      ],
      "metadata": {
        "id": "MZSQgdJsZTgV"
      },
      "execution_count": null,
      "outputs": []
    },
    {
      "cell_type": "code",
      "source": [
        "print('After normalisation:')\n",
        "widgets.view_intensity_maps(edx=sem.normalised_elemental_data, element_list=sem.feature_list)"
      ],
      "metadata": {
        "id": "Uns525mlsjfm"
      },
      "execution_count": null,
      "outputs": []
    },
    {
      "cell_type": "markdown",
      "metadata": {
        "id": "f2GcAoSlnGuN"
      },
      "source": [
        "# Dimensionality reduction: Autoencoder"
      ]
    },
    {
      "cell_type": "markdown",
      "metadata": {
        "id": "k_7bn6yJBjNo"
      },
      "source": [
        "## Initialise experiment / model"
      ]
    },
    {
      "cell_type": "code",
      "source": [
        "# The integer in this function can determine different initialised parameters of model (tuning sudo randomness)\n",
        "# This can influence the result of dimensionality reduction and change the latent space.\n",
        "same_seeds(1)\n",
        "\n",
        "# Set up the experiment, e.g. determining the model structure, dataset for training etc.\n",
        "general_results_dir='/content' \n",
        "ex = Experiment(descriptor='softmax',\n",
        "                general_results_dir=general_results_dir,\n",
        "                model=AutoEncoder,\n",
        "                model_args={'hidden_layer_sizes':(512,256,128)}, # number of hidden layers and corresponding neurons\n",
        "                chosen_dataset=sem.normalised_elemental_data,\n",
        "                save_model_every_epoch=True)"
      ],
      "metadata": {
        "id": "fUcL2sddrLHC"
      },
      "execution_count": null,
      "outputs": []
    },
    {
      "cell_type": "markdown",
      "metadata": {
        "id": "lEgWJf45Bp4F"
      },
      "source": [
        "## Training"
      ]
    },
    {
      "cell_type": "code",
      "source": [
        "# Train the model\n",
        "ex.run_model(num_epochs=100,\n",
        "             patience=50, \n",
        "             batch_size=64,\n",
        "             learning_rate=1e-4, \n",
        "             weight_decay=0.0, \n",
        "             task='train_all', # Change to 'train_all' to train all the dataset without separate some parts for evaluation\n",
        "             noise_added=0.0,\n",
        "             KLD_lambda=1e-4,\n",
        "             criterion='MSE',\n",
        "             lr_scheduler_args={'factor':0.5,\n",
        "                                'patience':5, \n",
        "                                'threshold':1e-2, \n",
        "                                'min_lr':1e-6,\n",
        "                                'verbose':True}) "
      ],
      "metadata": {
        "id": "sgajwhO3rNv1"
      },
      "execution_count": null,
      "outputs": []
    },
    {
      "cell_type": "markdown",
      "metadata": {
        "id": "Pd5l795DnL8r"
      },
      "source": [
        "# Pixel segmentation: Gaussian mixture modelling (GMM) clustering"
      ]
    },
    {
      "cell_type": "markdown",
      "metadata": {
        "id": "BXi8fj7mBsxt"
      },
      "source": [
        "## (Optional) Load Autoencoder"
      ]
    },
    {
      "cell_type": "code",
      "source": [
        "from google.colab import files\n",
        "uploaded = files.upload()\n",
        "\n",
        "ex.load_trained_model(list(uploaded.keys())[0])"
      ],
      "metadata": {
        "id": "3l8O-UwrjcxP"
      },
      "execution_count": null,
      "outputs": []
    },
    {
      "cell_type": "markdown",
      "source": [
        "## Measure Baysian information criterion (BIC)"
      ],
      "metadata": {
        "id": "w_qEVkRAV7BL"
      }
    },
    {
      "cell_type": "code",
      "source": [
        "latent = ex.get_latent()\n",
        "widgets.view_bic(latent, \n",
        "                 n_components=20,\n",
        "                 model='BayesianGaussianMixture', \n",
        "                 model_args={'random_state':6, 'init_params':'kmeans'} )"
      ],
      "metadata": {
        "id": "FP2TyaUrL-D0"
      },
      "execution_count": null,
      "outputs": []
    },
    {
      "cell_type": "markdown",
      "source": [
        "## Run GMM"
      ],
      "metadata": {
        "id": "63qxth1gYc8v"
      }
    },
    {
      "cell_type": "code",
      "source": [
        "latent = ex.get_latent()\n",
        "ps = PixelSegmenter(latent, \n",
        "                    sem.normalised_elemental_data, \n",
        "                    sem,\n",
        "                    method='BayesianGaussianMixture', \n",
        "                    method_args={'n_components':12, 'random_state':6, 'init_params':'kmeans'} )\n",
        "                    # can change random_state to different integer i.e. 10 or 0 to adjust the clustering result."
      ],
      "metadata": {
        "id": "UyU0I3--rTgM"
      },
      "execution_count": 79,
      "outputs": []
    },
    {
      "cell_type": "markdown",
      "metadata": {
        "id": "TyVkwD-kwFIF"
      },
      "source": [
        "## Checking latent space"
      ]
    },
    {
      "cell_type": "code",
      "source": [
        " # Plot latent sapce (2-dimensional) with corresponding Gaussian models\n",
        "widgets.view_latent_space(ps, color=True)"
      ],
      "metadata": {
        "id": "QjrxxOLFrVfu"
      },
      "execution_count": null,
      "outputs": []
    },
    {
      "cell_type": "code",
      "source": [
        "# visualise the latent space\n",
        "widgets.check_latent_space(ps,ratio_to_be_shown=0.5, show_map=True)"
      ],
      "metadata": {
        "id": "mKJ_bEDorXpp"
      },
      "execution_count": null,
      "outputs": []
    },
    {
      "cell_type": "code",
      "source": [
        "# check the density of latent space\n",
        "ps.plot_latent_density()"
      ],
      "metadata": {
        "id": "47TKUHLorZyV"
      },
      "execution_count": null,
      "outputs": []
    },
    {
      "cell_type": "markdown",
      "source": [
        "## Checking each clusters"
      ],
      "metadata": {
        "id": "_uFv-qDOLFye"
      }
    },
    {
      "cell_type": "code",
      "source": [
        "ps.set_feature_list(['Al_Ka', 'C_Ka', 'Ca_Ka', 'Fe_Ka', 'K_Ka', 'O_Ka', 'Si_Ka', 'Ti_Ka', 'Zn_La'])\n",
        "widgets.show_cluster_distribution(ps)"
      ],
      "metadata": {
        "id": "r0fAz4OErbxj"
      },
      "execution_count": null,
      "outputs": []
    },
    {
      "cell_type": "markdown",
      "source": [
        "## Checking cluster map"
      ],
      "metadata": {
        "id": "s7hCyeiKLLii"
      }
    },
    {
      "cell_type": "code",
      "source": [
        "# Plot phase map using the corresponding GM model\n",
        "widgets.view_phase_map(ps)"
      ],
      "metadata": {
        "id": "iH9196CXre1j"
      },
      "execution_count": null,
      "outputs": []
    },
    {
      "cell_type": "code",
      "source": [
        "widgets.view_clusters_sum_spectra(ps, normalisation=True, spectra_range=(0,8))"
      ],
      "metadata": {
        "id": "5yizWZ7rrgvx"
      },
      "execution_count": null,
      "outputs": []
    },
    {
      "cell_type": "markdown",
      "source": [
        "# Unmixing cluster spectrums using Non-negative Matrix Fatorization (NMF)"
      ],
      "metadata": {
        "id": "vDqkqAHpLaN0"
      }
    },
    {
      "cell_type": "code",
      "source": [
        "weights, components = ps.get_unmixed_edx_profile(clusters_to_be_calculated='All', \n",
        "                                                 n_components='All',\n",
        "                                                 normalised=False, \n",
        "                                                 method='NMF', \n",
        "                                                 method_args={'init':'nndsvd'})"
      ],
      "metadata": {
        "id": "DWeg9UomrmzX"
      },
      "execution_count": 85,
      "outputs": []
    },
    {
      "cell_type": "code",
      "source": [
        "widgets.show_unmixed_weights_and_compoments(ps, weights, components)"
      ],
      "metadata": {
        "id": "me57SkqNrpSg"
      },
      "execution_count": null,
      "outputs": []
    },
    {
      "cell_type": "markdown",
      "source": [
        "# Statistics infro from clusters"
      ],
      "metadata": {
        "id": "hSIhNd4oLTHr"
      }
    },
    {
      "cell_type": "code",
      "source": [
        "widgets.show_cluster_stats(ps)"
      ],
      "metadata": {
        "id": "cermaBpurkg7"
      },
      "execution_count": null,
      "outputs": []
    }
  ],
  "metadata": {
    "accelerator": "GPU",
    "colab": {
      "collapsed_sections": [],
      "name": "Tutorial_github",
      "provenance": [],
      "toc_visible": true
    },
    "kernelspec": {
      "display_name": "Python 3",
      "language": "python",
      "name": "python3"
    },
    "language_info": {
      "codemirror_mode": {
        "name": "ipython",
        "version": 3
      },
      "file_extension": ".py",
      "mimetype": "text/x-python",
      "name": "python",
      "nbconvert_exporter": "python",
      "pygments_lexer": "ipython3",
      "version": "3.7.10"
    }
  },
  "nbformat": 4,
  "nbformat_minor": 0
}
