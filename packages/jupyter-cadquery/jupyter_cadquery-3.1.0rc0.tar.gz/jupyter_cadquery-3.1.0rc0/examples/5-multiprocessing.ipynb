{
 "cells": [
  {
   "cell_type": "code",
   "execution_count": null,
   "id": "224320a1-63b7-442b-ad56-8fcf82a48528",
   "metadata": {},
   "outputs": [],
   "source": [
    "import cadquery as cq\n",
    "from jupyter_cadquery import show, open_viewer, PartGroup, Part, set_defaults, get_viewer\n",
    "from jupyter_cadquery.tessellator import cache\n",
    "from jupyter_cadquery.ocp_utils import StepReader\n",
    "\n",
    "from jupyter_cadquery import versions\n",
    "versions()"
   ]
  },
  {
   "cell_type": "code",
   "execution_count": null,
   "id": "0f2c24b4-99a9-4726-9905-6fa9a021d6ef",
   "metadata": {},
   "outputs": [],
   "source": [
    "cv = open_viewer(\"RC\", tree_width=400)\n",
    "\n",
    "set_defaults(angular_tolerance=0.3, timeit=False)"
   ]
  },
  {
   "cell_type": "markdown",
   "id": "986cdd12-c7dd-4ddc-83c4-8988f0424715",
   "metadata": {},
   "source": [
    "**Model Info:**\n",
    "\n",
    "- Source: https://github.com/tpaviot/pythonocc-demos/blob/master/assets/models/RC_Buggy_2_front_suspension.stp\n",
    "- Original: https://grabcad.com/library/rc-nitro-buggy_2-front-suspension-1#!\n",
    "- Author: Nagy Imre"
   ]
  },
  {
   "cell_type": "code",
   "execution_count": null,
   "id": "3278e055-6ee5-4067-928a-4c0d9fd975a6",
   "metadata": {},
   "outputs": [],
   "source": [
    "sr = StepReader()\n",
    "sr.load(\"models/RC_Buggy_2_front_suspension.stp\")\n",
    "rc = sr.to_cadquery()"
   ]
  },
  {
   "cell_type": "markdown",
   "id": "814c9808-2df9-4392-a0ed-c03598ea0e36",
   "metadata": {},
   "source": [
    "# Parallel tessellation with multiprocessing\n",
    "\n",
    "## Cache cleared"
   ]
  },
  {
   "cell_type": "code",
   "execution_count": null,
   "id": "7fef15cf-863a-4ad3-9f38-ecc0adec8204",
   "metadata": {},
   "outputs": [],
   "source": [
    "set_defaults(parallel=True)\n",
    "cache.clear()\n",
    "rc"
   ]
  },
  {
   "cell_type": "code",
   "execution_count": null,
   "id": "4639044a-1942-4c32-945e-439a0f084bdc",
   "metadata": {},
   "outputs": [],
   "source": [
    "cv = get_viewer(\"RC\")\n",
    "\n",
    "cv.position = (573.6, 376.5, 651.3)\n",
    "cv.quaternion = (0.1763, -0.3343, -0.0713, -0.9230)\n",
    "cv.target = (0, 14.8, -40.6)\n",
    "cv.zoom = 1.35"
   ]
  },
  {
   "cell_type": "code",
   "execution_count": null,
   "id": "b3756ee3-d45d-46a2-9fb9-3e5ab28f1d30",
   "metadata": {},
   "outputs": [],
   "source": [
    "cv.transparent = not cv.transparent"
   ]
  },
  {
   "cell_type": "markdown",
   "id": "eb4cd50f-fee6-4951-bf2e-d1ef2ab471b0",
   "metadata": {},
   "source": [
    "## All objects are cached"
   ]
  },
  {
   "cell_type": "code",
   "execution_count": null,
   "id": "4e1e5b3a-f52f-41fe-930f-f7f7532e2169",
   "metadata": {},
   "outputs": [],
   "source": [
    "rc"
   ]
  },
  {
   "cell_type": "code",
   "execution_count": null,
   "id": "621c7f96-ed3f-49ad-8cf2-fbcb5de6d494",
   "metadata": {},
   "outputs": [],
   "source": [
    "cache.currsize / cache.maxsize"
   ]
  },
  {
   "cell_type": "markdown",
   "id": "992bbbee-170b-4ee1-af0d-9277caed75ff",
   "metadata": {},
   "source": [
    "# Single CPU tessellation\n",
    "\n",
    "## Cache cleared"
   ]
  },
  {
   "cell_type": "code",
   "execution_count": null,
   "id": "c32b5b5f-750f-47bd-ac5f-1a99ba74ff8d",
   "metadata": {},
   "outputs": [],
   "source": [
    "cache.clear()"
   ]
  },
  {
   "cell_type": "code",
   "execution_count": null,
   "id": "ebf469e4-15f5-45a2-8609-283a0a1eac26",
   "metadata": {},
   "outputs": [],
   "source": [
    "cv = show(rc, parallel=False)"
   ]
  },
  {
   "cell_type": "markdown",
   "id": "63cce506-a51e-4084-92bd-949c70aafb49",
   "metadata": {},
   "source": [
    "## All objects are cached"
   ]
  },
  {
   "cell_type": "code",
   "execution_count": null,
   "id": "44358bb5-a315-480b-a001-849d5115e93c",
   "metadata": {},
   "outputs": [],
   "source": [
    "cv = show(rc,parallel=False)"
   ]
  },
  {
   "cell_type": "code",
   "execution_count": null,
   "id": "523f6cd0-f582-4e4f-a0c5-d2a4513f3d51",
   "metadata": {},
   "outputs": [],
   "source": []
  }
 ],
 "metadata": {
  "language_info": {
   "name": "python",
   "pygments_lexer": "ipython3"
  },
  "kernelspec": {
   "display_name": "Python 3",
   "language": "python",
   "name": "python3"
  }
 },
 "nbformat": 4,
 "nbformat_minor": 5
}
