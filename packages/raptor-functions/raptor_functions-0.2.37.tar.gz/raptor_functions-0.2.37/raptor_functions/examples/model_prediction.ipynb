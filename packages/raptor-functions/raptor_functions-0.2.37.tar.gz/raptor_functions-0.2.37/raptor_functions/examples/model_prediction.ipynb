{
  "nbformat": 4,
  "nbformat_minor": 0,
  "metadata": {
    "colab": {
      "name": "model_prediction.ipynb",
      "provenance": []
    },
    "kernelspec": {
      "name": "python3",
      "display_name": "Python 3"
    },
    "language_info": {
      "name": "python"
    }
  },
  "cells": [
    {
      "cell_type": "markdown",
      "source": [
        "## Install Necessary Libraries"
      ],
      "metadata": {
        "id": "qzhmNAhp1V_C"
      }
    },
    {
      "cell_type": "code",
      "execution_count": null,
      "metadata": {
        "id": "5LbpziBsCpas"
      },
      "outputs": [],
      "source": [
        "!pip install mlflow tsfresh boto3 awscli raptor_functions"
      ]
    },
    {
      "cell_type": "markdown",
      "source": [
        "## AWS Configuration"
      ],
      "metadata": {
        "id": "DMJqYocm1a7Q"
      }
    },
    {
      "cell_type": "code",
      "source": [
        "!aws configure"
      ],
      "metadata": {
        "id": "L6andlSSuLJQ"
      },
      "execution_count": null,
      "outputs": []
    },
    {
      "cell_type": "markdown",
      "source": [
        "## Import Necessary Packages"
      ],
      "metadata": {
        "id": "QrvsoqhD1SVy"
      }
    },
    {
      "cell_type": "code",
      "source": [
        "import warnings\n",
        "warnings.filterwarnings('ignore')\n",
        "\n",
        "\n",
        "\n",
        "import mlflow\n",
        "from raptor_functions.supervised.datasets import get_data\n",
        "from raptor_functions.supervised.prediction import get_prediction_features\n"
      ],
      "metadata": {
        "id": "bLt6GtpYCrXM"
      },
      "execution_count": 1,
      "outputs": []
    },
    {
      "cell_type": "markdown",
      "source": [
        "## Load Data"
      ],
      "metadata": {
        "id": "KpU0ceyX1PS6"
      }
    },
    {
      "cell_type": "code",
      "source": [
        "df = get_data('handheld_data')\n",
        "df.head()"
      ],
      "metadata": {
        "colab": {
          "base_uri": "https://localhost:8080/",
          "height": 404
        },
        "id": "bxOCdrPWC5Ka",
        "outputId": "3de73027-d861-4e79-a7f3-a5d604ddad85"
      },
      "execution_count": 2,
      "outputs": [
        {
          "output_type": "execute_result",
          "data": {
            "text/plain": [
              "   exp_unique_id  exp_name  timesteps  sensor_1  sensor_2  sensor_3  sensor_4  \\\n",
              "0              0  Test 24           1   131.938   132.443   177.444   178.157   \n",
              "1              0  Test 24           2   133.078   133.972   177.444   178.694   \n",
              "2              0  Test 24           3   131.812   132.064   177.622   178.694   \n",
              "3              0  Test 24           4   131.059   132.064   177.444   178.694   \n",
              "4              0  Test 24           5   131.435   131.938   177.622   178.694   \n",
              "\n",
              "   sensor_5  sensor_6  sensor_7  ...  sensor_23  sensor_24   Humidity (r.h.)  \\\n",
              "0    44.974    44.508   219.374  ...    143.288    142.050             46.07   \n",
              "1    45.131    44.611   219.607  ...    142.874    141.914             46.07   \n",
              "2    45.183    44.663   219.841  ...    143.288    141.914             46.07   \n",
              "3    45.183    44.663   219.607  ...    142.599    141.368             46.07   \n",
              "4    45.131    44.663   219.607  ...    142.187    140.825             46.07   \n",
              "\n",
              "   measurement_stage   date_exp  time_elapsed  datetime_exp_start  \\\n",
              "0           baseline  21/3/2022          0.00            14:12:54   \n",
              "1           baseline  21/3/2022          0.25            14:12:54   \n",
              "2           baseline  21/3/2022          0.50            14:12:54   \n",
              "3           baseline  21/3/2022          0.75            14:12:54   \n",
              "4           baseline  21/3/2022          1.00            14:12:54   \n",
              "\n",
              "              datetime_exp                        filename   result  \n",
              "0  2022-03-21 14:12:54.000  5 NegTest_3_20220321_14_12.txt  Control  \n",
              "1  2022-03-21 14:12:54.250  5 NegTest_3_20220321_14_12.txt  Control  \n",
              "2  2022-03-21 14:12:54.500  5 NegTest_3_20220321_14_12.txt  Control  \n",
              "3  2022-03-21 14:12:54.750  5 NegTest_3_20220321_14_12.txt  Control  \n",
              "4  2022-03-21 14:12:55.000  5 NegTest_3_20220321_14_12.txt  Control  \n",
              "\n",
              "[5 rows x 35 columns]"
            ],
            "text/html": [
              "\n",
              "  <div id=\"df-66037f2e-9e7f-4606-8e0c-4e7cd81f22be\">\n",
              "    <div class=\"colab-df-container\">\n",
              "      <div>\n",
              "<style scoped>\n",
              "    .dataframe tbody tr th:only-of-type {\n",
              "        vertical-align: middle;\n",
              "    }\n",
              "\n",
              "    .dataframe tbody tr th {\n",
              "        vertical-align: top;\n",
              "    }\n",
              "\n",
              "    .dataframe thead th {\n",
              "        text-align: right;\n",
              "    }\n",
              "</style>\n",
              "<table border=\"1\" class=\"dataframe\">\n",
              "  <thead>\n",
              "    <tr style=\"text-align: right;\">\n",
              "      <th></th>\n",
              "      <th>exp_unique_id</th>\n",
              "      <th>exp_name</th>\n",
              "      <th>timesteps</th>\n",
              "      <th>sensor_1</th>\n",
              "      <th>sensor_2</th>\n",
              "      <th>sensor_3</th>\n",
              "      <th>sensor_4</th>\n",
              "      <th>sensor_5</th>\n",
              "      <th>sensor_6</th>\n",
              "      <th>sensor_7</th>\n",
              "      <th>...</th>\n",
              "      <th>sensor_23</th>\n",
              "      <th>sensor_24</th>\n",
              "      <th>Humidity (r.h.)</th>\n",
              "      <th>measurement_stage</th>\n",
              "      <th>date_exp</th>\n",
              "      <th>time_elapsed</th>\n",
              "      <th>datetime_exp_start</th>\n",
              "      <th>datetime_exp</th>\n",
              "      <th>filename</th>\n",
              "      <th>result</th>\n",
              "    </tr>\n",
              "  </thead>\n",
              "  <tbody>\n",
              "    <tr>\n",
              "      <th>0</th>\n",
              "      <td>0</td>\n",
              "      <td>Test 24</td>\n",
              "      <td>1</td>\n",
              "      <td>131.938</td>\n",
              "      <td>132.443</td>\n",
              "      <td>177.444</td>\n",
              "      <td>178.157</td>\n",
              "      <td>44.974</td>\n",
              "      <td>44.508</td>\n",
              "      <td>219.374</td>\n",
              "      <td>...</td>\n",
              "      <td>143.288</td>\n",
              "      <td>142.050</td>\n",
              "      <td>46.07</td>\n",
              "      <td>baseline</td>\n",
              "      <td>21/3/2022</td>\n",
              "      <td>0.00</td>\n",
              "      <td>14:12:54</td>\n",
              "      <td>2022-03-21 14:12:54.000</td>\n",
              "      <td>5 NegTest_3_20220321_14_12.txt</td>\n",
              "      <td>Control</td>\n",
              "    </tr>\n",
              "    <tr>\n",
              "      <th>1</th>\n",
              "      <td>0</td>\n",
              "      <td>Test 24</td>\n",
              "      <td>2</td>\n",
              "      <td>133.078</td>\n",
              "      <td>133.972</td>\n",
              "      <td>177.444</td>\n",
              "      <td>178.694</td>\n",
              "      <td>45.131</td>\n",
              "      <td>44.611</td>\n",
              "      <td>219.607</td>\n",
              "      <td>...</td>\n",
              "      <td>142.874</td>\n",
              "      <td>141.914</td>\n",
              "      <td>46.07</td>\n",
              "      <td>baseline</td>\n",
              "      <td>21/3/2022</td>\n",
              "      <td>0.25</td>\n",
              "      <td>14:12:54</td>\n",
              "      <td>2022-03-21 14:12:54.250</td>\n",
              "      <td>5 NegTest_3_20220321_14_12.txt</td>\n",
              "      <td>Control</td>\n",
              "    </tr>\n",
              "    <tr>\n",
              "      <th>2</th>\n",
              "      <td>0</td>\n",
              "      <td>Test 24</td>\n",
              "      <td>3</td>\n",
              "      <td>131.812</td>\n",
              "      <td>132.064</td>\n",
              "      <td>177.622</td>\n",
              "      <td>178.694</td>\n",
              "      <td>45.183</td>\n",
              "      <td>44.663</td>\n",
              "      <td>219.841</td>\n",
              "      <td>...</td>\n",
              "      <td>143.288</td>\n",
              "      <td>141.914</td>\n",
              "      <td>46.07</td>\n",
              "      <td>baseline</td>\n",
              "      <td>21/3/2022</td>\n",
              "      <td>0.50</td>\n",
              "      <td>14:12:54</td>\n",
              "      <td>2022-03-21 14:12:54.500</td>\n",
              "      <td>5 NegTest_3_20220321_14_12.txt</td>\n",
              "      <td>Control</td>\n",
              "    </tr>\n",
              "    <tr>\n",
              "      <th>3</th>\n",
              "      <td>0</td>\n",
              "      <td>Test 24</td>\n",
              "      <td>4</td>\n",
              "      <td>131.059</td>\n",
              "      <td>132.064</td>\n",
              "      <td>177.444</td>\n",
              "      <td>178.694</td>\n",
              "      <td>45.183</td>\n",
              "      <td>44.663</td>\n",
              "      <td>219.607</td>\n",
              "      <td>...</td>\n",
              "      <td>142.599</td>\n",
              "      <td>141.368</td>\n",
              "      <td>46.07</td>\n",
              "      <td>baseline</td>\n",
              "      <td>21/3/2022</td>\n",
              "      <td>0.75</td>\n",
              "      <td>14:12:54</td>\n",
              "      <td>2022-03-21 14:12:54.750</td>\n",
              "      <td>5 NegTest_3_20220321_14_12.txt</td>\n",
              "      <td>Control</td>\n",
              "    </tr>\n",
              "    <tr>\n",
              "      <th>4</th>\n",
              "      <td>0</td>\n",
              "      <td>Test 24</td>\n",
              "      <td>5</td>\n",
              "      <td>131.435</td>\n",
              "      <td>131.938</td>\n",
              "      <td>177.622</td>\n",
              "      <td>178.694</td>\n",
              "      <td>45.131</td>\n",
              "      <td>44.663</td>\n",
              "      <td>219.607</td>\n",
              "      <td>...</td>\n",
              "      <td>142.187</td>\n",
              "      <td>140.825</td>\n",
              "      <td>46.07</td>\n",
              "      <td>baseline</td>\n",
              "      <td>21/3/2022</td>\n",
              "      <td>1.00</td>\n",
              "      <td>14:12:54</td>\n",
              "      <td>2022-03-21 14:12:55.000</td>\n",
              "      <td>5 NegTest_3_20220321_14_12.txt</td>\n",
              "      <td>Control</td>\n",
              "    </tr>\n",
              "  </tbody>\n",
              "</table>\n",
              "<p>5 rows × 35 columns</p>\n",
              "</div>\n",
              "      <button class=\"colab-df-convert\" onclick=\"convertToInteractive('df-66037f2e-9e7f-4606-8e0c-4e7cd81f22be')\"\n",
              "              title=\"Convert this dataframe to an interactive table.\"\n",
              "              style=\"display:none;\">\n",
              "        \n",
              "  <svg xmlns=\"http://www.w3.org/2000/svg\" height=\"24px\"viewBox=\"0 0 24 24\"\n",
              "       width=\"24px\">\n",
              "    <path d=\"M0 0h24v24H0V0z\" fill=\"none\"/>\n",
              "    <path d=\"M18.56 5.44l.94 2.06.94-2.06 2.06-.94-2.06-.94-.94-2.06-.94 2.06-2.06.94zm-11 1L8.5 8.5l.94-2.06 2.06-.94-2.06-.94L8.5 2.5l-.94 2.06-2.06.94zm10 10l.94 2.06.94-2.06 2.06-.94-2.06-.94-.94-2.06-.94 2.06-2.06.94z\"/><path d=\"M17.41 7.96l-1.37-1.37c-.4-.4-.92-.59-1.43-.59-.52 0-1.04.2-1.43.59L10.3 9.45l-7.72 7.72c-.78.78-.78 2.05 0 2.83L4 21.41c.39.39.9.59 1.41.59.51 0 1.02-.2 1.41-.59l7.78-7.78 2.81-2.81c.8-.78.8-2.07 0-2.86zM5.41 20L4 18.59l7.72-7.72 1.47 1.35L5.41 20z\"/>\n",
              "  </svg>\n",
              "      </button>\n",
              "      \n",
              "  <style>\n",
              "    .colab-df-container {\n",
              "      display:flex;\n",
              "      flex-wrap:wrap;\n",
              "      gap: 12px;\n",
              "    }\n",
              "\n",
              "    .colab-df-convert {\n",
              "      background-color: #E8F0FE;\n",
              "      border: none;\n",
              "      border-radius: 50%;\n",
              "      cursor: pointer;\n",
              "      display: none;\n",
              "      fill: #1967D2;\n",
              "      height: 32px;\n",
              "      padding: 0 0 0 0;\n",
              "      width: 32px;\n",
              "    }\n",
              "\n",
              "    .colab-df-convert:hover {\n",
              "      background-color: #E2EBFA;\n",
              "      box-shadow: 0px 1px 2px rgba(60, 64, 67, 0.3), 0px 1px 3px 1px rgba(60, 64, 67, 0.15);\n",
              "      fill: #174EA6;\n",
              "    }\n",
              "\n",
              "    [theme=dark] .colab-df-convert {\n",
              "      background-color: #3B4455;\n",
              "      fill: #D2E3FC;\n",
              "    }\n",
              "\n",
              "    [theme=dark] .colab-df-convert:hover {\n",
              "      background-color: #434B5C;\n",
              "      box-shadow: 0px 1px 3px 1px rgba(0, 0, 0, 0.15);\n",
              "      filter: drop-shadow(0px 1px 2px rgba(0, 0, 0, 0.3));\n",
              "      fill: #FFFFFF;\n",
              "    }\n",
              "  </style>\n",
              "\n",
              "      <script>\n",
              "        const buttonEl =\n",
              "          document.querySelector('#df-66037f2e-9e7f-4606-8e0c-4e7cd81f22be button.colab-df-convert');\n",
              "        buttonEl.style.display =\n",
              "          google.colab.kernel.accessAllowed ? 'block' : 'none';\n",
              "\n",
              "        async function convertToInteractive(key) {\n",
              "          const element = document.querySelector('#df-66037f2e-9e7f-4606-8e0c-4e7cd81f22be');\n",
              "          const dataTable =\n",
              "            await google.colab.kernel.invokeFunction('convertToInteractive',\n",
              "                                                     [key], {});\n",
              "          if (!dataTable) return;\n",
              "\n",
              "          const docLinkHtml = 'Like what you see? Visit the ' +\n",
              "            '<a target=\"_blank\" href=https://colab.research.google.com/notebooks/data_table.ipynb>data table notebook</a>'\n",
              "            + ' to learn more about interactive tables.';\n",
              "          element.innerHTML = '';\n",
              "          dataTable['output_type'] = 'display_data';\n",
              "          await google.colab.output.renderOutput(dataTable, element);\n",
              "          const docLink = document.createElement('div');\n",
              "          docLink.innerHTML = docLinkHtml;\n",
              "          element.appendChild(docLink);\n",
              "        }\n",
              "      </script>\n",
              "    </div>\n",
              "  </div>\n",
              "  "
            ]
          },
          "metadata": {},
          "execution_count": 2
        }
      ]
    },
    {
      "cell_type": "markdown",
      "source": [
        "## Model Prediction"
      ],
      "metadata": {
        "id": "RlnnVryvz02-"
      }
    },
    {
      "cell_type": "code",
      "source": [
        "# assumed new data for prediction\n",
        "x = df.groupby('exp_unique_id').get_group(0)\n",
        "\n",
        "# Go to mlflow and copy relevant features from relevant_features tag of model to be used for prediciton\n",
        "relevant_features = ['sensor_5__fft_coefficient__attr_\"angle\"__coeff_34', 'sensor_23__maximum']\n",
        "\n",
        "\n",
        "data = get_prediction_features(x, relevant_features)\n"
      ],
      "metadata": {
        "id": "ca-Qf2vfRQmy",
        "colab": {
          "base_uri": "https://localhost:8080/"
        },
        "outputId": "1e450c39-afb3-41e6-886b-bdf0f2b7a61a"
      },
      "execution_count": 3,
      "outputs": [
        {
          "output_type": "stream",
          "name": "stderr",
          "text": [
            "Feature Extraction: 100%|██████████| 33/33 [00:00<00:00, 6498.52it/s]\n"
          ]
        }
      ]
    },
    {
      "cell_type": "code",
      "source": [
        "\n",
        "# use the full model path from s3 bucket (should begin with s3:// )\n",
        "logged_model = 's3://raptor-mlflow-data/mlartifacts/1/99e55fa13b224817bdc47375af832289/artifacts/Random Forest Classifier'\n",
        "\n",
        "\n",
        "# Load model as a PyFuncModel.\n",
        "loaded_model = mlflow.pyfunc.load_model(logged_model)\n",
        "\n",
        "# Predict on a Pandas DataFrame.\n",
        "import pandas as pd\n",
        "pred = loaded_model.predict(pd.DataFrame(data))"
      ],
      "metadata": {
        "id": "t-5-3A_gRcgl",
        "colab": {
          "base_uri": "https://localhost:8080/"
        },
        "outputId": "30beceea-59e1-4230-9caf-2e5b80ee8376"
      },
      "execution_count": 4,
      "outputs": [
        {
          "output_type": "stream",
          "name": "stderr",
          "text": [
            "2022/04/13 00:19:21 WARNING mlflow.pyfunc: Detected one or more mismatches between the model's dependencies and the current Python environment:\n",
            " - psutil (current: 5.4.8, required: psutil==5.8.0)\n",
            " - scikit-learn (current: 1.0.2, required: scikit-learn==0.23.2)\n",
            "To fix the mismatches, call `mlflow.pyfunc.get_model_dependencies(model_uri)` to fetch the model's environment and install dependencies using the resulting environment file.\n"
          ]
        }
      ]
    },
    {
      "cell_type": "code",
      "source": [
        "pred"
      ],
      "metadata": {
        "colab": {
          "base_uri": "https://localhost:8080/"
        },
        "id": "WOqNZWB002iT",
        "outputId": "ed659620-a349-4628-ec04-dab7f3dacdc2"
      },
      "execution_count": 5,
      "outputs": [
        {
          "output_type": "execute_result",
          "data": {
            "text/plain": [
              "array([1])"
            ]
          },
          "metadata": {},
          "execution_count": 5
        }
      ]
    },
    {
      "cell_type": "markdown",
      "source": [
        "## To remove warning shown above"
      ],
      "metadata": {
        "id": "Ei7rHoKL0pwC"
      }
    },
    {
      "cell_type": "code",
      "source": [
        "mlflow.pyfunc.get_model_dependencies(logged_model)"
      ],
      "metadata": {
        "colab": {
          "base_uri": "https://localhost:8080/",
          "height": 73
        },
        "id": "cArdDGr-0vdt",
        "outputId": "81f31b9d-3023-4f19-f194-f2a1fd33bb68"
      },
      "execution_count": 6,
      "outputs": [
        {
          "output_type": "stream",
          "name": "stderr",
          "text": [
            "2022/04/13 00:19:36 INFO mlflow.pyfunc: To install these model dependencies, run the following command: 'pip install -r /tmp/tmpj1o7a7uq/requirements.txt'.\n"
          ]
        },
        {
          "output_type": "execute_result",
          "data": {
            "text/plain": [
              "'/tmp/tmpj1o7a7uq/requirements.txt'"
            ],
            "application/vnd.google.colaboratory.intrinsic+json": {
              "type": "string"
            }
          },
          "metadata": {},
          "execution_count": 6
        }
      ]
    },
    {
      "cell_type": "code",
      "source": [
        "# install model dependencies running the command shown above\n",
        "!pip install -r /tmp/tmpdp46hihy/requirements.txt"
      ],
      "metadata": {
        "id": "hl-C3xnLrdiw"
      },
      "execution_count": null,
      "outputs": []
    },
    {
      "cell_type": "code",
      "source": [
        "pred = loaded_model.predict(pd.DataFrame(data))"
      ],
      "metadata": {
        "id": "9AdPvKYmrRQv"
      },
      "execution_count": 7,
      "outputs": []
    },
    {
      "cell_type": "code",
      "source": [
        "pred"
      ],
      "metadata": {
        "colab": {
          "base_uri": "https://localhost:8080/"
        },
        "id": "RPHF_Bhh1KTR",
        "outputId": "62351ff8-5241-422b-83a6-521e5c4c30e2"
      },
      "execution_count": 8,
      "outputs": [
        {
          "output_type": "execute_result",
          "data": {
            "text/plain": [
              "array([1])"
            ]
          },
          "metadata": {},
          "execution_count": 8
        }
      ]
    },
    {
      "cell_type": "markdown",
      "source": [
        "## Load Model From Registry"
      ],
      "metadata": {
        "id": "tjII39SyUqjC"
      }
    },
    {
      "cell_type": "code",
      "source": [
        "# %env MLFLOW_TRACKING_URI=http://ec2-3-10-175-206.eu-west-2.compute.amazonaws.com:5000\n"
      ],
      "metadata": {
        "id": "vP5sgEdOUN2f"
      },
      "execution_count": null,
      "outputs": []
    },
    {
      "cell_type": "code",
      "source": [
        "# import os\n",
        "# os.environ['MLFLOW_TRACKING_URI'] = http://ec2-3-10-175-206.eu-west-2.compute.amazonaws.com:5000"
      ],
      "metadata": {
        "id": "-RMjdY3BUVsT"
      },
      "execution_count": null,
      "outputs": []
    },
    {
      "cell_type": "code",
      "source": [
        "# import mlflow.pyfunc\n",
        "\n",
        "# model_name = \"Logistic_Regression\"\n",
        "# model_version = 1\n",
        "\n",
        "# model = mlflow.pyfunc.load_model(\n",
        "#     model_uri=f\"models:/{model_name}/{model_version}\"\n",
        "# )\n",
        "\n",
        "# model.predict(data)"
      ],
      "metadata": {
        "id": "WP2xrjiZRwjc"
      },
      "execution_count": null,
      "outputs": []
    },
    {
      "cell_type": "code",
      "source": [
        ""
      ],
      "metadata": {
        "id": "fKVBcNuMSmm0"
      },
      "execution_count": null,
      "outputs": []
    }
  ]
}