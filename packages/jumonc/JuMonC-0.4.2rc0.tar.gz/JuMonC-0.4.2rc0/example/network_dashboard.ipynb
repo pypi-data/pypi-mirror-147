{
 "cells": [
  {
   "cell_type": "markdown",
   "id": "098950cd-a5a7-417b-b4c4-2795b4d63f45",
   "metadata": {},
   "source": [
    "# Import needed dependencies"
   ]
  },
  {
   "cell_type": "code",
   "execution_count": 1,
   "id": "59b8072e-beb3-4e2c-a444-9e7bb843f4ef",
   "metadata": {},
   "outputs": [],
   "source": [
    "import urllib.request\n",
    "import json\n",
    "import re\n",
    "\n",
    "import ipywidgets as widgets\n",
    "import matplotlib.pyplot as plt\n",
    "%matplotlib widget\n",
    "\n",
    "import threading\n",
    "import time"
   ]
  },
  {
   "cell_type": "markdown",
   "id": "27f57153-b996-4612-b8fc-20eb0726a99b",
   "metadata": {},
   "source": [
    "# Setup Controlling Variables"
   ]
  },
  {
   "cell_type": "markdown",
   "id": "04b9532a-87cb-4b54-aca1-0a24e90239de",
   "metadata": {},
   "source": [
    "Start JuMonC and copy a scope token of at least `compute_data` scope. Fill i nthis token and adjust the baseurl if you are not running on the same port or not on localhost and fill in a correct token."
   ]
  },
  {
   "cell_type": "code",
   "execution_count": 2,
   "id": "53899a94-7f8f-4722-8e16-c7269bf7e27f",
   "metadata": {},
   "outputs": [],
   "source": [
    "scopeToken = \"dd48f3a0da63ffed740157e2f14a5573877bdff875027da8\"\n",
    "baseurl = \"http://localhost:12121/\"\n",
    "networkPath = \"v1/network/status/\"\n",
    "\n",
    "max_members = 31\n",
    "timeStep = 2.0\n",
    "\n",
    "data = None\n",
    "lastData = None\n",
    "startTime = None\n",
    "dataLock = threading.Lock()\n",
    "\n",
    "output = widgets.Output()\n",
    "paused = False\n",
    "linePlot = True\n",
    "fig = None"
   ]
  },
  {
   "cell_type": "markdown",
   "id": "f54f484e-e83e-433f-b39c-40a68e8eaf08",
   "metadata": {},
   "source": [
    "# Query JuMonC network capabilities"
   ]
  },
  {
   "cell_type": "code",
   "execution_count": 3,
   "id": "4ce8cae6-d704-4f15-b988-26a2220bc1c9",
   "metadata": {},
   "outputs": [],
   "source": [
    "with urllib.request.urlopen(baseurl + networkPath + \"?token=\" + scopeToken) as response:\n",
    "    links = []\n",
    "    text = response.read()\n",
    "    text = text.decode(\"utf8\", 'ignore')\n",
    "    textDic = json.loads(text)\n",
    "        \n",
    "    for element in textDic:\n",
    "        try:\n",
    "            links.append(element[\"link\"].split(\"/\")[-1])\n",
    "        except:\n",
    "            continue\n",
    "          \n",
    "    del links[0]\n",
    "    dataTypes = links\n",
    "    \n",
    "    interfaceDes = textDic[0][\"parameters\"][1][\"description\"]\n",
    "    interfacesText = re.search('\\[(.*)\\]', interfaceDes).group(1)\n",
    "    interfaces = interfacesText.split(\", \")\n",
    "    \n",
    "    for i in range(len(interfaces)):\n",
    "        interfaces[i] = interfaces[i][1:-1]\n",
    "        \n",
    "dataType = dataTypes[0]\n",
    "interface = interfaces[0]"
   ]
  },
  {
   "cell_type": "markdown",
   "id": "1ff38140-95f5-478b-9498-b6866c6bab1d",
   "metadata": {},
   "source": [
    "# Define functions for data access"
   ]
  },
  {
   "cell_type": "code",
   "execution_count": 4,
   "id": "ef957faf-9bac-466f-a766-d3024fbe34df",
   "metadata": {
    "tags": []
   },
   "outputs": [],
   "source": [
    "def getNetworkData(link, interface, scopeToken):\n",
    "    with urllib.request.urlopen(link + \"?token=\" + scopeToken + \"&humanReadable=False&interface=\" + interface) as response:\n",
    "        links = []\n",
    "        text = response.read()\n",
    "        text = text.decode(\"utf8\", 'ignore')\n",
    "        textDic = json.loads(text)\n",
    "        return textDic[0]"
   ]
  },
  {
   "cell_type": "code",
   "execution_count": 5,
   "id": "3cc9fdca-92af-42ac-a41d-6dd7c8766c04",
   "metadata": {},
   "outputs": [],
   "source": [
    "def resetData(button = None):\n",
    "    global data\n",
    "    global dataLock\n",
    "    global lastData\n",
    "    global startTime\n",
    "    \n",
    "    lastData = getNetworkData(link= baseurl + networkPath + dataType, interface = interface, scopeToken=scopeToken)\n",
    "    startTime = time.time()\n",
    "    with dataLock:\n",
    "        data = {\"time\":  [0],\n",
    "                \"trans\": [0],\n",
    "                \"rec\":   [0]}\n",
    "        with output:\n",
    "            output.clear_output()\n",
    "        init_plot()"
   ]
  },
  {
   "cell_type": "code",
   "execution_count": 6,
   "id": "de1eedf0-c5fd-487a-8255-c135864898b6",
   "metadata": {},
   "outputs": [],
   "source": [
    "def addData():\n",
    "    global data\n",
    "    global dataLock\n",
    "    global lastData\n",
    "    \n",
    "    newData = getNetworkData(link= baseurl + networkPath + dataType, interface = interface, scopeToken=scopeToken)\n",
    "    with dataLock:\n",
    "        data[\"time\"].append(time.time() - startTime)\n",
    "        timeDiff = data[\"time\"][-1] - data[\"time\"][-2]\n",
    "        data[\"trans\"].append((newData[\"transmitted\"][dataType] - lastData[\"transmitted\"][dataType]) / timeDiff)\n",
    "        data[\"rec\"].append((newData[\"received\"][dataType] - lastData[\"received\"][dataType]) / timeDiff)\n",
    "        \n",
    "        if len(data[\"time\"]) > max_members:\n",
    "            del data[\"time\"][0]\n",
    "            del data[\"trans\"][0]\n",
    "            del data[\"rec\"][0]\n",
    "    lastData = newData\n",
    "    "
   ]
  },
  {
   "cell_type": "markdown",
   "id": "c4daca46-6bb2-49d4-9550-66445f6b5f93",
   "metadata": {},
   "source": [
    "# Setup the different needed widgets"
   ]
  },
  {
   "cell_type": "code",
   "execution_count": 7,
   "id": "921243ef-9d63-4448-9377-bb32c775954a",
   "metadata": {},
   "outputs": [],
   "source": [
    "dropdownInterface = widgets.Dropdown(\n",
    "    options=interfaces,\n",
    "    description='Interface:',\n",
    "    style={'description_width': '50pt'}\n",
    ")\n",
    "\n",
    "def change_interface(change):\n",
    "    global interface\n",
    "    interface = change['new']\n",
    "    resetData()\n",
    "        \n",
    "dropdownInterface.observe(change_interface, 'value')"
   ]
  },
  {
   "cell_type": "code",
   "execution_count": 8,
   "id": "18c4b81b-dd4f-4a69-be95-da05a2795350",
   "metadata": {},
   "outputs": [],
   "source": [
    "dropdownDataType = widgets.Dropdown(\n",
    "    options=dataTypes,\n",
    "    description='DataType:',\n",
    "    style={'description_width': '50pt'}\n",
    ")\n",
    "\n",
    "def change_dataType(change):\n",
    "    global dataType\n",
    "    dataType = change['new']\n",
    "    resetData()\n",
    "        \n",
    "dropdownDataType.observe(change_dataType, 'value')"
   ]
  },
  {
   "cell_type": "code",
   "execution_count": 9,
   "id": "7f4bcd94-7b10-4aed-b178-8d3d88ad7cbb",
   "metadata": {},
   "outputs": [],
   "source": [
    "reset_button = widgets.Button(\n",
    "    description='Reset',\n",
    "    button_style='warning',\n",
    "    tooltip='Reset data',\n",
    "    icon='refresh',\n",
    "    disabled=False\n",
    ")\n",
    "\n",
    "pause_button = widgets.Button(\n",
    "    description='Pause',\n",
    "    button_style='warning',\n",
    "    tooltip='Pause',\n",
    "    icon='pause',\n",
    "    disabled=False\n",
    ")\n",
    "\n",
    "unpause_button = widgets.Button(\n",
    "    description='Unpause',\n",
    "    button_style='success', \n",
    "    tooltip='Unpause',\n",
    "    icon='play',\n",
    "    disabled=True\n",
    ")\n",
    "\n",
    "def pause(button):\n",
    "    global paused\n",
    "    pause_button.disabled = True\n",
    "    unpause_button.disabled = False\n",
    "    paused = True\n",
    "\n",
    "def unpause(button):\n",
    "    global paused\n",
    "    pause_button.disabled = False\n",
    "    unpause_button.disabled = True\n",
    "    paused = False\n",
    "\n",
    "line_button = widgets.Button(\n",
    "    description='Line plot',\n",
    "    button_style='warning',\n",
    "    tooltip='plot using a line',\n",
    "    disabled=True\n",
    ")\n",
    "\n",
    "scatter_button = widgets.Button(\n",
    "    description='Scatter plot',\n",
    "    button_style='success', \n",
    "    tooltip='plot using a scatter plot',\n",
    "    disabled=False\n",
    ")\n",
    "\n",
    "def line(button):\n",
    "    global linePlot\n",
    "    line_button.disabled = True\n",
    "    scatter_button.disabled = False\n",
    "    linePlot = True\n",
    "    update_scatter_chart()\n",
    "\n",
    "def scatter(button):\n",
    "    global linePlot\n",
    "    line_button.disabled = False\n",
    "    scatter_button.disabled = True\n",
    "    linePlot = False\n",
    "    update_scatter_chart()\n",
    "\n",
    "reset_button.on_click(resetData)\n",
    "pause_button.on_click(pause)\n",
    "unpause_button.on_click(unpause)\n",
    "line_button.on_click(line)\n",
    "scatter_button.on_click(scatter)\n",
    "\n",
    "\n",
    "\n",
    "buttons = widgets.HBox([reset_button, widgets.VBox([unpause_button, pause_button]), widgets.VBox([line_button, scatter_button])]);"
   ]
  },
  {
   "cell_type": "code",
   "execution_count": 10,
   "id": "f73cf15c-3238-4e4d-8b0d-741f937cbe0b",
   "metadata": {},
   "outputs": [],
   "source": [
    "widget_controls = widgets.HBox(children=[buttons, widgets.VBox([dropdownInterface, dropdownDataType])],\n",
    "                               layout={'margin': '4px', 'justify_content': 'space-between'});"
   ]
  },
  {
   "cell_type": "markdown",
   "id": "19266aa1-6ae8-4060-abde-cc3f26109091",
   "metadata": {
    "tags": []
   },
   "source": [
    "# Setup data plot with matplotlib"
   ]
  },
  {
   "cell_type": "code",
   "execution_count": 11,
   "id": "c91f475a-09f4-4de5-b853-e784d517a49e",
   "metadata": {
    "tags": []
   },
   "outputs": [],
   "source": [
    "def init_plot():\n",
    "    global fig\n",
    "    \n",
    "    with output:\n",
    "        with plt.style.context(\"ggplot\"):\n",
    "            fig = plt.figure(figsize=(11, 6), dpi=80)\n",
    "            fig.canvas.toolbar_visible = False\n",
    "            fig.canvas.header_visible = False\n",
    "            fig.canvas.footer_visible = False\n",
    "\n",
    "            plt.xlabel(\"Time [s]\")\n",
    "            plt.ylabel(dataType + \" [1/s]\")\n",
    "            plt.title(interface)\n",
    "            plt.xlim([-1.0 * (max_members-1) * timeStep, 0])\n",
    "\n",
    "resetData()"
   ]
  },
  {
   "cell_type": "code",
   "execution_count": 12,
   "id": "af03cc57-4a1b-47ee-9a79-e5e6cef4075b",
   "metadata": {},
   "outputs": [],
   "source": [
    "def update_scatter_chart():\n",
    "    global dataLock\n",
    "    \n",
    "    with dataLock:\n",
    "        with output:\n",
    "            x_axis = []\n",
    "            lastTime = data[\"time\"][-1]\n",
    "            for time in data[\"time\"]:\n",
    "                x_axis.append(time-lastTime)\n",
    "            with plt.style.context(\"ggplot\"):\n",
    "                fig.clear()\n",
    "                if linePlot:\n",
    "                    plt.plot(x_axis,\n",
    "                        data[\"trans\"],\n",
    "                        label = \"transmitted\"\n",
    "                       )\n",
    "\n",
    "                    plt.plot(x_axis,\n",
    "                        data[\"rec\"],\n",
    "                        label = \"recived\"\n",
    "                       )\n",
    "                else:\n",
    "                    plt.scatter(x = x_axis,\n",
    "                        y = data[\"trans\"],\n",
    "                        s=20,\n",
    "                        label = \"transmitted\"\n",
    "                       )\n",
    "\n",
    "                    plt.scatter(x = x_axis,\n",
    "                        y = data[\"rec\"],\n",
    "                        s=20,\n",
    "                        label = \"recived\"\n",
    "                       )\n",
    "\n",
    "                plt.xlabel(\"Time [s]\")\n",
    "                plt.ylabel(dataType + \" [1/s]\")\n",
    "                plt.title(interface)\n",
    "                plt.legend(loc=\"upper left\")\n",
    "                plt.xlim([-1.0 * (max_members-1) * timeStep, 0])\n",
    "                fig.canvas.draw()"
   ]
  },
  {
   "cell_type": "markdown",
   "id": "c1c131d7-4363-409b-a72d-e37f3d6fd55d",
   "metadata": {},
   "source": [
    "# Add everything to final output widget"
   ]
  },
  {
   "cell_type": "code",
   "execution_count": 13,
   "id": "5a021e63-6892-4b98-91c8-7fd80be816d3",
   "metadata": {
    "tags": []
   },
   "outputs": [
    {
     "data": {
      "application/vnd.jupyter.widget-view+json": {
       "model_id": "e18c9491c34f46e1b705354cee656f6e",
       "version_major": 2,
       "version_minor": 0
      },
      "text/plain": [
       "VBox(children=(HBox(children=(HBox(children=(Button(button_style='warning', description='Reset', icon='refresh…"
      ]
     },
     "metadata": {},
     "output_type": "display_data"
    }
   ],
   "source": [
    "widgets.VBox(children=[widget_controls, output], layout={'height': '600px', 'max_width': '900px'})"
   ]
  },
  {
   "cell_type": "markdown",
   "id": "7a000421-570e-461d-823a-bf529f5d5a5c",
   "metadata": {},
   "source": [
    "# Start background thread to retrieve data"
   ]
  },
  {
   "cell_type": "code",
   "execution_count": 14,
   "id": "85e770d8-2446-4ad6-8514-40f3adaa576c",
   "metadata": {
    "tags": []
   },
   "outputs": [],
   "source": [
    "if \"dataThreadRunning\" not in vars():\n",
    "    dataThreadRunning = False\n",
    "\n",
    "def updateData():\n",
    "    global startTime\n",
    "    global dataThreadRunning\n",
    "    \n",
    "    dataThreadRunning = True\n",
    "    \n",
    "    while True:\n",
    "        while paused:\n",
    "            time.sleep(0.25)\n",
    "        runningSince = time.time() - startTime\n",
    "        if runningSince < timeStep:\n",
    "            time.sleep(timeStep - runningSince)\n",
    "        addData()\n",
    "        time.sleep(timeStep)\n",
    "        update_scatter_chart()\n",
    "    \n",
    "thread = threading.Thread(target=updateData, args=())\n",
    "thread.start()"
   ]
  }
 ],
 "metadata": {
  "kernelspec": {
   "display_name": "Python 3 (ipykernel)",
   "language": "python",
   "name": "python3"
  },
  "language_info": {
   "codemirror_mode": {
    "name": "ipython",
    "version": 3
   },
   "file_extension": ".py",
   "mimetype": "text/x-python",
   "name": "python",
   "nbconvert_exporter": "python",
   "pygments_lexer": "ipython3",
   "version": "3.8.5"
  }
 },
 "nbformat": 4,
 "nbformat_minor": 5
}
