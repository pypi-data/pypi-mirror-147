{
 "cells": [
  {
   "cell_type": "markdown",
   "metadata": {},
   "source": [
    "# Welcome to Justuse!"
   ]
  },
  {
   "cell_type": "markdown",
   "metadata": {},
   "source": [
    "## Installation\n",
    "Before we start, let's get the latest version"
   ]
  },
  {
   "cell_type": "code",
   "execution_count": 1,
   "metadata": {
    "execution": {
     "iopub.execute_input": "2022-04-17T15:39:17.422074Z",
     "iopub.status.busy": "2022-04-17T15:39:17.419089Z",
     "iopub.status.idle": "2022-04-17T15:39:22.762190Z",
     "shell.execute_reply": "2022-04-17T15:39:22.761161Z",
     "shell.execute_reply.started": "2022-04-17T15:39:17.421968Z"
    },
    "tags": []
   },
   "outputs": [
    {
     "name": "stdout",
     "output_type": "stream",
     "text": [
      "Requirement already satisfied: justuse in /home/thorsten/anaconda3/lib/python3.8/site-packages (0.7.7)\n",
      "Requirement already satisfied: pydantic>=1.8.2 in /home/thorsten/anaconda3/lib/python3.8/site-packages (from justuse) (1.8.2)\n",
      "Requirement already satisfied: toml in /home/thorsten/anaconda3/lib/python3.8/site-packages (from justuse) (0.10.2)\n",
      "Requirement already satisfied: wheel in /home/thorsten/anaconda3/lib/python3.8/site-packages (from justuse) (0.37.0)\n",
      "Requirement already satisfied: packaging==21.0 in /home/thorsten/anaconda3/lib/python3.8/site-packages (from justuse) (21.0)\n",
      "Requirement already satisfied: requests in /home/thorsten/anaconda3/lib/python3.8/site-packages (from justuse) (2.26.0)\n",
      "Requirement already satisfied: icontract>=2.5.4 in /home/thorsten/anaconda3/lib/python3.8/site-packages (from justuse) (2.5.5)\n",
      "Requirement already satisfied: pip in /home/thorsten/anaconda3/lib/python3.8/site-packages (from justuse) (21.3.1)\n",
      "Requirement already satisfied: furl>=2.1.2 in /home/thorsten/anaconda3/lib/python3.8/site-packages (from justuse) (2.1.2)\n",
      "Requirement already satisfied: jinja2 in /home/thorsten/anaconda3/lib/python3.8/site-packages (from justuse) (2.11.3)\n",
      "Requirement already satisfied: beartype>=0.8.1 in /home/thorsten/anaconda3/lib/python3.8/site-packages (from justuse) (0.9.1)\n",
      "Requirement already satisfied: pyparsing>=2.0.2 in /home/thorsten/anaconda3/lib/python3.8/site-packages (from packaging==21.0->justuse) (3.0.4)\n",
      "Requirement already satisfied: orderedmultidict>=1.0.1 in /home/thorsten/anaconda3/lib/python3.8/site-packages (from furl>=2.1.2->justuse) (1.0.1)\n",
      "Requirement already satisfied: six>=1.8.0 in /home/thorsten/anaconda3/lib/python3.8/site-packages (from furl>=2.1.2->justuse) (1.16.0)\n",
      "Requirement already satisfied: asttokens<3,>=2 in /home/thorsten/anaconda3/lib/python3.8/site-packages (from icontract>=2.5.4->justuse) (2.0.5)\n",
      "Requirement already satisfied: typing-extensions in /home/thorsten/anaconda3/lib/python3.8/site-packages (from icontract>=2.5.4->justuse) (3.10.0.2)\n",
      "Requirement already satisfied: MarkupSafe>=0.23 in /home/thorsten/anaconda3/lib/python3.8/site-packages (from jinja2->justuse) (1.1.1)\n",
      "Requirement already satisfied: charset-normalizer~=2.0.0 in /home/thorsten/anaconda3/lib/python3.8/site-packages (from requests->justuse) (2.0.4)\n",
      "Requirement already satisfied: idna<4,>=2.5 in /home/thorsten/anaconda3/lib/python3.8/site-packages (from requests->justuse) (3.2)\n",
      "Requirement already satisfied: certifi>=2017.4.17 in /home/thorsten/anaconda3/lib/python3.8/site-packages (from requests->justuse) (2021.10.8)\n",
      "Requirement already satisfied: urllib3<1.27,>=1.21.1 in /home/thorsten/anaconda3/lib/python3.8/site-packages (from requests->justuse) (1.26.7)\n"
     ]
    },
    {
     "name": "stderr",
     "output_type": "stream",
     "text": [
      "WARNING: You are using pip version 21.3.1; however, version 22.0.4 is available.\n",
      "You should consider upgrading via the '/home/thorsten/anaconda3/bin/python3 -m pip install --upgrade pip' command.\n"
     ]
    }
   ],
   "source": [
    "%%bash\n",
    "python3 -m pip install justuse"
   ]
  },
  {
   "cell_type": "code",
   "execution_count": 2,
   "metadata": {
    "execution": {
     "iopub.execute_input": "2022-04-17T15:39:22.764229Z",
     "iopub.status.busy": "2022-04-17T15:39:22.763932Z",
     "iopub.status.idle": "2022-04-17T15:39:23.520083Z",
     "shell.execute_reply": "2022-04-17T15:39:23.518505Z",
     "shell.execute_reply.started": "2022-04-17T15:39:22.764193Z"
    },
    "tags": []
   },
   "outputs": [],
   "source": [
    "import use"
   ]
  },
  {
   "cell_type": "code",
   "execution_count": 3,
   "metadata": {
    "execution": {
     "iopub.execute_input": "2022-04-17T15:39:23.522346Z",
     "iopub.status.busy": "2022-04-17T15:39:23.522033Z",
     "iopub.status.idle": "2022-04-17T15:39:23.543946Z",
     "shell.execute_reply": "2022-04-17T15:39:23.542044Z",
     "shell.execute_reply.started": "2022-04-17T15:39:23.522312Z"
    },
    "tags": []
   },
   "outputs": [
    {
     "data": {
      "text/plain": [
       "'0.7.7'"
      ]
     },
     "execution_count": 3,
     "metadata": {},
     "output_type": "execute_result"
    }
   ],
   "source": [
    "use.__version__"
   ]
  },
  {
   "cell_type": "markdown",
   "metadata": {
    "execution": {
     "iopub.execute_input": "2021-11-22T22:33:53.303316Z",
     "iopub.status.busy": "2021-11-22T22:33:53.302686Z",
     "iopub.status.idle": "2021-11-22T22:33:53.308157Z",
     "shell.execute_reply": "2021-11-22T22:33:53.306483Z",
     "shell.execute_reply.started": "2021-11-22T22:33:53.303275Z"
    }
   },
   "source": [
    "## Basic Usage"
   ]
  },
  {
   "cell_type": "markdown",
   "metadata": {},
   "source": [
    "Let's start with a simple case"
   ]
  },
  {
   "cell_type": "code",
   "execution_count": 4,
   "metadata": {
    "execution": {
     "iopub.execute_input": "2022-04-17T15:39:23.548224Z",
     "iopub.status.busy": "2022-04-17T15:39:23.547787Z",
     "iopub.status.idle": "2022-04-17T15:39:23.576785Z",
     "shell.execute_reply": "2022-04-17T15:39:23.575458Z",
     "shell.execute_reply.started": "2022-04-17T15:39:23.548176Z"
    },
    "tags": []
   },
   "outputs": [
    {
     "name": "stderr",
     "output_type": "stream",
     "text": [
      "\u001b[1;320mINFO\u001b[1;30m: \u001b[0m\u001b[1;36muse.main\u001b[1;30m: \u001b[0mcase = (False, False, True, False)\n",
      "\u001b[1;320mINFO\u001b[1;30m: \u001b[0m\u001b[1;36muse.buffet_old\u001b[1;30m: \u001b[0mresult = <module 'math' from '/home/thorsten/anaconda3/lib/python3.8/lib-dynload/math.cpython-38-x86_64-linux-gnu.so'>\n"
     ]
    },
    {
     "data": {
      "text/plain": [
       "-0.5328330203333975"
      ]
     },
     "execution_count": 4,
     "metadata": {},
     "output_type": "execute_result"
    }
   ],
   "source": [
    "use(\"math\").cos(23)"
   ]
  },
  {
   "cell_type": "markdown",
   "metadata": {},
   "source": [
    "Here we loaded math but without adding it to the global namespace, so if you only need one thing from a module or package, you don't have to pollute your namespace."
   ]
  },
  {
   "cell_type": "markdown",
   "metadata": {
    "execution": {
     "iopub.execute_input": "2021-11-22T19:32:29.373810Z",
     "iopub.status.busy": "2021-11-22T19:32:29.373320Z",
     "iopub.status.idle": "2021-11-22T19:32:29.383680Z",
     "shell.execute_reply": "2021-11-22T19:32:29.382305Z",
     "shell.execute_reply.started": "2021-11-22T19:32:29.373772Z"
    }
   },
   "source": [
    "Installing something could be inconvenient or unnecessary if something else is available - or we want to include some minimal functionality in our program and only fetch additional dependencies only under certain conditions."
   ]
  },
  {
   "cell_type": "markdown",
   "metadata": {},
   "source": [
    "The common approach would be something like"
   ]
  },
  {
   "cell_type": "code",
   "execution_count": 5,
   "metadata": {
    "execution": {
     "iopub.execute_input": "2022-04-17T15:39:23.579937Z",
     "iopub.status.busy": "2022-04-17T15:39:23.579425Z",
     "iopub.status.idle": "2022-04-17T15:39:23.587242Z",
     "shell.execute_reply": "2022-04-17T15:39:23.586080Z",
     "shell.execute_reply.started": "2022-04-17T15:39:23.579880Z"
    },
    "tags": []
   },
   "outputs": [],
   "source": [
    "try:\n",
    "    import some_big_package\n",
    "except ImportError:\n",
    "    some_big_package = None\n",
    "if some_big_package:\n",
    "    ..."
   ]
  },
  {
   "cell_type": "markdown",
   "metadata": {
    "execution": {
     "iopub.execute_input": "2021-11-22T19:57:09.320535Z",
     "iopub.status.busy": "2021-11-22T19:57:09.319761Z",
     "iopub.status.idle": "2021-11-22T19:57:09.328957Z",
     "shell.execute_reply": "2021-11-22T19:57:09.327576Z",
     "shell.execute_reply.started": "2021-11-22T19:57:09.320488Z"
    }
   },
   "source": [
    "which is unnecessarily cumbersome - couldn't we simply have a default like in so many other functions that is returned instead of raising an exception? Of course we can!"
   ]
  },
  {
   "cell_type": "markdown",
   "metadata": {},
   "source": [
    "Here's a metaphor from *The Matrix*:\n",
    "[![Matrix - Skill Upload](https://img.youtube.com/vi/w_8NsPQBdV0/0.jpg)](https://www.youtube.com/watch?v=w_8NsPQBdV0)\n",
    "\n",
    "Imagine you want to streamline the user experience by distributing a very minimal, \"free\" but fully functional software to your end users which installs within seconds. Now, whenever the user wants to use a premium feature (or simply a feature that isn't generally required by the majority of users, therefor not included in the basic installation) the program could use() the packages and modules needed to realise the feature to download and install in the background while the user can still use other stuff, then trigger a callback when use() is done loading. The experience would be similar to playing an open world game which seamlessly downloads and loads new areas in the background on demand, without hiccup or loading screens. Or like Neo and Trinity - just get the skills to pilot a helicopter when you need them, right there on the spot. "
   ]
  },
  {
   "cell_type": "code",
   "execution_count": 6,
   "metadata": {
    "execution": {
     "iopub.execute_input": "2022-04-17T15:39:23.589303Z",
     "iopub.status.busy": "2022-04-17T15:39:23.588985Z",
     "iopub.status.idle": "2022-04-17T15:39:23.608567Z",
     "shell.execute_reply": "2022-04-17T15:39:23.607142Z",
     "shell.execute_reply.started": "2022-04-17T15:39:23.589268Z"
    },
    "tags": []
   },
   "outputs": [
    {
     "name": "stderr",
     "output_type": "stream",
     "text": [
      "\u001b[1;320mINFO\u001b[1;30m: \u001b[0m\u001b[1;36muse.main\u001b[1;30m: \u001b[0mcase = (False, False, False, False)\n",
      "\u001b[1;320mINFO\u001b[1;30m: \u001b[0m\u001b[1;36muse.buffet_old\u001b[1;30m: \u001b[0mresult = ImportError('No pkg installed named some_big_package and auto-installation not requested. Aborting.')\n"
     ]
    },
    {
     "name": "stdout",
     "output_type": "stream",
     "text": [
      "I'm going to learn Ju-Jutsu?\n"
     ]
    }
   ],
   "source": [
    "pkg = use(\"some_big_package\", default=None)\n",
    "if not pkg:\n",
    "    print(\"I'm going to learn Ju-Jutsu?\")"
   ]
  },
  {
   "cell_type": "markdown",
   "metadata": {
    "execution": {
     "iopub.execute_input": "2021-11-22T19:58:53.761253Z",
     "iopub.status.busy": "2021-11-22T19:58:53.760790Z",
     "iopub.status.idle": "2021-11-22T19:58:53.768580Z",
     "shell.execute_reply": "2021-11-22T19:58:53.767072Z",
     "shell.execute_reply.started": "2021-11-22T19:58:53.761215Z"
    }
   },
   "source": [
    "Even more concise (python >3.9):"
   ]
  },
  {
   "cell_type": "code",
   "execution_count": 7,
   "metadata": {
    "execution": {
     "iopub.execute_input": "2022-04-17T15:39:23.612765Z",
     "iopub.status.busy": "2022-04-17T15:39:23.611942Z",
     "iopub.status.idle": "2022-04-17T15:39:23.823304Z",
     "shell.execute_reply": "2022-04-17T15:39:23.822305Z",
     "shell.execute_reply.started": "2022-04-17T15:39:23.612711Z"
    },
    "tags": []
   },
   "outputs": [
    {
     "name": "stderr",
     "output_type": "stream",
     "text": [
      "\u001b[1;320mINFO\u001b[1;30m: \u001b[0m\u001b[1;36muse.main\u001b[1;30m: \u001b[0mcase = (False, False, True, False)\n",
      "\u001b[1;320mINFO\u001b[1;30m: \u001b[0m\u001b[1;36muse.buffet_old\u001b[1;30m: \u001b[0mresult = <module 'pytest' from '/home/thorsten/anaconda3/lib/python3.8/site-packages/pytest/__init__.py'>\n"
     ]
    },
    {
     "name": "stdout",
     "output_type": "stream",
     "text": [
      "I know Kung Fu!\n"
     ]
    }
   ],
   "source": [
    "if (pkg := use(\"pytest\", default=None)):\n",
    "    print(\"I know Kung Fu!\")"
   ]
  },
  {
   "cell_type": "markdown",
   "metadata": {},
   "source": [
    "It is also possible to lazily chain use() calls with defaults like\n",
    "\n",
    "> math = use(\"numpy\", default=None) or use(\"math\")\n",
    "\n",
    "which will evaluate from left to right and return whichever call returns something truthy (like a viable module) first."
   ]
  },
  {
   "cell_type": "markdown",
   "metadata": {},
   "source": [
    "One of the most practical use()s is making sure we imported the expected version of a certain package. This is especially important in research papers, notebooks and other publications because those often don't come with a `requirements.txt` and there is no way to make sure you are actually running the published code with the same versions as the author.\n",
    "Also, if you pip-install something, it can happen that it upgrades a dependency, accidentally breaking code that requires the old version - with pip you *can't have more than one version installed*. With justuse any number of versions can be installed in parallel, without interfering with anything that was installed globally via pip, conda etc."
   ]
  },
  {
   "cell_type": "code",
   "execution_count": 8,
   "metadata": {
    "execution": {
     "iopub.execute_input": "2022-04-17T15:39:23.824735Z",
     "iopub.status.busy": "2022-04-17T15:39:23.824406Z",
     "iopub.status.idle": "2022-04-17T15:39:24.034186Z",
     "shell.execute_reply": "2022-04-17T15:39:24.033224Z",
     "shell.execute_reply.started": "2022-04-17T15:39:23.824700Z"
    },
    "tags": []
   },
   "outputs": [
    {
     "name": "stderr",
     "output_type": "stream",
     "text": [
      "\u001b[1;320mINFO\u001b[1;30m: \u001b[0m\u001b[1;36muse.main\u001b[1;30m: \u001b[0mcase = (True, False, True, False)\n",
      "/home/thorsten/anaconda3/lib/python3.8/site-packages/use/pimp.py:84: VersionWarning: numpy expected to be version 2022, but got 1.21.2 instead\n",
      "  warn(UserMessage.version_warning(name, version, result_version), category=VersionWarning)\n",
      "\u001b[1;320mINFO\u001b[1;30m: \u001b[0m\u001b[1;36muse.buffet_old\u001b[1;30m: \u001b[0mresult = <module 'numpy' from '/home/thorsten/anaconda3/lib/python3.8/site-packages/numpy/__init__.py'>\n"
     ]
    }
   ],
   "source": [
    "np = use(\"numpy\", version=\"2022\")"
   ]
  },
  {
   "cell_type": "code",
   "execution_count": 9,
   "metadata": {
    "execution": {
     "iopub.execute_input": "2022-04-17T15:39:24.035755Z",
     "iopub.status.busy": "2022-04-17T15:39:24.035466Z",
     "iopub.status.idle": "2022-04-17T15:39:24.043673Z",
     "shell.execute_reply": "2022-04-17T15:39:24.042359Z",
     "shell.execute_reply.started": "2022-04-17T15:39:24.035720Z"
    },
    "tags": []
   },
   "outputs": [
    {
     "data": {
      "text/plain": [
       "'1.21.2'"
      ]
     },
     "execution_count": 9,
     "metadata": {},
     "output_type": "execute_result"
    }
   ],
   "source": [
    "np.__version__"
   ]
  },
  {
   "cell_type": "markdown",
   "metadata": {},
   "source": [
    "Here you see that even though we got a warning about the wrong version, we still get the requested package, just giving you a heads up about a possibly problematic situation without standing in the way."
   ]
  },
  {
   "cell_type": "markdown",
   "metadata": {},
   "source": [
    "Let's try another one!"
   ]
  },
  {
   "cell_type": "code",
   "execution_count": 10,
   "metadata": {
    "execution": {
     "iopub.execute_input": "2022-04-17T15:39:24.045662Z",
     "iopub.status.busy": "2022-04-17T15:39:24.045357Z",
     "iopub.status.idle": "2022-04-17T15:39:24.355280Z",
     "shell.execute_reply": "2022-04-17T15:39:24.350430Z",
     "shell.execute_reply.started": "2022-04-17T15:39:24.045623Z"
    },
    "tags": []
   },
   "outputs": [
    {
     "name": "stderr",
     "output_type": "stream",
     "text": [
      "\u001b[1;320mINFO\u001b[1;30m: \u001b[0m\u001b[1;36muse.main\u001b[1;30m: \u001b[0mcase = (False, False, False, False)\n",
      "\u001b[1;320mINFO\u001b[1;30m: \u001b[0m\u001b[1;36muse.buffet_old\u001b[1;30m: \u001b[0mresult = ImportError('No pkg installed named pygame and auto-installation not requested. Aborting.')\n"
     ]
    },
    {
     "ename": "ImportError",
     "evalue": "No pkg installed named pygame and auto-installation not requested. Aborting.",
     "output_type": "error",
     "traceback": [
      "\u001b[0;31m---------------------------------------------------------------------------\u001b[0m",
      "\u001b[0;31mImportError\u001b[0m                               Traceback (most recent call last)",
      "\u001b[0;32m/tmp/ipykernel_3719/217604034.py\u001b[0m in \u001b[0;36m<module>\u001b[0;34m\u001b[0m\n\u001b[0;32m----> 1\u001b[0;31m \u001b[0mpg\u001b[0m \u001b[0;34m=\u001b[0m \u001b[0muse\u001b[0m\u001b[0;34m(\u001b[0m\u001b[0;34m\"pygame\"\u001b[0m\u001b[0;34m)\u001b[0m\u001b[0;34m\u001b[0m\u001b[0;34m\u001b[0m\u001b[0m\n\u001b[0m",
      "\u001b[0;32m~/anaconda3/lib/python3.8/site-packages/use/main.py\u001b[0m in \u001b[0;36m__call__\u001b[0;34m(self, *args, **kwargs)\u001b[0m\n\u001b[1;32m    134\u001b[0m     \u001b[0;32mdef\u001b[0m \u001b[0m__call__\u001b[0m\u001b[0;34m(\u001b[0m\u001b[0mself\u001b[0m\u001b[0;34m,\u001b[0m \u001b[0;34m*\u001b[0m\u001b[0margs\u001b[0m\u001b[0;34m,\u001b[0m \u001b[0;34m**\u001b[0m\u001b[0mkwargs\u001b[0m\u001b[0;34m)\u001b[0m\u001b[0;34m:\u001b[0m\u001b[0;34m\u001b[0m\u001b[0;34m\u001b[0m\u001b[0m\n\u001b[1;32m    135\u001b[0m         \u001b[0;32mwith\u001b[0m \u001b[0mself\u001b[0m\u001b[0;34m.\u001b[0m\u001b[0m__condition\u001b[0m\u001b[0;34m:\u001b[0m\u001b[0;34m\u001b[0m\u001b[0;34m\u001b[0m\u001b[0m\n\u001b[0;32m--> 136\u001b[0;31m             \u001b[0;32mreturn\u001b[0m \u001b[0mself\u001b[0m\u001b[0;34m.\u001b[0m\u001b[0m__implementation\u001b[0m\u001b[0;34m(\u001b[0m\u001b[0;34m*\u001b[0m\u001b[0margs\u001b[0m\u001b[0;34m,\u001b[0m \u001b[0;34m**\u001b[0m\u001b[0mkwargs\u001b[0m\u001b[0;34m)\u001b[0m\u001b[0;34m\u001b[0m\u001b[0;34m\u001b[0m\u001b[0m\n\u001b[0m\u001b[1;32m    137\u001b[0m \u001b[0;34m\u001b[0m\u001b[0m\n\u001b[1;32m    138\u001b[0m     \u001b[0;31m# to allow `numpy @ use` for a quick check\u001b[0m\u001b[0;34m\u001b[0m\u001b[0;34m\u001b[0m\u001b[0;34m\u001b[0m\u001b[0m\n",
      "\u001b[0;32m~/anaconda3/lib/python3.8/site-packages/use/tools.py\u001b[0m in \u001b[0;36mwrapper\u001b[0;34m(*args, **kwargs)\u001b[0m\n\u001b[1;32m     44\u001b[0m                 \u001b[0;32mraise\u001b[0m \u001b[0mNirvanaWarning\u001b[0m\u001b[0;34m(\u001b[0m\u001b[0;34m\"No use trying to use Nothing.\"\u001b[0m\u001b[0;34m)\u001b[0m\u001b[0;34m\u001b[0m\u001b[0;34m\u001b[0m\u001b[0m\n\u001b[1;32m     45\u001b[0m             \u001b[0margs\u001b[0m \u001b[0;34m=\u001b[0m \u001b[0margs\u001b[0m \u001b[0;34m+\u001b[0m \u001b[0;34m(\u001b[0m\u001b[0;32mNone\u001b[0m\u001b[0;34m,\u001b[0m\u001b[0;34m)\u001b[0m\u001b[0;34m\u001b[0m\u001b[0;34m\u001b[0m\u001b[0m\n\u001b[0;32m---> 46\u001b[0;31m         \u001b[0;32mreturn\u001b[0m \u001b[0mdispatcher\u001b[0m\u001b[0;34m.\u001b[0m\u001b[0mdispatch\u001b[0m\u001b[0;34m(\u001b[0m\u001b[0margs\u001b[0m\u001b[0;34m[\u001b[0m\u001b[0;36m1\u001b[0m\u001b[0;34m]\u001b[0m\u001b[0;34m.\u001b[0m\u001b[0m__class__\u001b[0m\u001b[0;34m)\u001b[0m\u001b[0;34m(\u001b[0m\u001b[0;34m*\u001b[0m\u001b[0margs\u001b[0m\u001b[0;34m,\u001b[0m \u001b[0;34m**\u001b[0m\u001b[0mkwargs\u001b[0m\u001b[0;34m)\u001b[0m\u001b[0;34m\u001b[0m\u001b[0;34m\u001b[0m\u001b[0m\n\u001b[0m\u001b[1;32m     47\u001b[0m \u001b[0;34m\u001b[0m\u001b[0m\n\u001b[1;32m     48\u001b[0m     \u001b[0mwrapper\u001b[0m\u001b[0;34m.\u001b[0m\u001b[0mregister\u001b[0m \u001b[0;34m=\u001b[0m \u001b[0mdispatcher\u001b[0m\u001b[0;34m.\u001b[0m\u001b[0mregister\u001b[0m\u001b[0;34m\u001b[0m\u001b[0;34m\u001b[0m\u001b[0m\n",
      "\u001b[0;32m~/anaconda3/lib/python3.8/site-packages/use/main.py\u001b[0m in \u001b[0;36m_use_str\u001b[0;34m(self, name, version, hash_algo, hashes, default, modes)\u001b[0m\n\u001b[1;32m    668\u001b[0m         \"\"\"\n\u001b[1;32m    669\u001b[0m         \u001b[0mpackage_name\u001b[0m\u001b[0;34m,\u001b[0m \u001b[0mmodule_name\u001b[0m \u001b[0;34m=\u001b[0m \u001b[0m_parse_name\u001b[0m\u001b[0;34m(\u001b[0m\u001b[0mname\u001b[0m\u001b[0;34m)\u001b[0m\u001b[0;34m\u001b[0m\u001b[0;34m\u001b[0m\u001b[0m\n\u001b[0;32m--> 670\u001b[0;31m         return self._use_package(\n\u001b[0m\u001b[1;32m    671\u001b[0m             \u001b[0mname\u001b[0m\u001b[0;34m=\u001b[0m\u001b[0mname\u001b[0m\u001b[0;34m,\u001b[0m\u001b[0;34m\u001b[0m\u001b[0;34m\u001b[0m\u001b[0m\n\u001b[1;32m    672\u001b[0m             \u001b[0mpackage_name\u001b[0m\u001b[0;34m=\u001b[0m\u001b[0mpackage_name\u001b[0m\u001b[0;34m,\u001b[0m\u001b[0;34m\u001b[0m\u001b[0;34m\u001b[0m\u001b[0m\n",
      "\u001b[0;32m~/anaconda3/lib/python3.8/site-packages/icontract/_checkers.py\u001b[0m in \u001b[0;36mwrapper\u001b[0;34m(*args, **kwargs)\u001b[0m\n\u001b[1;32m    639\u001b[0m                 \u001b[0;31m# Unfortunately, this can not be done in Python 3, see\u001b[0m\u001b[0;34m\u001b[0m\u001b[0;34m\u001b[0m\u001b[0;34m\u001b[0m\u001b[0m\n\u001b[1;32m    640\u001b[0m                 \u001b[0;31m# https://stackoverflow.com/questions/44813333/how-can-i-elide-a-function-wrapper-from-the-traceback-in-python-3\u001b[0m\u001b[0;34m\u001b[0m\u001b[0;34m\u001b[0m\u001b[0;34m\u001b[0m\u001b[0m\n\u001b[0;32m--> 641\u001b[0;31m                 \u001b[0mresult\u001b[0m \u001b[0;34m=\u001b[0m \u001b[0mfunc\u001b[0m\u001b[0;34m(\u001b[0m\u001b[0;34m*\u001b[0m\u001b[0margs\u001b[0m\u001b[0;34m,\u001b[0m \u001b[0;34m**\u001b[0m\u001b[0mkwargs\u001b[0m\u001b[0;34m)\u001b[0m\u001b[0;34m\u001b[0m\u001b[0;34m\u001b[0m\u001b[0m\n\u001b[0m\u001b[1;32m    642\u001b[0m \u001b[0;34m\u001b[0m\u001b[0m\n\u001b[1;32m    643\u001b[0m                 \u001b[0;32mif\u001b[0m \u001b[0mpostconditions\u001b[0m\u001b[0;34m:\u001b[0m\u001b[0;34m\u001b[0m\u001b[0;34m\u001b[0m\u001b[0m\n",
      "\u001b[0;32m~/anaconda3/lib/python3.8/site-packages/use/main.py\u001b[0m in \u001b[0;36m_use_package\u001b[0;34m(self, name, package_name, module_name, version, hashes, default, hash_algo, modes, Message)\u001b[0m\n\u001b[1;32m    752\u001b[0m \u001b[0;34m\u001b[0m\u001b[0m\n\u001b[1;32m    753\u001b[0m         \u001b[0;32mif\u001b[0m \u001b[0misinstance\u001b[0m\u001b[0;34m(\u001b[0m\u001b[0mresult\u001b[0m\u001b[0;34m,\u001b[0m \u001b[0mException\u001b[0m\u001b[0;34m)\u001b[0m\u001b[0;34m:\u001b[0m\u001b[0;34m\u001b[0m\u001b[0;34m\u001b[0m\u001b[0m\n\u001b[0;32m--> 754\u001b[0;31m             \u001b[0;32mreturn\u001b[0m \u001b[0m_fail_or_default\u001b[0m\u001b[0;34m(\u001b[0m\u001b[0mresult\u001b[0m\u001b[0;34m,\u001b[0m \u001b[0mdefault\u001b[0m\u001b[0;34m)\u001b[0m\u001b[0;34m\u001b[0m\u001b[0;34m\u001b[0m\u001b[0m\n\u001b[0m\u001b[1;32m    755\u001b[0m \u001b[0;34m\u001b[0m\u001b[0m\n\u001b[1;32m    756\u001b[0m         \u001b[0;32mif\u001b[0m \u001b[0misinstance\u001b[0m\u001b[0;34m(\u001b[0m\u001b[0mresult\u001b[0m\u001b[0;34m,\u001b[0m \u001b[0mModuleType\u001b[0m\u001b[0;34m)\u001b[0m\u001b[0;34m:\u001b[0m\u001b[0;34m\u001b[0m\u001b[0;34m\u001b[0m\u001b[0m\n",
      "\u001b[0;32m~/anaconda3/lib/python3.8/site-packages/use/pimp.py\u001b[0m in \u001b[0;36m_fail_or_default\u001b[0;34m(exception, default)\u001b[0m\n\u001b[1;32m    943\u001b[0m         \u001b[0;32mreturn\u001b[0m \u001b[0mdefault\u001b[0m\u001b[0;34m\u001b[0m\u001b[0;34m\u001b[0m\u001b[0m\n\u001b[1;32m    944\u001b[0m     \u001b[0;32melse\u001b[0m\u001b[0;34m:\u001b[0m\u001b[0;34m\u001b[0m\u001b[0;34m\u001b[0m\u001b[0m\n\u001b[0;32m--> 945\u001b[0;31m         \u001b[0;32mraise\u001b[0m \u001b[0mexception\u001b[0m\u001b[0;34m\u001b[0m\u001b[0;34m\u001b[0m\u001b[0m\n\u001b[0m\u001b[1;32m    946\u001b[0m \u001b[0;34m\u001b[0m\u001b[0m\n\u001b[1;32m    947\u001b[0m \u001b[0;34m\u001b[0m\u001b[0m\n",
      "\u001b[0;31mImportError\u001b[0m: No pkg installed named pygame and auto-installation not requested. Aborting."
     ]
    }
   ],
   "source": [
    "pg = use(\"pygame\")"
   ]
  },
  {
   "cell_type": "markdown",
   "metadata": {},
   "source": [
    "Well, bummer! We want to play with pygame, let's have pygame!"
   ]
  },
  {
   "cell_type": "code",
   "execution_count": 11,
   "metadata": {
    "execution": {
     "iopub.execute_input": "2022-04-17T15:39:38.028009Z",
     "iopub.status.busy": "2022-04-17T15:39:38.027683Z",
     "iopub.status.idle": "2022-04-17T15:39:40.778103Z",
     "shell.execute_reply": "2022-04-17T15:39:40.776560Z",
     "shell.execute_reply.started": "2022-04-17T15:39:38.027974Z"
    },
    "tags": []
   },
   "outputs": [
    {
     "name": "stderr",
     "output_type": "stream",
     "text": [
      "\u001b[1;320mINFO\u001b[1;30m: \u001b[0m\u001b[1;36muse.main\u001b[1;30m: \u001b[0mcase = (False, False, False, True)\n"
     ]
    },
    {
     "name": "stdout",
     "output_type": "stream",
     "text": [
      "2.1.3.dev4\n"
     ]
    },
    {
     "name": "stderr",
     "output_type": "stream",
     "text": [
      "\u001b[1;320mINFO\u001b[1;30m: \u001b[0m\u001b[1;36muse.buffet_old\u001b[1;30m: \u001b[0mresult = RuntimeWarning('Please specify version and hash for auto-installation of \\'pygame\\'.\\nA webbrowser should open to the Snyk Advisor to check whether the package is vulnerable or malicious.\\nIf you want to auto-install the latest version, try the following line to select all viable hashes:\\nuse(\"pygame\", version=\"2.1.3.dev4\", modes=use.auto_install)')\n"
     ]
    },
    {
     "ename": "RuntimeWarning",
     "evalue": "Please specify version and hash for auto-installation of 'pygame'.\nA webbrowser should open to the Snyk Advisor to check whether the package is vulnerable or malicious.\nIf you want to auto-install the latest version, try the following line to select all viable hashes:\nuse(\"pygame\", version=\"2.1.3.dev4\", modes=use.auto_install)",
     "output_type": "error",
     "traceback": [
      "\u001b[0;31m---------------------------------------------------------------------------\u001b[0m",
      "\u001b[0;31mRuntimeWarning\u001b[0m                            Traceback (most recent call last)",
      "\u001b[0;32m/tmp/ipykernel_3719/1145780527.py\u001b[0m in \u001b[0;36m<module>\u001b[0;34m\u001b[0m\n\u001b[0;32m----> 1\u001b[0;31m \u001b[0mpg\u001b[0m \u001b[0;34m=\u001b[0m \u001b[0muse\u001b[0m\u001b[0;34m(\u001b[0m\u001b[0;34m\"pygame\"\u001b[0m\u001b[0;34m,\u001b[0m \u001b[0mmodes\u001b[0m\u001b[0;34m=\u001b[0m\u001b[0muse\u001b[0m\u001b[0;34m.\u001b[0m\u001b[0mauto_install\u001b[0m\u001b[0;34m)\u001b[0m\u001b[0;34m\u001b[0m\u001b[0;34m\u001b[0m\u001b[0m\n\u001b[0m",
      "\u001b[0;32m~/anaconda3/lib/python3.8/site-packages/use/main.py\u001b[0m in \u001b[0;36m__call__\u001b[0;34m(self, *args, **kwargs)\u001b[0m\n\u001b[1;32m    134\u001b[0m     \u001b[0;32mdef\u001b[0m \u001b[0m__call__\u001b[0m\u001b[0;34m(\u001b[0m\u001b[0mself\u001b[0m\u001b[0;34m,\u001b[0m \u001b[0;34m*\u001b[0m\u001b[0margs\u001b[0m\u001b[0;34m,\u001b[0m \u001b[0;34m**\u001b[0m\u001b[0mkwargs\u001b[0m\u001b[0;34m)\u001b[0m\u001b[0;34m:\u001b[0m\u001b[0;34m\u001b[0m\u001b[0;34m\u001b[0m\u001b[0m\n\u001b[1;32m    135\u001b[0m         \u001b[0;32mwith\u001b[0m \u001b[0mself\u001b[0m\u001b[0;34m.\u001b[0m\u001b[0m__condition\u001b[0m\u001b[0;34m:\u001b[0m\u001b[0;34m\u001b[0m\u001b[0;34m\u001b[0m\u001b[0m\n\u001b[0;32m--> 136\u001b[0;31m             \u001b[0;32mreturn\u001b[0m \u001b[0mself\u001b[0m\u001b[0;34m.\u001b[0m\u001b[0m__implementation\u001b[0m\u001b[0;34m(\u001b[0m\u001b[0;34m*\u001b[0m\u001b[0margs\u001b[0m\u001b[0;34m,\u001b[0m \u001b[0;34m**\u001b[0m\u001b[0mkwargs\u001b[0m\u001b[0;34m)\u001b[0m\u001b[0;34m\u001b[0m\u001b[0;34m\u001b[0m\u001b[0m\n\u001b[0m\u001b[1;32m    137\u001b[0m \u001b[0;34m\u001b[0m\u001b[0m\n\u001b[1;32m    138\u001b[0m     \u001b[0;31m# to allow `numpy @ use` for a quick check\u001b[0m\u001b[0;34m\u001b[0m\u001b[0;34m\u001b[0m\u001b[0;34m\u001b[0m\u001b[0m\n",
      "\u001b[0;32m~/anaconda3/lib/python3.8/site-packages/use/tools.py\u001b[0m in \u001b[0;36mwrapper\u001b[0;34m(*args, **kwargs)\u001b[0m\n\u001b[1;32m     44\u001b[0m                 \u001b[0;32mraise\u001b[0m \u001b[0mNirvanaWarning\u001b[0m\u001b[0;34m(\u001b[0m\u001b[0;34m\"No use trying to use Nothing.\"\u001b[0m\u001b[0;34m)\u001b[0m\u001b[0;34m\u001b[0m\u001b[0;34m\u001b[0m\u001b[0m\n\u001b[1;32m     45\u001b[0m             \u001b[0margs\u001b[0m \u001b[0;34m=\u001b[0m \u001b[0margs\u001b[0m \u001b[0;34m+\u001b[0m \u001b[0;34m(\u001b[0m\u001b[0;32mNone\u001b[0m\u001b[0;34m,\u001b[0m\u001b[0;34m)\u001b[0m\u001b[0;34m\u001b[0m\u001b[0;34m\u001b[0m\u001b[0m\n\u001b[0;32m---> 46\u001b[0;31m         \u001b[0;32mreturn\u001b[0m \u001b[0mdispatcher\u001b[0m\u001b[0;34m.\u001b[0m\u001b[0mdispatch\u001b[0m\u001b[0;34m(\u001b[0m\u001b[0margs\u001b[0m\u001b[0;34m[\u001b[0m\u001b[0;36m1\u001b[0m\u001b[0;34m]\u001b[0m\u001b[0;34m.\u001b[0m\u001b[0m__class__\u001b[0m\u001b[0;34m)\u001b[0m\u001b[0;34m(\u001b[0m\u001b[0;34m*\u001b[0m\u001b[0margs\u001b[0m\u001b[0;34m,\u001b[0m \u001b[0;34m**\u001b[0m\u001b[0mkwargs\u001b[0m\u001b[0;34m)\u001b[0m\u001b[0;34m\u001b[0m\u001b[0;34m\u001b[0m\u001b[0m\n\u001b[0m\u001b[1;32m     47\u001b[0m \u001b[0;34m\u001b[0m\u001b[0m\n\u001b[1;32m     48\u001b[0m     \u001b[0mwrapper\u001b[0m\u001b[0;34m.\u001b[0m\u001b[0mregister\u001b[0m \u001b[0;34m=\u001b[0m \u001b[0mdispatcher\u001b[0m\u001b[0;34m.\u001b[0m\u001b[0mregister\u001b[0m\u001b[0;34m\u001b[0m\u001b[0;34m\u001b[0m\u001b[0m\n",
      "\u001b[0;32m~/anaconda3/lib/python3.8/site-packages/use/main.py\u001b[0m in \u001b[0;36m_use_str\u001b[0;34m(self, name, version, hash_algo, hashes, default, modes)\u001b[0m\n\u001b[1;32m    668\u001b[0m         \"\"\"\n\u001b[1;32m    669\u001b[0m         \u001b[0mpackage_name\u001b[0m\u001b[0;34m,\u001b[0m \u001b[0mmodule_name\u001b[0m \u001b[0;34m=\u001b[0m \u001b[0m_parse_name\u001b[0m\u001b[0;34m(\u001b[0m\u001b[0mname\u001b[0m\u001b[0;34m)\u001b[0m\u001b[0;34m\u001b[0m\u001b[0;34m\u001b[0m\u001b[0m\n\u001b[0;32m--> 670\u001b[0;31m         return self._use_package(\n\u001b[0m\u001b[1;32m    671\u001b[0m             \u001b[0mname\u001b[0m\u001b[0;34m=\u001b[0m\u001b[0mname\u001b[0m\u001b[0;34m,\u001b[0m\u001b[0;34m\u001b[0m\u001b[0;34m\u001b[0m\u001b[0m\n\u001b[1;32m    672\u001b[0m             \u001b[0mpackage_name\u001b[0m\u001b[0;34m=\u001b[0m\u001b[0mpackage_name\u001b[0m\u001b[0;34m,\u001b[0m\u001b[0;34m\u001b[0m\u001b[0;34m\u001b[0m\u001b[0m\n",
      "\u001b[0;32m~/anaconda3/lib/python3.8/site-packages/icontract/_checkers.py\u001b[0m in \u001b[0;36mwrapper\u001b[0;34m(*args, **kwargs)\u001b[0m\n\u001b[1;32m    639\u001b[0m                 \u001b[0;31m# Unfortunately, this can not be done in Python 3, see\u001b[0m\u001b[0;34m\u001b[0m\u001b[0;34m\u001b[0m\u001b[0;34m\u001b[0m\u001b[0m\n\u001b[1;32m    640\u001b[0m                 \u001b[0;31m# https://stackoverflow.com/questions/44813333/how-can-i-elide-a-function-wrapper-from-the-traceback-in-python-3\u001b[0m\u001b[0;34m\u001b[0m\u001b[0;34m\u001b[0m\u001b[0;34m\u001b[0m\u001b[0m\n\u001b[0;32m--> 641\u001b[0;31m                 \u001b[0mresult\u001b[0m \u001b[0;34m=\u001b[0m \u001b[0mfunc\u001b[0m\u001b[0;34m(\u001b[0m\u001b[0;34m*\u001b[0m\u001b[0margs\u001b[0m\u001b[0;34m,\u001b[0m \u001b[0;34m**\u001b[0m\u001b[0mkwargs\u001b[0m\u001b[0;34m)\u001b[0m\u001b[0;34m\u001b[0m\u001b[0;34m\u001b[0m\u001b[0m\n\u001b[0m\u001b[1;32m    642\u001b[0m \u001b[0;34m\u001b[0m\u001b[0m\n\u001b[1;32m    643\u001b[0m                 \u001b[0;32mif\u001b[0m \u001b[0mpostconditions\u001b[0m\u001b[0;34m:\u001b[0m\u001b[0;34m\u001b[0m\u001b[0;34m\u001b[0m\u001b[0m\n",
      "\u001b[0;32m~/anaconda3/lib/python3.8/site-packages/use/main.py\u001b[0m in \u001b[0;36m_use_package\u001b[0;34m(self, name, package_name, module_name, version, hashes, default, hash_algo, modes, Message)\u001b[0m\n\u001b[1;32m    752\u001b[0m \u001b[0;34m\u001b[0m\u001b[0m\n\u001b[1;32m    753\u001b[0m         \u001b[0;32mif\u001b[0m \u001b[0misinstance\u001b[0m\u001b[0;34m(\u001b[0m\u001b[0mresult\u001b[0m\u001b[0;34m,\u001b[0m \u001b[0mException\u001b[0m\u001b[0;34m)\u001b[0m\u001b[0;34m:\u001b[0m\u001b[0;34m\u001b[0m\u001b[0;34m\u001b[0m\u001b[0m\n\u001b[0;32m--> 754\u001b[0;31m             \u001b[0;32mreturn\u001b[0m \u001b[0m_fail_or_default\u001b[0m\u001b[0;34m(\u001b[0m\u001b[0mresult\u001b[0m\u001b[0;34m,\u001b[0m \u001b[0mdefault\u001b[0m\u001b[0;34m)\u001b[0m\u001b[0;34m\u001b[0m\u001b[0;34m\u001b[0m\u001b[0m\n\u001b[0m\u001b[1;32m    755\u001b[0m \u001b[0;34m\u001b[0m\u001b[0m\n\u001b[1;32m    756\u001b[0m         \u001b[0;32mif\u001b[0m \u001b[0misinstance\u001b[0m\u001b[0;34m(\u001b[0m\u001b[0mresult\u001b[0m\u001b[0;34m,\u001b[0m \u001b[0mModuleType\u001b[0m\u001b[0;34m)\u001b[0m\u001b[0;34m:\u001b[0m\u001b[0;34m\u001b[0m\u001b[0;34m\u001b[0m\u001b[0m\n",
      "\u001b[0;32m~/anaconda3/lib/python3.8/site-packages/use/pimp.py\u001b[0m in \u001b[0;36m_fail_or_default\u001b[0;34m(exception, default)\u001b[0m\n\u001b[1;32m    943\u001b[0m         \u001b[0;32mreturn\u001b[0m \u001b[0mdefault\u001b[0m\u001b[0;34m\u001b[0m\u001b[0;34m\u001b[0m\u001b[0m\n\u001b[1;32m    944\u001b[0m     \u001b[0;32melse\u001b[0m\u001b[0;34m:\u001b[0m\u001b[0;34m\u001b[0m\u001b[0;34m\u001b[0m\u001b[0m\n\u001b[0;32m--> 945\u001b[0;31m         \u001b[0;32mraise\u001b[0m \u001b[0mexception\u001b[0m\u001b[0;34m\u001b[0m\u001b[0;34m\u001b[0m\u001b[0m\n\u001b[0m\u001b[1;32m    946\u001b[0m \u001b[0;34m\u001b[0m\u001b[0m\n\u001b[1;32m    947\u001b[0m \u001b[0;34m\u001b[0m\u001b[0m\n",
      "\u001b[0;31mRuntimeWarning\u001b[0m: Please specify version and hash for auto-installation of 'pygame'.\nA webbrowser should open to the Snyk Advisor to check whether the package is vulnerable or malicious.\nIf you want to auto-install the latest version, try the following line to select all viable hashes:\nuse(\"pygame\", version=\"2.1.3.dev4\", modes=use.auto_install)"
     ]
    }
   ],
   "source": [
    "pg = use(\"pygame\", modes=use.auto_install)"
   ]
  },
  {
   "cell_type": "markdown",
   "metadata": {},
   "source": [
    "Now we're getting somewhere! Hmm.. it says \"To get some valuable insight on the health of this package, please check out https://snyk.io/advisor/python/pygame - see for yourself!"
   ]
  },
  {
   "cell_type": "markdown",
   "metadata": {},
   "source": [
    "Let's look at this last line of the message.. hmm.. a dev version? Nah, let's pick the last stable version instead."
   ]
  },
  {
   "cell_type": "code",
   "execution_count": 12,
   "metadata": {
    "execution": {
     "iopub.execute_input": "2022-04-17T15:39:46.041114Z",
     "iopub.status.busy": "2022-04-17T15:39:46.040570Z",
     "iopub.status.idle": "2022-04-17T15:39:46.048516Z",
     "shell.execute_reply": "2022-04-17T15:39:46.047505Z",
     "shell.execute_reply.started": "2022-04-17T15:39:46.041074Z"
    },
    "tags": []
   },
   "outputs": [
    {
     "name": "stdout",
     "output_type": "stream",
     "text": [
      "Linux 5.4.0-107-generic \n",
      " 3.8.5\n"
     ]
    }
   ],
   "source": [
    "import platform; print(platform.system(), platform.release(), \"\\n\", platform.python_version())"
   ]
  },
  {
   "cell_type": "code",
   "execution_count": 13,
   "metadata": {
    "execution": {
     "iopub.execute_input": "2022-04-17T15:39:46.686909Z",
     "iopub.status.busy": "2022-04-17T15:39:46.686432Z",
     "iopub.status.idle": "2022-04-17T15:39:48.162762Z",
     "shell.execute_reply": "2022-04-17T15:39:48.161515Z",
     "shell.execute_reply.started": "2022-04-17T15:39:46.686874Z"
    },
    "tags": []
   },
   "outputs": [
    {
     "name": "stderr",
     "output_type": "stream",
     "text": [
      "\u001b[1;320mINFO\u001b[1;30m: \u001b[0m\u001b[1;36muse.main\u001b[1;30m: \u001b[0mcase = (True, False, False, True)\n",
      "\u001b[1;320mINFO\u001b[1;30m: \u001b[0m\u001b[1;36muse.buffet_old\u001b[1;30m: \u001b[0mresult = RuntimeWarning('Failed to auto-install \\'pygame\\' because hashes aren\\'t specified.\\n        A webbrowser should open with a list of available hashes for different platforms for you to pick.\"\\n        If you want to use the package only on this platform, this should work:\\n    use(\"pygame\", version=\"2.1.2\", hashes=\\'V蘕驈詋光釠軫鳌铎縵䁄鉠龔嵚匟䍶癦㣠\\', modes=use.auto_install)')\n"
     ]
    },
    {
     "name": "stdout",
     "output_type": "stream",
     "text": [
      "V蘕驈詋光釠軫鳌铎縵䁄鉠龔嵚匟䍶癦㣠\n"
     ]
    },
    {
     "ename": "RuntimeWarning",
     "evalue": "Failed to auto-install 'pygame' because hashes aren't specified.\n        A webbrowser should open with a list of available hashes for different platforms for you to pick.\"\n        If you want to use the package only on this platform, this should work:\n    use(\"pygame\", version=\"2.1.2\", hashes='V蘕驈詋光釠軫鳌铎縵䁄鉠龔嵚匟䍶癦㣠', modes=use.auto_install)",
     "output_type": "error",
     "traceback": [
      "\u001b[0;31m---------------------------------------------------------------------------\u001b[0m",
      "\u001b[0;31mRuntimeWarning\u001b[0m                            Traceback (most recent call last)",
      "\u001b[0;32m/tmp/ipykernel_3719/1367005035.py\u001b[0m in \u001b[0;36m<module>\u001b[0;34m\u001b[0m\n\u001b[0;32m----> 1\u001b[0;31m \u001b[0muse\u001b[0m\u001b[0;34m(\u001b[0m\u001b[0;34m\"pygame\"\u001b[0m\u001b[0;34m,\u001b[0m \u001b[0mversion\u001b[0m\u001b[0;34m=\u001b[0m\u001b[0;34m\"2.1.2\"\u001b[0m\u001b[0;34m,\u001b[0m \u001b[0mmodes\u001b[0m\u001b[0;34m=\u001b[0m\u001b[0muse\u001b[0m\u001b[0;34m.\u001b[0m\u001b[0mauto_install\u001b[0m\u001b[0;34m)\u001b[0m\u001b[0;34m\u001b[0m\u001b[0;34m\u001b[0m\u001b[0m\n\u001b[0m",
      "\u001b[0;32m~/anaconda3/lib/python3.8/site-packages/use/main.py\u001b[0m in \u001b[0;36m__call__\u001b[0;34m(self, *args, **kwargs)\u001b[0m\n\u001b[1;32m    134\u001b[0m     \u001b[0;32mdef\u001b[0m \u001b[0m__call__\u001b[0m\u001b[0;34m(\u001b[0m\u001b[0mself\u001b[0m\u001b[0;34m,\u001b[0m \u001b[0;34m*\u001b[0m\u001b[0margs\u001b[0m\u001b[0;34m,\u001b[0m \u001b[0;34m**\u001b[0m\u001b[0mkwargs\u001b[0m\u001b[0;34m)\u001b[0m\u001b[0;34m:\u001b[0m\u001b[0;34m\u001b[0m\u001b[0;34m\u001b[0m\u001b[0m\n\u001b[1;32m    135\u001b[0m         \u001b[0;32mwith\u001b[0m \u001b[0mself\u001b[0m\u001b[0;34m.\u001b[0m\u001b[0m__condition\u001b[0m\u001b[0;34m:\u001b[0m\u001b[0;34m\u001b[0m\u001b[0;34m\u001b[0m\u001b[0m\n\u001b[0;32m--> 136\u001b[0;31m             \u001b[0;32mreturn\u001b[0m \u001b[0mself\u001b[0m\u001b[0;34m.\u001b[0m\u001b[0m__implementation\u001b[0m\u001b[0;34m(\u001b[0m\u001b[0;34m*\u001b[0m\u001b[0margs\u001b[0m\u001b[0;34m,\u001b[0m \u001b[0;34m**\u001b[0m\u001b[0mkwargs\u001b[0m\u001b[0;34m)\u001b[0m\u001b[0;34m\u001b[0m\u001b[0;34m\u001b[0m\u001b[0m\n\u001b[0m\u001b[1;32m    137\u001b[0m \u001b[0;34m\u001b[0m\u001b[0m\n\u001b[1;32m    138\u001b[0m     \u001b[0;31m# to allow `numpy @ use` for a quick check\u001b[0m\u001b[0;34m\u001b[0m\u001b[0;34m\u001b[0m\u001b[0;34m\u001b[0m\u001b[0m\n",
      "\u001b[0;32m~/anaconda3/lib/python3.8/site-packages/use/tools.py\u001b[0m in \u001b[0;36mwrapper\u001b[0;34m(*args, **kwargs)\u001b[0m\n\u001b[1;32m     44\u001b[0m                 \u001b[0;32mraise\u001b[0m \u001b[0mNirvanaWarning\u001b[0m\u001b[0;34m(\u001b[0m\u001b[0;34m\"No use trying to use Nothing.\"\u001b[0m\u001b[0;34m)\u001b[0m\u001b[0;34m\u001b[0m\u001b[0;34m\u001b[0m\u001b[0m\n\u001b[1;32m     45\u001b[0m             \u001b[0margs\u001b[0m \u001b[0;34m=\u001b[0m \u001b[0margs\u001b[0m \u001b[0;34m+\u001b[0m \u001b[0;34m(\u001b[0m\u001b[0;32mNone\u001b[0m\u001b[0;34m,\u001b[0m\u001b[0;34m)\u001b[0m\u001b[0;34m\u001b[0m\u001b[0;34m\u001b[0m\u001b[0m\n\u001b[0;32m---> 46\u001b[0;31m         \u001b[0;32mreturn\u001b[0m \u001b[0mdispatcher\u001b[0m\u001b[0;34m.\u001b[0m\u001b[0mdispatch\u001b[0m\u001b[0;34m(\u001b[0m\u001b[0margs\u001b[0m\u001b[0;34m[\u001b[0m\u001b[0;36m1\u001b[0m\u001b[0;34m]\u001b[0m\u001b[0;34m.\u001b[0m\u001b[0m__class__\u001b[0m\u001b[0;34m)\u001b[0m\u001b[0;34m(\u001b[0m\u001b[0;34m*\u001b[0m\u001b[0margs\u001b[0m\u001b[0;34m,\u001b[0m \u001b[0;34m**\u001b[0m\u001b[0mkwargs\u001b[0m\u001b[0;34m)\u001b[0m\u001b[0;34m\u001b[0m\u001b[0;34m\u001b[0m\u001b[0m\n\u001b[0m\u001b[1;32m     47\u001b[0m \u001b[0;34m\u001b[0m\u001b[0m\n\u001b[1;32m     48\u001b[0m     \u001b[0mwrapper\u001b[0m\u001b[0;34m.\u001b[0m\u001b[0mregister\u001b[0m \u001b[0;34m=\u001b[0m \u001b[0mdispatcher\u001b[0m\u001b[0;34m.\u001b[0m\u001b[0mregister\u001b[0m\u001b[0;34m\u001b[0m\u001b[0;34m\u001b[0m\u001b[0m\n",
      "\u001b[0;32m~/anaconda3/lib/python3.8/site-packages/use/main.py\u001b[0m in \u001b[0;36m_use_str\u001b[0;34m(self, name, version, hash_algo, hashes, default, modes)\u001b[0m\n\u001b[1;32m    668\u001b[0m         \"\"\"\n\u001b[1;32m    669\u001b[0m         \u001b[0mpackage_name\u001b[0m\u001b[0;34m,\u001b[0m \u001b[0mmodule_name\u001b[0m \u001b[0;34m=\u001b[0m \u001b[0m_parse_name\u001b[0m\u001b[0;34m(\u001b[0m\u001b[0mname\u001b[0m\u001b[0;34m)\u001b[0m\u001b[0;34m\u001b[0m\u001b[0;34m\u001b[0m\u001b[0m\n\u001b[0;32m--> 670\u001b[0;31m         return self._use_package(\n\u001b[0m\u001b[1;32m    671\u001b[0m             \u001b[0mname\u001b[0m\u001b[0;34m=\u001b[0m\u001b[0mname\u001b[0m\u001b[0;34m,\u001b[0m\u001b[0;34m\u001b[0m\u001b[0;34m\u001b[0m\u001b[0m\n\u001b[1;32m    672\u001b[0m             \u001b[0mpackage_name\u001b[0m\u001b[0;34m=\u001b[0m\u001b[0mpackage_name\u001b[0m\u001b[0;34m,\u001b[0m\u001b[0;34m\u001b[0m\u001b[0;34m\u001b[0m\u001b[0m\n",
      "\u001b[0;32m~/anaconda3/lib/python3.8/site-packages/icontract/_checkers.py\u001b[0m in \u001b[0;36mwrapper\u001b[0;34m(*args, **kwargs)\u001b[0m\n\u001b[1;32m    639\u001b[0m                 \u001b[0;31m# Unfortunately, this can not be done in Python 3, see\u001b[0m\u001b[0;34m\u001b[0m\u001b[0;34m\u001b[0m\u001b[0;34m\u001b[0m\u001b[0m\n\u001b[1;32m    640\u001b[0m                 \u001b[0;31m# https://stackoverflow.com/questions/44813333/how-can-i-elide-a-function-wrapper-from-the-traceback-in-python-3\u001b[0m\u001b[0;34m\u001b[0m\u001b[0;34m\u001b[0m\u001b[0;34m\u001b[0m\u001b[0m\n\u001b[0;32m--> 641\u001b[0;31m                 \u001b[0mresult\u001b[0m \u001b[0;34m=\u001b[0m \u001b[0mfunc\u001b[0m\u001b[0;34m(\u001b[0m\u001b[0;34m*\u001b[0m\u001b[0margs\u001b[0m\u001b[0;34m,\u001b[0m \u001b[0;34m**\u001b[0m\u001b[0mkwargs\u001b[0m\u001b[0;34m)\u001b[0m\u001b[0;34m\u001b[0m\u001b[0;34m\u001b[0m\u001b[0m\n\u001b[0m\u001b[1;32m    642\u001b[0m \u001b[0;34m\u001b[0m\u001b[0m\n\u001b[1;32m    643\u001b[0m                 \u001b[0;32mif\u001b[0m \u001b[0mpostconditions\u001b[0m\u001b[0;34m:\u001b[0m\u001b[0;34m\u001b[0m\u001b[0;34m\u001b[0m\u001b[0m\n",
      "\u001b[0;32m~/anaconda3/lib/python3.8/site-packages/use/main.py\u001b[0m in \u001b[0;36m_use_package\u001b[0;34m(self, name, package_name, module_name, version, hashes, default, hash_algo, modes, Message)\u001b[0m\n\u001b[1;32m    752\u001b[0m \u001b[0;34m\u001b[0m\u001b[0m\n\u001b[1;32m    753\u001b[0m         \u001b[0;32mif\u001b[0m \u001b[0misinstance\u001b[0m\u001b[0;34m(\u001b[0m\u001b[0mresult\u001b[0m\u001b[0;34m,\u001b[0m \u001b[0mException\u001b[0m\u001b[0;34m)\u001b[0m\u001b[0;34m:\u001b[0m\u001b[0;34m\u001b[0m\u001b[0;34m\u001b[0m\u001b[0m\n\u001b[0;32m--> 754\u001b[0;31m             \u001b[0;32mreturn\u001b[0m \u001b[0m_fail_or_default\u001b[0m\u001b[0;34m(\u001b[0m\u001b[0mresult\u001b[0m\u001b[0;34m,\u001b[0m \u001b[0mdefault\u001b[0m\u001b[0;34m)\u001b[0m\u001b[0;34m\u001b[0m\u001b[0;34m\u001b[0m\u001b[0m\n\u001b[0m\u001b[1;32m    755\u001b[0m \u001b[0;34m\u001b[0m\u001b[0m\n\u001b[1;32m    756\u001b[0m         \u001b[0;32mif\u001b[0m \u001b[0misinstance\u001b[0m\u001b[0;34m(\u001b[0m\u001b[0mresult\u001b[0m\u001b[0;34m,\u001b[0m \u001b[0mModuleType\u001b[0m\u001b[0;34m)\u001b[0m\u001b[0;34m:\u001b[0m\u001b[0;34m\u001b[0m\u001b[0;34m\u001b[0m\u001b[0m\n",
      "\u001b[0;32m~/anaconda3/lib/python3.8/site-packages/use/pimp.py\u001b[0m in \u001b[0;36m_fail_or_default\u001b[0;34m(exception, default)\u001b[0m\n\u001b[1;32m    943\u001b[0m         \u001b[0;32mreturn\u001b[0m \u001b[0mdefault\u001b[0m\u001b[0;34m\u001b[0m\u001b[0;34m\u001b[0m\u001b[0m\n\u001b[1;32m    944\u001b[0m     \u001b[0;32melse\u001b[0m\u001b[0;34m:\u001b[0m\u001b[0;34m\u001b[0m\u001b[0;34m\u001b[0m\u001b[0m\n\u001b[0;32m--> 945\u001b[0;31m         \u001b[0;32mraise\u001b[0m \u001b[0mexception\u001b[0m\u001b[0;34m\u001b[0m\u001b[0;34m\u001b[0m\u001b[0m\n\u001b[0m\u001b[1;32m    946\u001b[0m \u001b[0;34m\u001b[0m\u001b[0m\n\u001b[1;32m    947\u001b[0m \u001b[0;34m\u001b[0m\u001b[0m\n",
      "\u001b[0;31mRuntimeWarning\u001b[0m: Failed to auto-install 'pygame' because hashes aren't specified.\n        A webbrowser should open with a list of available hashes for different platforms for you to pick.\"\n        If you want to use the package only on this platform, this should work:\n    use(\"pygame\", version=\"2.1.2\", hashes='V蘕驈詋光釠軫鳌铎縵䁄鉠龔嵚匟䍶癦㣠', modes=use.auto_install)"
     ]
    }
   ],
   "source": [
    "use(\"pygame\", version=\"2.1.2\", modes=use.auto_install)"
   ]
  },
  {
   "cell_type": "markdown",
   "metadata": {},
   "source": [
    "Hey, did you see the browser tab that just opened? You can select all the platforms and python versions you want to support there and just copy & paste the snippet - let's get the one for python 3.8 and ubuntu I'm running here.."
   ]
  },
  {
   "cell_type": "markdown",
   "metadata": {
    "execution": {
     "iopub.execute_input": "2021-11-23T20:24:34.295653Z",
     "iopub.status.busy": "2021-11-23T20:24:34.294878Z",
     "iopub.status.idle": "2021-11-23T20:24:34.314741Z",
     "shell.execute_reply": "2021-11-23T20:24:34.312597Z",
     "shell.execute_reply.started": "2021-11-23T20:24:34.295588Z"
    }
   },
   "source": [
    "You wonder what those chinese looking characters are? Well. Normally, hexdigests look something like `d6c1c1c53a988b3daf44c1865d40f86de48665639bfbd5eea1317eb083638a3a` which is way too verbose on a normal line of code and since you shouldn't manually type those anyway but only copy&paste, we thought what the heck - let's use the japanese, ascii, chinese and korean alphabets (thus JACK) to encode those hashes as compact as we can."
   ]
  },
  {
   "cell_type": "markdown",
   "metadata": {},
   "source": [
    "Well, let's try to use all the linux ones for py38 - copy&paste.."
   ]
  },
  {
   "cell_type": "code",
   "execution_count": 14,
   "metadata": {
    "execution": {
     "iopub.execute_input": "2022-04-17T15:39:52.634497Z",
     "iopub.status.busy": "2022-04-17T15:39:52.634136Z",
     "iopub.status.idle": "2022-04-17T15:39:52.704860Z",
     "shell.execute_reply": "2022-04-17T15:39:52.703301Z",
     "shell.execute_reply.started": "2022-04-17T15:39:52.634458Z"
    },
    "tags": []
   },
   "outputs": [
    {
     "name": "stderr",
     "output_type": "stream",
     "text": [
      "\u001b[1;320mINFO\u001b[1;30m: \u001b[0m\u001b[1;36muse.main\u001b[1;30m: \u001b[0mcase = (True, True, False, True)\n",
      "\u001b[1;320mINFO\u001b[1;30m: \u001b[0m\u001b[1;36muse.buffet_old\u001b[1;30m: \u001b[0mresult = <module 'pygame' from '/home/thorsten/.justuse-python/venv/pygame/2.1.2/lib/python3.8/site-packages/pygame/__init__.py'>\n"
     ]
    },
    {
     "name": "stdout",
     "output_type": "stream",
     "text": [
      "pygame 2.1.2 (SDL 2.0.16, Python 3.8.5)\n",
      "Hello from the pygame community. https://www.pygame.org/contribute.html\n"
     ]
    },
    {
     "data": {
      "text/plain": [
       "<module 'pygame' from '/home/thorsten/.justuse-python/venv/pygame/2.1.2/lib/python3.8/site-packages/pygame/__init__.py'>"
      ]
     },
     "execution_count": 14,
     "metadata": {},
     "output_type": "execute_result"
    }
   ],
   "source": [
    "use('pygame', version='2.1.2', modes=use.auto_install, hash_algo=use.Hash.sha256, hashes={\n",
    "    '1219a963941bd53aa754e8449364c142004fe706c33a9c22ff2a76521a82d078',  # cp38-manylinux_2_12_x86_64.manylinux2010_x86_64\n",
    "    'ea36f4f93524554a35cac2359df63b50af6556ed866830aa1f07f0d8580280ea',  # cp38-manylinux_2_5_x86_64.manylinux1_x86_64\n",
    "    '97a74ba186deee68318a52637012ef6abf5be6282c659e1d1ba6ad08cf35ec85',  # cp38-manylinux_2_17_x86_64.manylinux2014_x86_64 \n",
    "})"
   ]
  },
  {
   "cell_type": "markdown",
   "metadata": {
    "execution": {
     "iopub.execute_input": "2021-11-22T18:09:18.480558Z",
     "iopub.status.busy": "2021-11-22T18:09:18.479870Z",
     "iopub.status.idle": "2021-11-22T18:09:18.495532Z",
     "shell.execute_reply": "2021-11-22T18:09:18.492594Z",
     "shell.execute_reply.started": "2021-11-22T18:09:18.480515Z"
    }
   },
   "source": [
    "Wow, did we just download, install and load the pygame package without leaving our own sweet code?? Yes, we did!"
   ]
  },
  {
   "cell_type": "markdown",
   "metadata": {
    "execution": {
     "iopub.execute_input": "2021-11-22T18:13:38.832767Z",
     "iopub.status.busy": "2021-11-22T18:13:38.832002Z",
     "iopub.status.idle": "2021-11-22T18:13:38.847351Z",
     "shell.execute_reply": "2021-11-22T18:13:38.844955Z",
     "shell.execute_reply.started": "2021-11-22T18:13:38.832713Z"
    }
   },
   "source": [
    "Furthermore, the package we installed is version and hash-pinned so we really only get what we asked for and nothing else."
   ]
  },
  {
   "cell_type": "markdown",
   "metadata": {},
   "source": [
    "There's a small problem though. Those hashes refer to very specific files and some of those packages may be written in C or even Fortran (like numpy) that are compiled for specific platforms.\n",
    "If you happily develop code on Linux that uses something platform-specific (like numpy!) it will all work without problems - until you try to run your code on another platform. In this case, you need to specify all hashes for all platforms you want to run your code on."
   ]
  },
  {
   "cell_type": "markdown",
   "metadata": {},
   "source": [
    "Version- and hash-pinning is the most secure way to install a package. It will ensure that your code will always run as you expect it, but there's a drawback: there is no immediate and automatic way to update code without involving the user (yet). On one side, you won't ever accidentally break your stuff by updating something else, but you also won't benefit from automatic security patches. To fix this shortcoming, it might be feasible to build IDE-plugins that check and update these pins in the code or check some database for security patches every time an auto-installed package is imported - please contact us if you have ideas or better yet, code ;-)"
   ]
  },
  {
   "cell_type": "markdown",
   "metadata": {},
   "source": [
    "## Use() modules from anywhere!\n",
    "If you `import` some package or module, you're limited to the stuff you have in your current directory or below (but only if there is a `__init__.py` or if it's an implicit namespace package) and the things in your sys.path, which can be manipulated freely, making it very complicated to handle. Let's suppose we're in our test directory."
   ]
  },
  {
   "cell_type": "code",
   "execution_count": 15,
   "metadata": {
    "execution": {
     "iopub.execute_input": "2022-04-17T15:39:58.867399Z",
     "iopub.status.busy": "2022-04-17T15:39:58.867002Z",
     "iopub.status.idle": "2022-04-17T15:39:58.876127Z",
     "shell.execute_reply": "2022-04-17T15:39:58.874918Z",
     "shell.execute_reply.started": "2022-04-17T15:39:58.867353Z"
    },
    "tags": []
   },
   "outputs": [
    {
     "name": "stdout",
     "output_type": "stream",
     "text": [
      "/media/sf_Dropbox/code/justuse/tests\n"
     ]
    }
   ],
   "source": [
    "%cd ~/Desktop/sf_Dropbox/code/justuse/tests"
   ]
  },
  {
   "cell_type": "markdown",
   "metadata": {},
   "source": [
    "the code we want to run is in justuse/docs and there is no `__init__.py` in between, so to get to run the code, we could put the src directory in sys.path - or we could use() a module directly!"
   ]
  },
  {
   "cell_type": "code",
   "execution_count": 16,
   "metadata": {
    "execution": {
     "iopub.execute_input": "2022-04-17T15:40:00.125473Z",
     "iopub.status.busy": "2022-04-17T15:40:00.125106Z",
     "iopub.status.idle": "2022-04-17T15:40:00.135295Z",
     "shell.execute_reply": "2022-04-17T15:40:00.134230Z",
     "shell.execute_reply.started": "2022-04-17T15:40:00.125434Z"
    },
    "tags": []
   },
   "outputs": [
    {
     "name": "stderr",
     "output_type": "stream",
     "text": [
      "\u001b[1;320mINFO\u001b[1;30m: \u001b[0m\u001b[1;36muse.pimp\u001b[1;30m: \u001b[0mPath.cwd()=PosixPath('/media/sf_Dropbox/code/justuse/docs') package_name='' module_name='demo' module_path=PosixPath('/media/sf_Dropbox/code/justuse/docs/demo.py')\n"
     ]
    }
   ],
   "source": [
    "mod = use(use.Path(\"../docs/demo.py\"))"
   ]
  },
  {
   "cell_type": "code",
   "execution_count": 17,
   "metadata": {
    "execution": {
     "iopub.execute_input": "2022-04-17T15:40:00.977545Z",
     "iopub.status.busy": "2022-04-17T15:40:00.977160Z",
     "iopub.status.idle": "2022-04-17T15:40:00.982581Z",
     "shell.execute_reply": "2022-04-17T15:40:00.981639Z",
     "shell.execute_reply.started": "2022-04-17T15:40:00.977506Z"
    },
    "tags": []
   },
   "outputs": [
    {
     "name": "stdout",
     "output_type": "stream",
     "text": [
      "Hello justuse-user!\n"
     ]
    }
   ],
   "source": [
    "mod.foo()"
   ]
  },
  {
   "cell_type": "markdown",
   "metadata": {},
   "source": [
    "Loading single modules doesn't sound like much, but especially while experimenting on jupyter, this can be used very effectively in conjunction with the reloading mode:"
   ]
  },
  {
   "cell_type": "code",
   "execution_count": 18,
   "metadata": {
    "execution": {
     "iopub.execute_input": "2022-04-17T15:40:02.990945Z",
     "iopub.status.busy": "2022-04-17T15:40:02.990582Z",
     "iopub.status.idle": "2022-04-17T15:40:02.999952Z",
     "shell.execute_reply": "2022-04-17T15:40:02.999140Z",
     "shell.execute_reply.started": "2022-04-17T15:40:02.990906Z"
    },
    "tags": []
   },
   "outputs": [
    {
     "name": "stderr",
     "output_type": "stream",
     "text": [
      "\u001b[1;320mINFO\u001b[1;30m: \u001b[0m\u001b[1;36muse.pimp\u001b[1;30m: \u001b[0mPath.cwd()=PosixPath('/media/sf_Dropbox/code/justuse/docs') package_name='' module_name='demo' module_path=PosixPath('/media/sf_Dropbox/code/justuse/docs/demo.py')\n"
     ]
    }
   ],
   "source": [
    "mod = use(use.Path(\"../docs/demo.py\"), modes=use.reloading)"
   ]
  },
  {
   "cell_type": "markdown",
   "metadata": {},
   "source": [
    "Now this module is loaded fresh whenever you modify and save the file, replacing the implementation behind the scene. This will work without any problems as long as you put functions in that module and if you access those functions via attribute-access (`mod.func()` **not** `func = mod.func; func()`)."
   ]
  },
  {
   "cell_type": "markdown",
   "metadata": {
    "execution": {
     "iopub.execute_input": "2021-11-23T00:11:22.768463Z",
     "iopub.status.busy": "2021-11-23T00:11:22.767536Z",
     "iopub.status.idle": "2021-11-23T00:11:22.781007Z",
     "shell.execute_reply": "2021-11-23T00:11:22.779348Z",
     "shell.execute_reply.started": "2021-11-23T00:11:22.768380Z"
    }
   },
   "source": [
    "If you can load modules from disk, why couldn't you load them from the web? Let's say you found an interesting github repo like https://github.com/amogorkon/justuse. Chances are, there's also a package on pypi you can pip-install, but maybe there's not. Maybe you're only interested in a single module from that repo/package, so you don't even want to install anything. Then you could download it from github, move the file manually into your folder and import it - sounds like a lot of trouble for a single module!\n",
    "There has to be a better way! And there is - you can just use() web resources:"
   ]
  },
  {
   "cell_type": "code",
   "execution_count": 19,
   "metadata": {
    "execution": {
     "iopub.execute_input": "2022-04-17T15:40:05.625058Z",
     "iopub.status.busy": "2022-04-17T15:40:05.624675Z",
     "iopub.status.idle": "2022-04-17T15:40:05.958208Z",
     "shell.execute_reply": "2022-04-17T15:40:05.955713Z",
     "shell.execute_reply.started": "2022-04-17T15:40:05.625019Z"
    },
    "tags": []
   },
   "outputs": [
    {
     "name": "stderr",
     "output_type": "stream",
     "text": [
      "/home/thorsten/anaconda3/lib/python3.8/site-packages/use/main.py:415: NoValidationWarning: Attempting to import from the interwebs with no validation whatsoever!\n",
      "To safely reproduce:\n",
      "use(use.URL('https://raw.githubusercontent.com/amogorkon/justuse/unstable/docs/demo.py'), hash_algo=use.Hash.sha256, hash_value='59eff31bb220ce933ccc083b9306020ec25d19d43de30e5ad4341b355d4b48bf')\n",
      "  warn(UserMessage.no_validation(url, hash_algo, this_hash), NoValidationWarning)\n",
      "\u001b[1;320mINFO\u001b[1;30m: \u001b[0m\u001b[1;36muse.pimp\u001b[1;30m: \u001b[0mPath.cwd()=PosixPath('/media/sf_Dropbox/code/justuse/tests') package_name='' module_name='demo.py' module_path=PosixPath('/media/sf_Dropbox/code/justuse/tests/amogorkon/justuse/unstable/docs/demo.py')\n"
     ]
    }
   ],
   "source": [
    "mod = use(use.URL(\"https://raw.githubusercontent.com/amogorkon/justuse/unstable/docs/demo.py\"))"
   ]
  },
  {
   "cell_type": "markdown",
   "metadata": {
    "execution": {
     "iopub.execute_input": "2021-11-23T00:17:40.146456Z",
     "iopub.status.busy": "2021-11-23T00:17:40.145947Z",
     "iopub.status.idle": "2021-11-23T00:17:40.155091Z",
     "shell.execute_reply": "2021-11-23T00:17:40.153301Z",
     "shell.execute_reply.started": "2021-11-23T00:17:40.146414Z"
    }
   },
   "source": [
    "copy&paste that line from the exception to get that sweet hash.."
   ]
  },
  {
   "cell_type": "code",
   "execution_count": 20,
   "metadata": {
    "execution": {
     "iopub.execute_input": "2022-04-17T15:40:09.010105Z",
     "iopub.status.busy": "2022-04-17T15:40:09.009775Z",
     "iopub.status.idle": "2022-04-17T15:40:09.100290Z",
     "shell.execute_reply": "2022-04-17T15:40:09.099495Z",
     "shell.execute_reply.started": "2022-04-17T15:40:09.010070Z"
    },
    "tags": []
   },
   "outputs": [
    {
     "name": "stderr",
     "output_type": "stream",
     "text": [
      "\u001b[1;320mINFO\u001b[1;30m: \u001b[0m\u001b[1;36muse.pimp\u001b[1;30m: \u001b[0mPath.cwd()=PosixPath('/media/sf_Dropbox/code/justuse/tests') package_name='' module_name='demo.py' module_path=PosixPath('/media/sf_Dropbox/code/justuse/tests/amogorkon/justuse/unstable/docs/demo.py')\n"
     ]
    }
   ],
   "source": [
    "mod = use(use.URL('https://raw.githubusercontent.com/amogorkon/justuse/unstable/docs/demo.py'), hash_algo=use.Hash.sha256, hash_value='59eff31bb220ce933ccc083b9306020ec25d19d43de30e5ad4341b355d4b48bf')"
   ]
  },
  {
   "cell_type": "code",
   "execution_count": 21,
   "metadata": {
    "execution": {
     "iopub.execute_input": "2022-04-17T15:40:11.317028Z",
     "iopub.status.busy": "2022-04-17T15:40:11.316687Z",
     "iopub.status.idle": "2022-04-17T15:40:11.323117Z",
     "shell.execute_reply": "2022-04-17T15:40:11.321966Z",
     "shell.execute_reply.started": "2022-04-17T15:40:11.316991Z"
    },
    "tags": []
   },
   "outputs": [
    {
     "name": "stdout",
     "output_type": "stream",
     "text": [
      "Hello justuse-user!\n"
     ]
    }
   ],
   "source": [
    "mod.foo()"
   ]
  },
  {
   "cell_type": "markdown",
   "metadata": {},
   "source": [
    "Since the content of this file is now hash-pinned, it doesn't matter whether or not someone hacks github and changes the code - justuse will instantly notice before executing any code. You can even execute code directly from pastebin or any other untrusted, public platform - as long as you have the proper hash, you're safe."
   ]
  },
  {
   "cell_type": "markdown",
   "metadata": {},
   "source": [
    "## A word on circular imports\n",
    "Everyone stumbles over a circular import once they try to build slightly more complex projects and it can get very ugly and overly frustrating to deal with those.\n",
    "\n",
    "Let's suppose we have two modules A and B:"
   ]
  },
  {
   "cell_type": "code",
   "execution_count": 22,
   "metadata": {
    "execution": {
     "iopub.execute_input": "2022-04-17T15:40:14.850771Z",
     "iopub.status.busy": "2022-04-17T15:40:14.850344Z",
     "iopub.status.idle": "2022-04-17T15:40:14.989361Z",
     "shell.execute_reply": "2022-04-17T15:40:14.988136Z",
     "shell.execute_reply.started": "2022-04-17T15:40:14.850731Z"
    },
    "tags": []
   },
   "outputs": [
    {
     "name": "stdout",
     "output_type": "stream",
     "text": [
      "/media/sf_Dropbox/code/justuse/docs\n",
      "insgesamt 51\n",
      "-rwxrwx--- 1 root  2356 Mär 24 11:29  \u001b[0m\u001b[01;32mcodeflow.md\u001b[0m*\n",
      "-rwxrwx--- 1 root  1326 Mär 24 11:29 \u001b[01;32m'database schema.md'\u001b[0m*\n",
      "-rwxrwx--- 1 root    43 Feb 16 11:35  \u001b[01;32mdemo.py\u001b[0m*\n",
      "-rwxrwx--- 1 root    97 Feb 16 11:35  \u001b[01;32mmodule_a.py\u001b[0m*\n",
      "-rwxrwx--- 1 root    47 Feb 16 11:35  \u001b[01;32mmodule_b.py\u001b[0m*\n",
      "-rwxrwx--- 1 root    62 Feb 16 11:35  \u001b[01;32mmodule_circular_a.py\u001b[0m*\n",
      "-rwxrwx--- 1 root    68 Feb 16 11:35  \u001b[01;32mmodule_circular_b.py\u001b[0m*\n",
      "drwxrwx--- 1 root  4096 Mär 29 19:09  \u001b[01;34m__pycache__\u001b[0m/\n",
      "-rwxrwx--- 1 root 77023 Apr 17 17:38  \u001b[01;32mShowcase.ipynb\u001b[0m*\n"
     ]
    }
   ],
   "source": [
    "%cd ../docs\n",
    "%ll"
   ]
  },
  {
   "cell_type": "code",
   "execution_count": 23,
   "metadata": {
    "execution": {
     "iopub.execute_input": "2022-04-17T15:40:16.830012Z",
     "iopub.status.busy": "2022-04-17T15:40:16.829628Z",
     "iopub.status.idle": "2022-04-17T15:40:16.839570Z",
     "shell.execute_reply": "2022-04-17T15:40:16.838359Z",
     "shell.execute_reply.started": "2022-04-17T15:40:16.829971Z"
    },
    "tags": []
   },
   "outputs": [
    {
     "data": {
      "text/plain": [
       "\u001b[0mprint\u001b[0m\u001b[0;34m(\u001b[0m\u001b[0;34m\"Hello from A!\"\u001b[0m\u001b[0;34m)\u001b[0m\u001b[0;34m\u001b[0m\n",
       "\u001b[0;34m\u001b[0m\u001b[0;34m\u001b[0m\n",
       "\u001b[0;34m\u001b[0m\u001b[0;32mimport\u001b[0m \u001b[0mmodule_circular_b\u001b[0m\u001b[0;34m\u001b[0m\n",
       "\u001b[0;34m\u001b[0m\u001b[0;34m\u001b[0m\n",
       "\u001b[0;34m\u001b[0m\u001b[0mfoo\u001b[0m \u001b[0;34m=\u001b[0m \u001b[0;36m23\u001b[0m\u001b[0;34m\u001b[0m\u001b[0;34m\u001b[0m\u001b[0m\n"
      ]
     },
     "metadata": {},
     "output_type": "display_data"
    }
   ],
   "source": [
    "%less module_circular_a.py"
   ]
  },
  {
   "cell_type": "code",
   "execution_count": 24,
   "metadata": {
    "execution": {
     "iopub.execute_input": "2022-04-17T15:40:21.280185Z",
     "iopub.status.busy": "2022-04-17T15:40:21.279768Z",
     "iopub.status.idle": "2022-04-17T15:40:21.287660Z",
     "shell.execute_reply": "2022-04-17T15:40:21.286564Z",
     "shell.execute_reply.started": "2022-04-17T15:40:21.280146Z"
    },
    "tags": []
   },
   "outputs": [
    {
     "data": {
      "text/plain": [
       "\u001b[0;34m\u001b[0m\n",
       "\u001b[0;34m\u001b[0m\u001b[0;32mfrom\u001b[0m \u001b[0mmodule_circular_a\u001b[0m \u001b[0;32mimport\u001b[0m \u001b[0mfoo\u001b[0m\u001b[0;34m\u001b[0m\n",
       "\u001b[0;34m\u001b[0m\u001b[0;34m\u001b[0m\n",
       "\u001b[0;34m\u001b[0m\u001b[0mprint\u001b[0m\u001b[0;34m(\u001b[0m\u001b[0;34m\"Hello from B!\"\u001b[0m\u001b[0;34m,\u001b[0m \u001b[0mfoo\u001b[0m\u001b[0;34m)\u001b[0m\u001b[0;34m\u001b[0m\u001b[0;34m\u001b[0m\u001b[0m\n"
      ]
     },
     "metadata": {},
     "output_type": "display_data"
    }
   ],
   "source": [
    "%less module_circular_b.py"
   ]
  },
  {
   "cell_type": "code",
   "execution_count": 25,
   "metadata": {
    "execution": {
     "iopub.execute_input": "2022-04-17T15:40:22.153957Z",
     "iopub.status.busy": "2022-04-17T15:40:22.151665Z",
     "iopub.status.idle": "2022-04-17T15:40:22.193372Z",
     "shell.execute_reply": "2022-04-17T15:40:22.192641Z",
     "shell.execute_reply.started": "2022-04-17T15:40:22.153909Z"
    },
    "tags": []
   },
   "outputs": [
    {
     "name": "stdout",
     "output_type": "stream",
     "text": [
      "Hello from A!\n"
     ]
    },
    {
     "ename": "ImportError",
     "evalue": "cannot import name 'foo' from partially initialized module 'module_circular_a' (most likely due to a circular import) (/media/sf_Dropbox/code/justuse/docs/module_circular_a.py)",
     "output_type": "error",
     "traceback": [
      "\u001b[0;31m---------------------------------------------------------------------------\u001b[0m",
      "\u001b[0;31mImportError\u001b[0m                               Traceback (most recent call last)",
      "\u001b[0;32m/tmp/ipykernel_3719/2853914029.py\u001b[0m in \u001b[0;36m<module>\u001b[0;34m\u001b[0m\n\u001b[0;32m----> 1\u001b[0;31m \u001b[0;32mimport\u001b[0m \u001b[0mmodule_circular_a\u001b[0m\u001b[0;34m\u001b[0m\u001b[0;34m\u001b[0m\u001b[0m\n\u001b[0m",
      "\u001b[0;32m/media/sf_Dropbox/code/justuse/docs/module_circular_a.py\u001b[0m in \u001b[0;36m<module>\u001b[0;34m\u001b[0m\n\u001b[1;32m      1\u001b[0m \u001b[0mprint\u001b[0m\u001b[0;34m(\u001b[0m\u001b[0;34m\"Hello from A!\"\u001b[0m\u001b[0;34m)\u001b[0m\u001b[0;34m\u001b[0m\u001b[0;34m\u001b[0m\u001b[0m\n\u001b[1;32m      2\u001b[0m \u001b[0;34m\u001b[0m\u001b[0m\n\u001b[0;32m----> 3\u001b[0;31m \u001b[0;32mimport\u001b[0m \u001b[0mmodule_circular_b\u001b[0m\u001b[0;34m\u001b[0m\u001b[0;34m\u001b[0m\u001b[0m\n\u001b[0m\u001b[1;32m      4\u001b[0m \u001b[0;34m\u001b[0m\u001b[0m\n\u001b[1;32m      5\u001b[0m \u001b[0mfoo\u001b[0m \u001b[0;34m=\u001b[0m \u001b[0;36m23\u001b[0m\u001b[0;34m\u001b[0m\u001b[0;34m\u001b[0m\u001b[0m\n",
      "\u001b[0;32m/media/sf_Dropbox/code/justuse/docs/module_circular_b.py\u001b[0m in \u001b[0;36m<module>\u001b[0;34m\u001b[0m\n\u001b[1;32m      1\u001b[0m \u001b[0;34m\u001b[0m\u001b[0m\n\u001b[0;32m----> 2\u001b[0;31m \u001b[0;32mfrom\u001b[0m \u001b[0mmodule_circular_a\u001b[0m \u001b[0;32mimport\u001b[0m \u001b[0mfoo\u001b[0m\u001b[0;34m\u001b[0m\u001b[0;34m\u001b[0m\u001b[0m\n\u001b[0m\u001b[1;32m      3\u001b[0m \u001b[0;34m\u001b[0m\u001b[0m\n\u001b[1;32m      4\u001b[0m \u001b[0mprint\u001b[0m\u001b[0;34m(\u001b[0m\u001b[0;34m\"Hello from B!\"\u001b[0m\u001b[0;34m,\u001b[0m \u001b[0mfoo\u001b[0m\u001b[0;34m)\u001b[0m\u001b[0;34m\u001b[0m\u001b[0;34m\u001b[0m\u001b[0m\n",
      "\u001b[0;31mImportError\u001b[0m: cannot import name 'foo' from partially initialized module 'module_circular_a' (most likely due to a circular import) (/media/sf_Dropbox/code/justuse/docs/module_circular_a.py)"
     ]
    }
   ],
   "source": [
    "import module_circular_a"
   ]
  },
  {
   "cell_type": "code",
   "execution_count": 26,
   "metadata": {
    "execution": {
     "iopub.execute_input": "2022-04-17T15:40:25.575250Z",
     "iopub.status.busy": "2022-04-17T15:40:25.574680Z",
     "iopub.status.idle": "2022-04-17T15:40:25.582979Z",
     "shell.execute_reply": "2022-04-17T15:40:25.582041Z",
     "shell.execute_reply.started": "2022-04-17T15:40:25.575210Z"
    },
    "tags": []
   },
   "outputs": [
    {
     "data": {
      "text/plain": [
       "\u001b[0;32mimport\u001b[0m \u001b[0muse\u001b[0m\u001b[0;34m\u001b[0m\n",
       "\u001b[0;34m\u001b[0m\u001b[0;34m\u001b[0m\n",
       "\u001b[0;34m\u001b[0m\u001b[0mprint\u001b[0m\u001b[0;34m(\u001b[0m\u001b[0;34m\"Hello from A!\"\u001b[0m\u001b[0;34m)\u001b[0m\u001b[0;34m\u001b[0m\n",
       "\u001b[0;34m\u001b[0m\u001b[0;34m\u001b[0m\n",
       "\u001b[0;34m\u001b[0m\u001b[0muse\u001b[0m\u001b[0;34m(\u001b[0m\u001b[0muse\u001b[0m\u001b[0;34m.\u001b[0m\u001b[0mPath\u001b[0m\u001b[0;34m(\u001b[0m\u001b[0;34m\"module_b.py\"\u001b[0m\u001b[0;34m)\u001b[0m\u001b[0;34m,\u001b[0m \u001b[0minitial_globals\u001b[0m\u001b[0;34m=\u001b[0m\u001b[0;34m{\u001b[0m\u001b[0;34m\"foo\"\u001b[0m\u001b[0;34m:\u001b[0m \u001b[0;36m23\u001b[0m\u001b[0;34m}\u001b[0m\u001b[0;34m)\u001b[0m\u001b[0;34m\u001b[0m\u001b[0;34m\u001b[0m\u001b[0m\n"
      ]
     },
     "metadata": {},
     "output_type": "display_data"
    }
   ],
   "source": [
    "%less module_a.py"
   ]
  },
  {
   "cell_type": "code",
   "execution_count": 27,
   "metadata": {
    "execution": {
     "iopub.execute_input": "2022-04-17T15:40:27.906632Z",
     "iopub.status.busy": "2022-04-17T15:40:27.905611Z",
     "iopub.status.idle": "2022-04-17T15:40:27.913469Z",
     "shell.execute_reply": "2022-04-17T15:40:27.912474Z",
     "shell.execute_reply.started": "2022-04-17T15:40:27.906600Z"
    },
    "tags": []
   },
   "outputs": [
    {
     "data": {
      "text/plain": [
       "\u001b[0mfoo\u001b[0m\u001b[0;34m:\u001b[0m \u001b[0mint\u001b[0m\u001b[0;34m\u001b[0m\n",
       "\u001b[0;34m\u001b[0m\u001b[0;34m\u001b[0m\n",
       "\u001b[0;34m\u001b[0m\u001b[0mprint\u001b[0m\u001b[0;34m(\u001b[0m\u001b[0;34mf\"Hello from B! foo={foo}\"\u001b[0m\u001b[0;34m)\u001b[0m\u001b[0;34m\u001b[0m\u001b[0;34m\u001b[0m\u001b[0m\n"
      ]
     },
     "metadata": {},
     "output_type": "display_data"
    }
   ],
   "source": [
    "%less module_b.py"
   ]
  },
  {
   "cell_type": "code",
   "execution_count": 28,
   "metadata": {
    "execution": {
     "iopub.execute_input": "2022-04-17T15:40:28.464989Z",
     "iopub.status.busy": "2022-04-17T15:40:28.463829Z",
     "iopub.status.idle": "2022-04-17T15:40:28.479973Z",
     "shell.execute_reply": "2022-04-17T15:40:28.478920Z",
     "shell.execute_reply.started": "2022-04-17T15:40:28.464943Z"
    },
    "tags": []
   },
   "outputs": [
    {
     "name": "stderr",
     "output_type": "stream",
     "text": [
      "\u001b[1;320mINFO\u001b[1;30m: \u001b[0m\u001b[1;36muse.pimp\u001b[1;30m: \u001b[0mPath.cwd()=PosixPath('/media/sf_Dropbox/code/justuse/docs') package_name='' module_name='module_a' module_path=PosixPath('/media/sf_Dropbox/code/justuse/docs/module_a.py')\n",
      "\u001b[1;320mINFO\u001b[1;30m: \u001b[0m\u001b[1;36muse.pimp\u001b[1;30m: \u001b[0mPath.cwd()=PosixPath('/media/sf_Dropbox/code/justuse/docs') package_name='' module_name='module_b' module_path=PosixPath('/media/sf_Dropbox/code/justuse/docs/module_b.py')\n"
     ]
    },
    {
     "name": "stdout",
     "output_type": "stream",
     "text": [
      "Hello from A!\n",
      "Hello from B! foo=23\n"
     ]
    }
   ],
   "source": [
    "modA = use(use.Path(\"module_a.py\"))"
   ]
  },
  {
   "cell_type": "markdown",
   "metadata": {},
   "source": [
    "## Aspects and decorators\n",
    "If you have code like\n",
    "\n",
    "```\n",
    "def foo(x):\n",
    "    return x ** 2\n",
    "```\n",
    "There are two ways to modify the behaviour of the code. Let's say you want to know which arguments were passed in and you want to print those arguments, so you can either add the print statement inside like\n",
    "```\n",
    "def foo(x):\n",
    "    print(x)\n",
    "    return x ** 2\n",
    "```\n",
    "or you can wrap the function with another function which gets called instead like\n",
    "\n",
    "```\n",
    "def decorator(x):\n",
    "    print(x)\n",
    "    return foo(x)\n",
    "```\n",
    "which you can also write as a function that takes a function as argument - a \"higher order function\" if you will - like\n",
    "```\n",
    "def decorator(func):\n",
    "   def wrapper(*args, **kwargs):\n",
    "       print(*args, **kwargs)\n",
    "       return func(*args, **kwargs)\n",
    "   return wrapper\n",
    "foo = wrap(foo)\n",
    "foo(x)\n",
    "```\n",
    "which looks a bit convoluted, so there is some syntactic sugar in python to make it look nicer:\n",
    "```\n",
    "@decorator\n",
    "def foo(x):\n",
    "    return x ** 2\n",
    "```"
   ]
  },
  {
   "cell_type": "markdown",
   "metadata": {},
   "source": [
    "There is nothing wrong with this approach, it's a plain and simple decorator, obvious reading the code. The only big problem is that single decorator is nice and simple but adding more quickly gets messy and complicated, not just because it gets hard to read and reason about but also because writing correct decorators is not as plain and simple as it may look like. For example, the *decorator* function above is bad because it will shadow the signature and docstring of the function it is wrapping. The second big problem is that it is quite messy to add decorators manually to code with lots of functions or methods. It can be not only a lot to write but also add visual noise, making it harder to read code (the opposite of what it was supposed to do!) while making it harder to keep [DRY](https://en.wikipedia.org/wiki/Don%27t_repeat_yourself). The third big problem, no wait, amongst the chief problems of manually adding decorators is that it can be quite painful or impossible to deal with callables (functions, methods but also classes can be callable!) that originate in code you can't control, for example code that isn't even written in python but in C (like numpy)."
   ]
  },
  {
   "cell_type": "markdown",
   "metadata": {},
   "source": [
    "Our solution: use() adds functionality to the modules you request and gives you an easy way to decorate *everything* in a single line."
   ]
  },
  {
   "cell_type": "code",
   "execution_count": 36,
   "metadata": {
    "execution": {
     "iopub.execute_input": "2022-04-17T15:42:14.208209Z",
     "iopub.status.busy": "2022-04-17T15:42:14.207771Z",
     "iopub.status.idle": "2022-04-17T15:42:14.213143Z",
     "shell.execute_reply": "2022-04-17T15:42:14.212232Z",
     "shell.execute_reply.started": "2022-04-17T15:42:14.208160Z"
    },
    "tags": []
   },
   "outputs": [],
   "source": [
    "import numpy"
   ]
  },
  {
   "cell_type": "markdown",
   "metadata": {},
   "source": [
    "Justuse comes with two decorators `use.woody_logger` and `use.tinny_profiler` which you can use but it also works for decorators like `beartype`."
   ]
  },
  {
   "cell_type": "code",
   "execution_count": 38,
   "metadata": {
    "execution": {
     "iopub.execute_input": "2022-04-17T15:42:32.115458Z",
     "iopub.status.busy": "2022-04-17T15:42:32.115116Z",
     "iopub.status.idle": "2022-04-17T15:42:32.382770Z",
     "shell.execute_reply": "2022-04-17T15:42:32.381774Z",
     "shell.execute_reply.started": "2022-04-17T15:42:32.115423Z"
    },
    "tags": []
   },
   "outputs": [
    {
     "name": "stdout",
     "output_type": "stream",
     "text": [
      "() {} -> numpy::__dir__\n",
      "() {} -> numpy::__dir__\n",
      "-> numpy::__dir__ (in 91304 ns (9e-05 sec) -> ['transpose', 'SHIFT_DIVIDEBYZERO', 'column_stack', 'os', 'nanmin', 'e', 'mat', 'moveaxis', '__NUMPY_SETUP__', 'argmax', 'prod', 'MAY_SHARE_EXACT', 'cosh', 'FPE_UNDERFLOW', 'sometrue', 'isscalar', 'FPE_INVALID', 'nancumprod', 'str_', 'ones', 'fliplr', 'complex64', 'flatnonzero', '_mat', 'union1d', 'split', 'log1p', 'tan', 'ComplexWarning', 'testing', 'fromiter', 'max', 'frombuffer', 'indices', 'nanpercentile', 'issubclass_', 'compare_chararrays', 'complex128', 'cumproduct', 'typecodes', 'tensordot', 'polynomial', 'Bytes0', 'fastCopyAndTranspose', 'resize', 'index_exp', 'asarray', 'integer', 'ERR_IGNORE', 'flip', 'ModuleDeprecationWarning', 'inner', 'busdaycalendar', 'minimum', '__version__', 'searchsorted', 'polyadd', 'numarray', 'Uint64', 'float16', 'histogram', 'NaN', 'deg2rad', 'find_common_type', 'arcsinh', 'extract', 'datetime_as_string', 'cov', 'format_parser', 'average', 'unicode_', 'nanprod', 'pad', 'FPE_DIVIDEBYZERO', 'ascontiguousarray', 'array2string', 'mask_indices', 'negative', 'shares_memory', 'int16', 'int0', 'trace', 'correlate', 'True_', 'atleast_3d', 'ceil', 'logical_not', 'kaiser', 'var', 'asscalar', 'is_busday', 'reciprocal', 'emath', '__mkl_version__', 'vstack', 'bytes_', 'TooHardError', 'MAXDIMS', 'histogramdd', 'diag_indices_from', 'warnings', 'blackman', 'lookfor', 'product', 'BUFSIZE', 'ones_like', 'choose', 'copyto', '__config__', 'ERR_LOG', 'sctypeDict', 'uintp', 'array_split', '__package__', 'safe_eval', 'polyfit', 'add_newdoc_ufunc', 'fromfunction', 'trim_zeros', 'uintc', 'euler_gamma', 'sctype2char', 'geomspace', 'infty', 'Datetime64', '__spec__', 'apply_over_axes', 'Str0', 'complex_', 'conjugate', 'put', 'quantile', 'atleast_2d', 'asfortranarray', 'polyval', 'inf', 'character', 'fft', 'broadcast_arrays', 'roll', 'test', 'nan_to_num', 'angle', 'signedinteger', 'spacing', 'real_if_close', 'ndenumerate', 'nan', 'PINF', 'info', 'insert', 'number', 'unwrap', 'nanstd', 'block', 'select', 'uint8', 'cdouble', 'msort', 'complexfloating', 'use_hugepage', 'nested_iters', 'frexp', 'ctypeslib', 'clongfloat', 'interp', 'logical_xor', 'less', 'argmin', 'result_type', 'datetime_data', 'sum', 'ravel', 'geterrcall', 'cfloat', 'bartlett', 'deprecate', 'iterable', 'greater_equal', 'repeat', 'disp', 'savez', '__getattr__', 'histogram2d', 'right_shift', 'csingle', 'equal', 'bincount', 'isreal', 'set_string_function', 'mgrid', 'copysign', 'little_endian', 'asfarray', 'longfloat', 'diagonal', 'convolve', 'gcd', 'broadcast_to', 'less_equal', '__doc__', 'longcomplex', 'source', 'ufunc', 'may_share_memory', 'iinfo', 'get_array_wrap', 'dsplit', 'intersect1d', 'nansum', 'sys', 'floor_divide', 'isclose', 'savetxt', 'maximum', 'core', 'digitize', 'size', 'promote_types', 'add_docstring', 'PZERO', 'iscomplex', 'trunc', 'zeros_like', 'ravel_multi_index', 'oldnumeric', 'argsort', 'absolute', 'nanquantile', 'polysub', 'math', 'allclose', 'Inf', 'tracemalloc_domain', 'flatiter', 'short', 'deprecate_with_doc', 'linspace', 'array', 'nonzero', 'chararray', 'take', 'rot90', 'float128', 'matmul', 'version', 'arctan2', 'hstack', 'RAISE', 'object0', 'vdot', 'shape', 'CLIP', 'generic', 'ndindex', 'in1d', 'array_equiv', 'ediff1d', 'logical_or', 'ushort', 'isneginf', 'count_nonzero', 'iscomplexobj', 'nanvar', 'clongdouble', 'lib', 'nanargmax', 'byte', 'loadtxt', 'nextafter', 'nancumsum', 'Infinity', 'UFUNC_BUFSIZE_DEFAULT', 'int8', 'format_float_positional', 'rollaxis', 'half', 'row_stack', 'float64', 'vsplit', 'exp2', 'nanmax', 'argpartition', 'vander', 'cumsum', 'errstate', 'intc', 'modf', 'outer', 'meshgrid', 'full', 'can_cast', 'fix', 'intp', 'complex256', 'positive', 'rec', 'empty_like', 'float_', '__cached__', 'bool8', 'SHIFT_UNDERFLOW', 'Tester', 'compat', 'poly', 'finfo', 'conj', 'FLOATING_POINT_SUPPORT', 'MachAr', 'diagflat', 'dot', 'cross', 'unsignedinteger', 'abs', 'typename', 'unique', 'hsplit', 'einsum', 'triu', 'savez_compressed', 'polydiv', 'recarray', 'around', 'arctan', 'apply_along_axis', 'min', 'int_', 'alltrue', 'setbufsize', 'void', 'arccos', 'obj2sctype', 'histogram_bin_edges', 'genfromtxt', '_globals', 'random', '_financial_names', 'ix_', 's_', 'isnat', 'bmat', 'eye', 'nanmedian', 'float32', 'ERR_RAISE', 'remainder', 'byte_bounds', 'atleast_1d', 'AxisError', 'SHIFT_OVERFLOW', 'packbits', 'i0', 'single', 'format_float_scientific', 'hamming', 'fromregex', 'vectorize', 'ndim', 'bytes0', 'divmod', '_version', 'datetime64', 'tile', 'corrcoef', 'arctanh', 'mintypecode', 'isfinite', 'kron', 'identity', 'stack', '_distributor_init', 'broadcast', 'WRAP', 'who', 'kernel_version', 'newaxis', 'uint32', 'dstack', 'seterrobj', 'swapaxes', 'busday_count', 'hanning', 'hypot', 'ubyte', 'pi', 'MAY_SHARE_BOUNDS', 'mean', 'sin', 'double', 'bitwise_not', 'timedelta64', 'std', 'loads', 'isposinf', 'maximum_sctype', 'linalg', 'isin', 'record', 'get_include', 'tanh', 'trapz', 'roots', 'NZERO', 'invert', 'r_', 'fill_diagonal', 'issubsctype', 'put_along_axis', 'show_config', 'issubdtype', '__builtins__', 'setxor1d', 'VisibleDeprecationWarning', 'object_', 'getbufsize', '_UFUNC_API', 'ALLOW_THREADS', 'sign', 'ma', 'bool_', 'clip', 'mkl', 'not_equal', 'matrixlib', 'sctypes', 'logaddexp', 'string_', 'compress', 'nanmean', 'geterr', 'expand_dims', 'int64', 'add_newdoc', 'singlecomplex', 'add', 'min_scalar_type', 'False_', 'logspace', 'append', 'cbrt', 'arccosh', 'floating', 'zeros', 'busday_offset', '__deprecated_attrs__', 'piecewise', 'dtype', 'frompyfunc', 'fmin', 'cumprod', 'flexible', 'signbit', 'DataSource', 'set_numeric_ops', 'str0', 'squeeze', 'ScalarType', 'round_', 'true_divide', 'array_str', 'nanargmin', 'polyint', 'common_type', '__expired_functions__', 'tri', 'recfromcsv', 'save', 'einsum_path', 'ogrid', 'diff', 'UFUNC_PYVALS_NAME', 'isfortran', 'RankWarning', 'asanyarray', 'binary_repr', 'heaviside', 'float_power', 'isnan', 'sqrt', 'amax', 'isinf', 'subtract', 'real', 'left_shift', 'cos', 'expm1', 'lcm', 'bitwise_or', 'NAN', 'fmod', 'uint64', 'divide', 'asmatrix', 'full_like', 'log', 'delete', 'mod', 'flipud', 'uint16', 'nditer', 'c_', '__path__', 'asarray_chkfinite', '_NoValue', 'require', 'diag', 'triu_indices', 'load', 'rint', 'seterrcall', 'concatenate', 'sort', 'log2', 'arcsin', 'copy', 'bitwise_xor', 'take_along_axis', 'array_equal', 'ERR_PRINT', 'square', 'diag_indices', 'int32', 'where', 'sort_complex', 'NINF', 'inexact', 'memmap', 'seterr', 'all', 'fmax', 'broadcast_shapes', 'recfromtxt', 'array_repr', 'tril', 'sinc', 'percentile', 'geterrobj', 'char', 'base_repr', 'ERR_WARN', '_add_newdoc_ufunc', 'void0', 'alen', 'get_printoptions', 'longlong', 'isrealobj', 'polyder', '__all__', 'log10', 'empty', 'matrix', 'cast', 'unpackbits', '_pytesttester', 'tril_indices_from', '__name__', 'power', 'uint0', 'ldexp', 'set_printoptions', 'lexsort', 'median', 'ulonglong', 'FPE_OVERFLOW', 'degrees', '__dir__', 'poly1d', 'ERR_DEFAULT', 'floor', 'radians', 'amin', 'triu_indices_from', 'bitwise_and', '__file__', 'fromfile', 'putmask', 'ptp', 'uint', 'imag', 'gradient', 'fromstring', 'sinh', 'exp', 'ndfromtxt', 'logical_and', 'setdiff1d', 'arange', 'multiply', 'nbytes', 'greater', 'place', 'polymul', 'partition', 'SHIFT_INVALID', 'rad2deg', 'issctype', 'ndarray', 'any', 'tril_indices', 'argwhere', 'longdouble', 'round', 'ERR_CALL', 'logaddexp2', 'mafromtxt', 'printoptions', 'reshape', 'fabs', '__loader__', '__git_version__', 'unravel_index'] <class 'list'>\n",
      "-> numpy::__dir__ (in 376141 ns (0.00038 sec) -> ['transpose', 'SHIFT_DIVIDEBYZERO', 'column_stack', 'os', 'nanmin', 'e', 'mat', 'moveaxis', '__NUMPY_SETUP__', 'argmax', 'prod', 'MAY_SHARE_EXACT', 'cosh', 'FPE_UNDERFLOW', 'sometrue', 'isscalar', 'FPE_INVALID', 'nancumprod', 'str_', 'ones', 'fliplr', 'complex64', 'flatnonzero', '_mat', 'union1d', 'split', 'log1p', 'tan', 'ComplexWarning', 'testing', 'fromiter', 'max', 'frombuffer', 'indices', 'nanpercentile', 'issubclass_', 'compare_chararrays', 'complex128', 'cumproduct', 'typecodes', 'tensordot', 'polynomial', 'Bytes0', 'fastCopyAndTranspose', 'resize', 'index_exp', 'asarray', 'integer', 'ERR_IGNORE', 'flip', 'ModuleDeprecationWarning', 'inner', 'busdaycalendar', 'minimum', '__version__', 'searchsorted', 'polyadd', 'numarray', 'Uint64', 'float16', 'histogram', 'NaN', 'deg2rad', 'find_common_type', 'arcsinh', 'extract', 'datetime_as_string', 'cov', 'format_parser', 'average', 'unicode_', 'nanprod', 'pad', 'FPE_DIVIDEBYZERO', 'ascontiguousarray', 'array2string', 'mask_indices', 'negative', 'shares_memory', 'int16', 'int0', 'trace', 'correlate', 'True_', 'atleast_3d', 'ceil', 'logical_not', 'kaiser', 'var', 'asscalar', 'is_busday', 'reciprocal', 'emath', '__mkl_version__', 'vstack', 'bytes_', 'TooHardError', 'MAXDIMS', 'histogramdd', 'diag_indices_from', 'warnings', 'blackman', 'lookfor', 'product', 'BUFSIZE', 'ones_like', 'choose', 'copyto', '__config__', 'ERR_LOG', 'sctypeDict', 'uintp', 'array_split', '__package__', 'safe_eval', 'polyfit', 'add_newdoc_ufunc', 'fromfunction', 'trim_zeros', 'uintc', 'euler_gamma', 'sctype2char', 'geomspace', 'infty', 'Datetime64', '__spec__', 'apply_over_axes', 'Str0', 'complex_', 'conjugate', 'put', 'quantile', 'atleast_2d', 'asfortranarray', 'polyval', 'inf', 'character', 'fft', 'broadcast_arrays', 'roll', 'test', 'nan_to_num', 'angle', 'signedinteger', 'spacing', 'real_if_close', 'ndenumerate', 'nan', 'PINF', 'info', 'insert', 'number', 'unwrap', 'nanstd', 'block', 'select', 'uint8', 'cdouble', 'msort', 'complexfloating', 'use_hugepage', 'nested_iters', 'frexp', 'ctypeslib', 'clongfloat', 'interp', 'logical_xor', 'less', 'argmin', 'result_type', 'datetime_data', 'sum', 'ravel', 'geterrcall', 'cfloat', 'bartlett', 'deprecate', 'iterable', 'greater_equal', 'repeat', 'disp', 'savez', '__getattr__', 'histogram2d', 'right_shift', 'csingle', 'equal', 'bincount', 'isreal', 'set_string_function', 'mgrid', 'copysign', 'little_endian', 'asfarray', 'longfloat', 'diagonal', 'convolve', 'gcd', 'broadcast_to', 'less_equal', '__doc__', 'longcomplex', 'source', 'ufunc', 'may_share_memory', 'iinfo', 'get_array_wrap', 'dsplit', 'intersect1d', 'nansum', 'sys', 'floor_divide', 'isclose', 'savetxt', 'maximum', 'core', 'digitize', 'size', 'promote_types', 'add_docstring', 'PZERO', 'iscomplex', 'trunc', 'zeros_like', 'ravel_multi_index', 'oldnumeric', 'argsort', 'absolute', 'nanquantile', 'polysub', 'math', 'allclose', 'Inf', 'tracemalloc_domain', 'flatiter', 'short', 'deprecate_with_doc', 'linspace', 'array', 'nonzero', 'chararray', 'take', 'rot90', 'float128', 'matmul', 'version', 'arctan2', 'hstack', 'RAISE', 'object0', 'vdot', 'shape', 'CLIP', 'generic', 'ndindex', 'in1d', 'array_equiv', 'ediff1d', 'logical_or', 'ushort', 'isneginf', 'count_nonzero', 'iscomplexobj', 'nanvar', 'clongdouble', 'lib', 'nanargmax', 'byte', 'loadtxt', 'nextafter', 'nancumsum', 'Infinity', 'UFUNC_BUFSIZE_DEFAULT', 'int8', 'format_float_positional', 'rollaxis', 'half', 'row_stack', 'float64', 'vsplit', 'exp2', 'nanmax', 'argpartition', 'vander', 'cumsum', 'errstate', 'intc', 'modf', 'outer', 'meshgrid', 'full', 'can_cast', 'fix', 'intp', 'complex256', 'positive', 'rec', 'empty_like', 'float_', '__cached__', 'bool8', 'SHIFT_UNDERFLOW', 'Tester', 'compat', 'poly', 'finfo', 'conj', 'FLOATING_POINT_SUPPORT', 'MachAr', 'diagflat', 'dot', 'cross', 'unsignedinteger', 'abs', 'typename', 'unique', 'hsplit', 'einsum', 'triu', 'savez_compressed', 'polydiv', 'recarray', 'around', 'arctan', 'apply_along_axis', 'min', 'int_', 'alltrue', 'setbufsize', 'void', 'arccos', 'obj2sctype', 'histogram_bin_edges', 'genfromtxt', '_globals', 'random', '_financial_names', 'ix_', 's_', 'isnat', 'bmat', 'eye', 'nanmedian', 'float32', 'ERR_RAISE', 'remainder', 'byte_bounds', 'atleast_1d', 'AxisError', 'SHIFT_OVERFLOW', 'packbits', 'i0', 'single', 'format_float_scientific', 'hamming', 'fromregex', 'vectorize', 'ndim', 'bytes0', 'divmod', '_version', 'datetime64', 'tile', 'corrcoef', 'arctanh', 'mintypecode', 'isfinite', 'kron', 'identity', 'stack', '_distributor_init', 'broadcast', 'WRAP', 'who', 'kernel_version', 'newaxis', 'uint32', 'dstack', 'seterrobj', 'swapaxes', 'busday_count', 'hanning', 'hypot', 'ubyte', 'pi', 'MAY_SHARE_BOUNDS', 'mean', 'sin', 'double', 'bitwise_not', 'timedelta64', 'std', 'loads', 'isposinf', 'maximum_sctype', 'linalg', 'isin', 'record', 'get_include', 'tanh', 'trapz', 'roots', 'NZERO', 'invert', 'r_', 'fill_diagonal', 'issubsctype', 'put_along_axis', 'show_config', 'issubdtype', '__builtins__', 'setxor1d', 'VisibleDeprecationWarning', 'object_', 'getbufsize', '_UFUNC_API', 'ALLOW_THREADS', 'sign', 'ma', 'bool_', 'clip', 'mkl', 'not_equal', 'matrixlib', 'sctypes', 'logaddexp', 'string_', 'compress', 'nanmean', 'geterr', 'expand_dims', 'int64', 'add_newdoc', 'singlecomplex', 'add', 'min_scalar_type', 'False_', 'logspace', 'append', 'cbrt', 'arccosh', 'floating', 'zeros', 'busday_offset', '__deprecated_attrs__', 'piecewise', 'dtype', 'frompyfunc', 'fmin', 'cumprod', 'flexible', 'signbit', 'DataSource', 'set_numeric_ops', 'str0', 'squeeze', 'ScalarType', 'round_', 'true_divide', 'array_str', 'nanargmin', 'polyint', 'common_type', '__expired_functions__', 'tri', 'recfromcsv', 'save', 'einsum_path', 'ogrid', 'diff', 'UFUNC_PYVALS_NAME', 'isfortran', 'RankWarning', 'asanyarray', 'binary_repr', 'heaviside', 'float_power', 'isnan', 'sqrt', 'amax', 'isinf', 'subtract', 'real', 'left_shift', 'cos', 'expm1', 'lcm', 'bitwise_or', 'NAN', 'fmod', 'uint64', 'divide', 'asmatrix', 'full_like', 'log', 'delete', 'mod', 'flipud', 'uint16', 'nditer', 'c_', '__path__', 'asarray_chkfinite', '_NoValue', 'require', 'diag', 'triu_indices', 'load', 'rint', 'seterrcall', 'concatenate', 'sort', 'log2', 'arcsin', 'copy', 'bitwise_xor', 'take_along_axis', 'array_equal', 'ERR_PRINT', 'square', 'diag_indices', 'int32', 'where', 'sort_complex', 'NINF', 'inexact', 'memmap', 'seterr', 'all', 'fmax', 'broadcast_shapes', 'recfromtxt', 'array_repr', 'tril', 'sinc', 'percentile', 'geterrobj', 'char', 'base_repr', 'ERR_WARN', '_add_newdoc_ufunc', 'void0', 'alen', 'get_printoptions', 'longlong', 'isrealobj', 'polyder', '__all__', 'log10', 'empty', 'matrix', 'cast', 'unpackbits', '_pytesttester', 'tril_indices_from', '__name__', 'power', 'uint0', 'ldexp', 'set_printoptions', 'lexsort', 'median', 'ulonglong', 'FPE_OVERFLOW', 'degrees', '__dir__', 'poly1d', 'ERR_DEFAULT', 'floor', 'radians', 'amin', 'triu_indices_from', 'bitwise_and', '__file__', 'fromfile', 'putmask', 'ptp', 'uint', 'imag', 'gradient', 'fromstring', 'sinh', 'exp', 'ndfromtxt', 'logical_and', 'setdiff1d', 'arange', 'multiply', 'nbytes', 'greater', 'place', 'polymul', 'partition', 'SHIFT_INVALID', 'rad2deg', 'issctype', 'ndarray', 'any', 'tril_indices', 'argwhere', 'longdouble', 'round', 'ERR_CALL', 'logaddexp2', 'mafromtxt', 'printoptions', 'reshape', 'fabs', '__loader__', '__git_version__', 'unravel_index'] <class 'list'>\n",
      "Please check your browser to select options and filters for aspects.\n"
     ]
    }
   ],
   "source": [
    "numpy @  use"
   ]
  },
  {
   "cell_type": "markdown",
   "metadata": {
    "execution": {
     "iopub.execute_input": "2021-11-26T15:28:48.065021Z",
     "iopub.status.busy": "2021-11-26T15:28:48.064485Z",
     "iopub.status.idle": "2021-11-26T15:28:48.074691Z",
     "shell.execute_reply": "2021-11-26T15:28:48.072916Z",
     "shell.execute_reply.started": "2021-11-26T15:28:48.064974Z"
    }
   },
   "source": [
    "After waiting until the page is fully loaded (which can take a while..) we now can see all the thousands of callables inside numpy that we could apply our decorator with. This also allows us to play with different filters to make sure we only hit what we want. Now let's see what happens when we actually apply this decorator to all those callables."
   ]
  },
  {
   "cell_type": "code",
   "execution_count": 35,
   "metadata": {
    "execution": {
     "iopub.execute_input": "2022-04-17T15:42:00.923495Z",
     "iopub.status.busy": "2022-04-17T15:42:00.923132Z",
     "iopub.status.idle": "2022-04-17T15:42:00.954224Z",
     "shell.execute_reply": "2022-04-17T15:42:00.953395Z",
     "shell.execute_reply.started": "2022-04-17T15:42:00.923456Z"
    },
    "tags": []
   },
   "outputs": [
    {
     "name": "stdout",
     "output_type": "stream",
     "text": [
      "() {} -> numpy::__dir__\n",
      "-> numpy::__dir__ (in 122160 ns (0.00012 sec) -> ['transpose', 'SHIFT_DIVIDEBYZERO', 'column_stack', 'os', 'nanmin', 'e', 'mat', 'moveaxis', '__NUMPY_SETUP__', 'argmax', 'prod', 'MAY_SHARE_EXACT', 'cosh', 'FPE_UNDERFLOW', 'sometrue', 'isscalar', 'FPE_INVALID', 'nancumprod', 'str_', 'ones', 'fliplr', 'complex64', 'flatnonzero', '_mat', 'union1d', 'split', 'log1p', 'tan', 'ComplexWarning', 'testing', 'fromiter', 'max', 'frombuffer', 'indices', 'nanpercentile', 'issubclass_', 'compare_chararrays', 'complex128', 'cumproduct', 'typecodes', 'tensordot', 'polynomial', 'Bytes0', 'fastCopyAndTranspose', 'resize', 'index_exp', 'asarray', 'integer', 'ERR_IGNORE', 'flip', 'ModuleDeprecationWarning', 'inner', 'busdaycalendar', 'minimum', '__version__', 'searchsorted', 'polyadd', 'numarray', 'Uint64', 'float16', 'histogram', 'NaN', 'deg2rad', 'find_common_type', 'arcsinh', 'extract', 'datetime_as_string', 'cov', 'format_parser', 'average', 'unicode_', 'nanprod', 'pad', 'FPE_DIVIDEBYZERO', 'ascontiguousarray', 'array2string', 'mask_indices', 'negative', 'shares_memory', 'int16', 'int0', 'trace', 'correlate', 'True_', 'atleast_3d', 'ceil', 'logical_not', 'kaiser', 'var', 'asscalar', 'is_busday', 'reciprocal', 'emath', '__mkl_version__', 'vstack', 'bytes_', 'TooHardError', 'MAXDIMS', 'histogramdd', 'diag_indices_from', 'warnings', 'blackman', 'lookfor', 'product', 'BUFSIZE', 'ones_like', 'choose', 'copyto', '__config__', 'ERR_LOG', 'sctypeDict', 'uintp', 'array_split', '__package__', 'safe_eval', 'polyfit', 'add_newdoc_ufunc', 'fromfunction', 'trim_zeros', 'uintc', 'euler_gamma', 'sctype2char', 'geomspace', 'infty', 'Datetime64', '__spec__', 'apply_over_axes', 'Str0', 'complex_', 'conjugate', 'put', 'quantile', 'atleast_2d', 'asfortranarray', 'polyval', 'inf', 'character', 'fft', 'broadcast_arrays', 'roll', 'test', 'nan_to_num', 'angle', 'signedinteger', 'spacing', 'real_if_close', 'ndenumerate', 'nan', 'PINF', 'info', 'insert', 'number', 'unwrap', 'nanstd', 'block', 'select', 'uint8', 'cdouble', 'msort', 'complexfloating', 'use_hugepage', 'nested_iters', 'frexp', 'ctypeslib', 'clongfloat', 'interp', 'logical_xor', 'less', 'argmin', 'result_type', 'datetime_data', 'sum', 'ravel', 'geterrcall', 'cfloat', 'bartlett', 'deprecate', 'iterable', 'greater_equal', 'repeat', 'disp', 'savez', '__getattr__', 'histogram2d', 'right_shift', 'csingle', 'equal', 'bincount', 'isreal', 'set_string_function', 'mgrid', 'copysign', 'little_endian', 'asfarray', 'longfloat', 'diagonal', 'convolve', 'gcd', 'broadcast_to', 'less_equal', '__doc__', 'longcomplex', 'source', 'ufunc', 'may_share_memory', 'iinfo', 'get_array_wrap', 'dsplit', 'intersect1d', 'nansum', 'sys', 'floor_divide', 'isclose', 'savetxt', 'maximum', 'core', 'digitize', 'size', 'promote_types', 'add_docstring', 'PZERO', 'iscomplex', 'trunc', 'zeros_like', 'ravel_multi_index', 'oldnumeric', 'argsort', 'absolute', 'nanquantile', 'polysub', 'math', 'allclose', 'Inf', 'tracemalloc_domain', 'flatiter', 'short', 'deprecate_with_doc', 'linspace', 'array', 'nonzero', 'chararray', 'take', 'rot90', 'float128', 'matmul', 'version', 'arctan2', 'hstack', 'RAISE', 'object0', 'vdot', 'shape', 'CLIP', 'generic', 'ndindex', 'in1d', 'array_equiv', 'ediff1d', 'logical_or', 'ushort', 'isneginf', 'count_nonzero', 'iscomplexobj', 'nanvar', 'clongdouble', 'lib', 'nanargmax', 'byte', 'loadtxt', 'nextafter', 'nancumsum', 'Infinity', 'UFUNC_BUFSIZE_DEFAULT', 'int8', 'format_float_positional', 'rollaxis', 'half', 'row_stack', 'float64', 'vsplit', 'exp2', 'nanmax', 'argpartition', 'vander', 'cumsum', 'errstate', 'intc', 'modf', 'outer', 'meshgrid', 'full', 'can_cast', 'fix', 'intp', 'complex256', 'positive', 'rec', 'empty_like', 'float_', '__cached__', 'bool8', 'SHIFT_UNDERFLOW', 'Tester', 'compat', 'poly', 'finfo', 'conj', 'FLOATING_POINT_SUPPORT', 'MachAr', 'diagflat', 'dot', 'cross', 'unsignedinteger', 'abs', 'typename', 'unique', 'hsplit', 'einsum', 'triu', 'savez_compressed', 'polydiv', 'recarray', 'around', 'arctan', 'apply_along_axis', 'min', 'int_', 'alltrue', 'setbufsize', 'void', 'arccos', 'obj2sctype', 'histogram_bin_edges', 'genfromtxt', '_globals', 'random', '_financial_names', 'ix_', 's_', 'isnat', 'bmat', 'eye', 'nanmedian', 'float32', 'ERR_RAISE', 'remainder', 'byte_bounds', 'atleast_1d', 'AxisError', 'SHIFT_OVERFLOW', 'packbits', 'i0', 'single', 'format_float_scientific', 'hamming', 'fromregex', 'vectorize', 'ndim', 'bytes0', 'divmod', '_version', 'datetime64', 'tile', 'corrcoef', 'arctanh', 'mintypecode', 'isfinite', 'kron', 'identity', 'stack', '_distributor_init', 'broadcast', 'WRAP', 'who', 'kernel_version', 'newaxis', 'uint32', 'dstack', 'seterrobj', 'swapaxes', 'busday_count', 'hanning', 'hypot', 'ubyte', 'pi', 'MAY_SHARE_BOUNDS', 'mean', 'sin', 'double', 'bitwise_not', 'timedelta64', 'std', 'loads', 'isposinf', 'maximum_sctype', 'linalg', 'isin', 'record', 'get_include', 'tanh', 'trapz', 'roots', 'NZERO', 'invert', 'r_', 'fill_diagonal', 'issubsctype', 'put_along_axis', 'show_config', 'issubdtype', '__builtins__', 'setxor1d', 'VisibleDeprecationWarning', 'object_', 'getbufsize', '_UFUNC_API', 'ALLOW_THREADS', 'sign', 'ma', 'bool_', 'clip', 'mkl', 'not_equal', 'matrixlib', 'sctypes', 'logaddexp', 'string_', 'compress', 'nanmean', 'geterr', 'expand_dims', 'int64', 'add_newdoc', 'singlecomplex', 'add', 'min_scalar_type', 'False_', 'logspace', 'append', 'cbrt', 'arccosh', 'floating', 'zeros', 'busday_offset', '__deprecated_attrs__', 'piecewise', 'dtype', 'frompyfunc', 'fmin', 'cumprod', 'flexible', 'signbit', 'DataSource', 'set_numeric_ops', 'str0', 'squeeze', 'ScalarType', 'round_', 'true_divide', 'array_str', 'nanargmin', 'polyint', 'common_type', '__expired_functions__', 'tri', 'recfromcsv', 'save', 'einsum_path', 'ogrid', 'diff', 'UFUNC_PYVALS_NAME', 'isfortran', 'RankWarning', 'asanyarray', 'binary_repr', 'heaviside', 'float_power', 'isnan', 'sqrt', 'amax', 'isinf', 'subtract', 'real', 'left_shift', 'cos', 'expm1', 'lcm', 'bitwise_or', 'NAN', 'fmod', 'uint64', 'divide', 'asmatrix', 'full_like', 'log', 'delete', 'mod', 'flipud', 'uint16', 'nditer', 'c_', '__path__', 'asarray_chkfinite', '_NoValue', 'require', 'diag', 'triu_indices', 'load', 'rint', 'seterrcall', 'concatenate', 'sort', 'log2', 'arcsin', 'copy', 'bitwise_xor', 'take_along_axis', 'array_equal', 'ERR_PRINT', 'square', 'diag_indices', 'int32', 'where', 'sort_complex', 'NINF', 'inexact', 'memmap', 'seterr', 'all', 'fmax', 'broadcast_shapes', 'recfromtxt', 'array_repr', 'tril', 'sinc', 'percentile', 'geterrobj', 'char', 'base_repr', 'ERR_WARN', '_add_newdoc_ufunc', 'void0', 'alen', 'get_printoptions', 'longlong', 'isrealobj', 'polyder', '__all__', 'log10', 'empty', 'matrix', 'cast', 'unpackbits', '_pytesttester', 'tril_indices_from', '__name__', 'power', 'uint0', 'ldexp', 'set_printoptions', 'lexsort', 'median', 'ulonglong', 'FPE_OVERFLOW', 'degrees', '__dir__', 'poly1d', 'ERR_DEFAULT', 'floor', 'radians', 'amin', 'triu_indices_from', 'bitwise_and', '__file__', 'fromfile', 'putmask', 'ptp', 'uint', 'imag', 'gradient', 'fromstring', 'sinh', 'exp', 'ndfromtxt', 'logical_and', 'setdiff1d', 'arange', 'multiply', 'nbytes', 'greater', 'place', 'polymul', 'partition', 'SHIFT_INVALID', 'rad2deg', 'issctype', 'ndarray', 'any', 'tril_indices', 'argwhere', 'longdouble', 'round', 'ERR_CALL', 'logaddexp2', 'mafromtxt', 'printoptions', 'reshape', 'fabs', '__loader__', '__git_version__', 'unravel_index'] <class 'list'>\n"
     ]
    }
   ],
   "source": [
    "use.apply_aspect(nu use.woody_logger)"
   ]
  },
  {
   "cell_type": "markdown",
   "metadata": {},
   "source": [
    "We wrapped *all* functions in the numpy package with a decorator that lets us directly observe what happens when we call something without the need for an external debugger!"
   ]
  },
  {
   "cell_type": "code",
   "execution_count": 32,
   "metadata": {
    "execution": {
     "iopub.execute_input": "2022-04-17T15:41:20.630829Z",
     "iopub.status.busy": "2022-04-17T15:41:20.629903Z",
     "iopub.status.idle": "2022-04-17T15:41:20.743249Z",
     "shell.execute_reply": "2022-04-17T15:41:20.741314Z",
     "shell.execute_reply.started": "2022-04-17T15:41:20.630784Z"
    },
    "tags": []
   },
   "outputs": [
    {
     "name": "stdout",
     "output_type": "stream",
     "text": [
      "([1, 2, 3],) {} -> numpy::array\n",
      "(array(...),) {} -> numpy::amax\n"
     ]
    },
    {
     "ename": "AttributeError",
     "evalue": "'function' object has no attribute 'reduce'",
     "output_type": "error",
     "traceback": [
      "\u001b[0;31m---------------------------------------------------------------------------\u001b[0m",
      "\u001b[0;31mAttributeError\u001b[0m                            Traceback (most recent call last)",
      "\u001b[0;32m/tmp/ipykernel_3719/3038565759.py\u001b[0m in \u001b[0;36m<module>\u001b[0;34m\u001b[0m\n\u001b[0;32m----> 1\u001b[0;31m \u001b[0mnp\u001b[0m\u001b[0;34m.\u001b[0m\u001b[0marray\u001b[0m\u001b[0;34m(\u001b[0m\u001b[0;34m[\u001b[0m\u001b[0;36m1\u001b[0m\u001b[0;34m,\u001b[0m\u001b[0;36m2\u001b[0m\u001b[0;34m,\u001b[0m\u001b[0;36m3\u001b[0m\u001b[0;34m]\u001b[0m\u001b[0;34m)\u001b[0m\u001b[0;34m\u001b[0m\u001b[0;34m\u001b[0m\u001b[0m\n\u001b[0m",
      "\u001b[0;32m~/anaconda3/lib/python3.8/site-packages/use/aspectizing.py\u001b[0m in \u001b[0;36mwrapper\u001b[0;34m(*args, **kwargs)\u001b[0m\n\u001b[1;32m    241\u001b[0m             \u001b[0mafter\u001b[0m \u001b[0;34m=\u001b[0m \u001b[0mperf_counter_ns\u001b[0m\u001b[0;34m(\u001b[0m\u001b[0;34m)\u001b[0m\u001b[0;34m\u001b[0m\u001b[0;34m\u001b[0m\u001b[0m\n\u001b[1;32m    242\u001b[0m             print(\n\u001b[0;32m--> 243\u001b[0;31m                 \u001b[0;34mf\"-> {_qualname(thing)} (in {after - before} ns ({round((after - before) / 10**9, 5)} sec) -> {res} {type(res)}\"\u001b[0m\u001b[0;34m\u001b[0m\u001b[0;34m\u001b[0m\u001b[0m\n\u001b[0m\u001b[1;32m    244\u001b[0m             )\n\u001b[1;32m    245\u001b[0m             \u001b[0;32mreturn\u001b[0m \u001b[0mres\u001b[0m\u001b[0;34m\u001b[0m\u001b[0;34m\u001b[0m\u001b[0m\n",
      "\u001b[0;32m~/anaconda3/lib/python3.8/site-packages/numpy/core/arrayprint.py\u001b[0m in \u001b[0;36m_array_str_implementation\u001b[0;34m(a, max_line_width, precision, suppress_small, array2string)\u001b[0m\n\u001b[1;32m   1549\u001b[0m         \u001b[0;32mreturn\u001b[0m \u001b[0m_guarded_repr_or_str\u001b[0m\u001b[0;34m(\u001b[0m\u001b[0mnp\u001b[0m\u001b[0;34m.\u001b[0m\u001b[0mndarray\u001b[0m\u001b[0;34m.\u001b[0m\u001b[0m__getitem__\u001b[0m\u001b[0;34m(\u001b[0m\u001b[0ma\u001b[0m\u001b[0;34m,\u001b[0m \u001b[0;34m(\u001b[0m\u001b[0;34m)\u001b[0m\u001b[0;34m)\u001b[0m\u001b[0;34m)\u001b[0m\u001b[0;34m\u001b[0m\u001b[0;34m\u001b[0m\u001b[0m\n\u001b[1;32m   1550\u001b[0m \u001b[0;34m\u001b[0m\u001b[0m\n\u001b[0;32m-> 1551\u001b[0;31m     \u001b[0;32mreturn\u001b[0m \u001b[0marray2string\u001b[0m\u001b[0;34m(\u001b[0m\u001b[0ma\u001b[0m\u001b[0;34m,\u001b[0m \u001b[0mmax_line_width\u001b[0m\u001b[0;34m,\u001b[0m \u001b[0mprecision\u001b[0m\u001b[0;34m,\u001b[0m \u001b[0msuppress_small\u001b[0m\u001b[0;34m,\u001b[0m \u001b[0;34m' '\u001b[0m\u001b[0;34m,\u001b[0m \u001b[0;34m\"\"\u001b[0m\u001b[0;34m)\u001b[0m\u001b[0;34m\u001b[0m\u001b[0;34m\u001b[0m\u001b[0m\n\u001b[0m\u001b[1;32m   1552\u001b[0m \u001b[0;34m\u001b[0m\u001b[0m\n\u001b[1;32m   1553\u001b[0m \u001b[0;34m\u001b[0m\u001b[0m\n",
      "\u001b[0;32m~/anaconda3/lib/python3.8/site-packages/numpy/core/arrayprint.py\u001b[0m in \u001b[0;36marray2string\u001b[0;34m(a, max_line_width, precision, suppress_small, separator, prefix, style, formatter, threshold, edgeitems, sign, floatmode, suffix, legacy)\u001b[0m\n\u001b[1;32m    696\u001b[0m         \u001b[0;32mreturn\u001b[0m \u001b[0;34m\"[]\"\u001b[0m\u001b[0;34m\u001b[0m\u001b[0;34m\u001b[0m\u001b[0m\n\u001b[1;32m    697\u001b[0m \u001b[0;34m\u001b[0m\u001b[0m\n\u001b[0;32m--> 698\u001b[0;31m     \u001b[0;32mreturn\u001b[0m \u001b[0m_array2string\u001b[0m\u001b[0;34m(\u001b[0m\u001b[0ma\u001b[0m\u001b[0;34m,\u001b[0m \u001b[0moptions\u001b[0m\u001b[0;34m,\u001b[0m \u001b[0mseparator\u001b[0m\u001b[0;34m,\u001b[0m \u001b[0mprefix\u001b[0m\u001b[0;34m)\u001b[0m\u001b[0;34m\u001b[0m\u001b[0;34m\u001b[0m\u001b[0m\n\u001b[0m\u001b[1;32m    699\u001b[0m \u001b[0;34m\u001b[0m\u001b[0m\n\u001b[1;32m    700\u001b[0m \u001b[0;34m\u001b[0m\u001b[0m\n",
      "\u001b[0;32m~/anaconda3/lib/python3.8/site-packages/numpy/core/arrayprint.py\u001b[0m in \u001b[0;36mwrapper\u001b[0;34m(self, *args, **kwargs)\u001b[0m\n\u001b[1;32m    473\u001b[0m             \u001b[0mrepr_running\u001b[0m\u001b[0;34m.\u001b[0m\u001b[0madd\u001b[0m\u001b[0;34m(\u001b[0m\u001b[0mkey\u001b[0m\u001b[0;34m)\u001b[0m\u001b[0;34m\u001b[0m\u001b[0;34m\u001b[0m\u001b[0m\n\u001b[1;32m    474\u001b[0m             \u001b[0;32mtry\u001b[0m\u001b[0;34m:\u001b[0m\u001b[0;34m\u001b[0m\u001b[0;34m\u001b[0m\u001b[0m\n\u001b[0;32m--> 475\u001b[0;31m                 \u001b[0;32mreturn\u001b[0m \u001b[0mf\u001b[0m\u001b[0;34m(\u001b[0m\u001b[0mself\u001b[0m\u001b[0;34m,\u001b[0m \u001b[0;34m*\u001b[0m\u001b[0margs\u001b[0m\u001b[0;34m,\u001b[0m \u001b[0;34m**\u001b[0m\u001b[0mkwargs\u001b[0m\u001b[0;34m)\u001b[0m\u001b[0;34m\u001b[0m\u001b[0;34m\u001b[0m\u001b[0m\n\u001b[0m\u001b[1;32m    476\u001b[0m             \u001b[0;32mfinally\u001b[0m\u001b[0;34m:\u001b[0m\u001b[0;34m\u001b[0m\u001b[0;34m\u001b[0m\u001b[0m\n\u001b[1;32m    477\u001b[0m                 \u001b[0mrepr_running\u001b[0m\u001b[0;34m.\u001b[0m\u001b[0mdiscard\u001b[0m\u001b[0;34m(\u001b[0m\u001b[0mkey\u001b[0m\u001b[0;34m)\u001b[0m\u001b[0;34m\u001b[0m\u001b[0;34m\u001b[0m\u001b[0m\n",
      "\u001b[0;32m~/anaconda3/lib/python3.8/site-packages/numpy/core/arrayprint.py\u001b[0m in \u001b[0;36m_array2string\u001b[0;34m(a, options, separator, prefix)\u001b[0m\n\u001b[1;32m    499\u001b[0m \u001b[0;34m\u001b[0m\u001b[0m\n\u001b[1;32m    500\u001b[0m     \u001b[0;31m# find the right formatting function for the array\u001b[0m\u001b[0;34m\u001b[0m\u001b[0;34m\u001b[0m\u001b[0;34m\u001b[0m\u001b[0m\n\u001b[0;32m--> 501\u001b[0;31m     \u001b[0mformat_function\u001b[0m \u001b[0;34m=\u001b[0m \u001b[0m_get_format_function\u001b[0m\u001b[0;34m(\u001b[0m\u001b[0mdata\u001b[0m\u001b[0;34m,\u001b[0m \u001b[0;34m**\u001b[0m\u001b[0moptions\u001b[0m\u001b[0;34m)\u001b[0m\u001b[0;34m\u001b[0m\u001b[0;34m\u001b[0m\u001b[0m\n\u001b[0m\u001b[1;32m    502\u001b[0m \u001b[0;34m\u001b[0m\u001b[0m\n\u001b[1;32m    503\u001b[0m     \u001b[0;31m# skip over \"[\"\u001b[0m\u001b[0;34m\u001b[0m\u001b[0;34m\u001b[0m\u001b[0;34m\u001b[0m\u001b[0m\n",
      "\u001b[0;32m~/anaconda3/lib/python3.8/site-packages/numpy/core/arrayprint.py\u001b[0m in \u001b[0;36m_get_format_function\u001b[0;34m(data, **options)\u001b[0m\n\u001b[1;32m    427\u001b[0m             \u001b[0;32mreturn\u001b[0m \u001b[0mformatdict\u001b[0m\u001b[0;34m[\u001b[0m\u001b[0;34m'timedelta'\u001b[0m\u001b[0;34m]\u001b[0m\u001b[0;34m(\u001b[0m\u001b[0;34m)\u001b[0m\u001b[0;34m\u001b[0m\u001b[0;34m\u001b[0m\u001b[0m\n\u001b[1;32m    428\u001b[0m         \u001b[0;32melse\u001b[0m\u001b[0;34m:\u001b[0m\u001b[0;34m\u001b[0m\u001b[0;34m\u001b[0m\u001b[0m\n\u001b[0;32m--> 429\u001b[0;31m             \u001b[0;32mreturn\u001b[0m \u001b[0mformatdict\u001b[0m\u001b[0;34m[\u001b[0m\u001b[0;34m'int'\u001b[0m\u001b[0;34m]\u001b[0m\u001b[0;34m(\u001b[0m\u001b[0;34m)\u001b[0m\u001b[0;34m\u001b[0m\u001b[0;34m\u001b[0m\u001b[0m\n\u001b[0m\u001b[1;32m    430\u001b[0m     \u001b[0;32melif\u001b[0m \u001b[0missubclass\u001b[0m\u001b[0;34m(\u001b[0m\u001b[0mdtypeobj\u001b[0m\u001b[0;34m,\u001b[0m \u001b[0m_nt\u001b[0m\u001b[0;34m.\u001b[0m\u001b[0mfloating\u001b[0m\u001b[0;34m)\u001b[0m\u001b[0;34m:\u001b[0m\u001b[0;34m\u001b[0m\u001b[0;34m\u001b[0m\u001b[0m\n\u001b[1;32m    431\u001b[0m         \u001b[0;32mif\u001b[0m \u001b[0missubclass\u001b[0m\u001b[0;34m(\u001b[0m\u001b[0mdtypeobj\u001b[0m\u001b[0;34m,\u001b[0m \u001b[0m_nt\u001b[0m\u001b[0;34m.\u001b[0m\u001b[0mlongfloat\u001b[0m\u001b[0;34m)\u001b[0m\u001b[0;34m:\u001b[0m\u001b[0;34m\u001b[0m\u001b[0;34m\u001b[0m\u001b[0m\n",
      "\u001b[0;32m~/anaconda3/lib/python3.8/site-packages/numpy/core/arrayprint.py\u001b[0m in \u001b[0;36m<lambda>\u001b[0;34m()\u001b[0m\n\u001b[1;32m    372\u001b[0m     formatdict = {\n\u001b[1;32m    373\u001b[0m         \u001b[0;34m'bool'\u001b[0m\u001b[0;34m:\u001b[0m \u001b[0;32mlambda\u001b[0m\u001b[0;34m:\u001b[0m \u001b[0mBoolFormat\u001b[0m\u001b[0;34m(\u001b[0m\u001b[0mdata\u001b[0m\u001b[0;34m)\u001b[0m\u001b[0;34m,\u001b[0m\u001b[0;34m\u001b[0m\u001b[0;34m\u001b[0m\u001b[0m\n\u001b[0;32m--> 374\u001b[0;31m         \u001b[0;34m'int'\u001b[0m\u001b[0;34m:\u001b[0m \u001b[0;32mlambda\u001b[0m\u001b[0;34m:\u001b[0m \u001b[0mIntegerFormat\u001b[0m\u001b[0;34m(\u001b[0m\u001b[0mdata\u001b[0m\u001b[0;34m)\u001b[0m\u001b[0;34m,\u001b[0m\u001b[0;34m\u001b[0m\u001b[0;34m\u001b[0m\u001b[0m\n\u001b[0m\u001b[1;32m    375\u001b[0m         'float': lambda: FloatingFormat(\n\u001b[1;32m    376\u001b[0m             data, precision, floatmode, suppress, sign, legacy=legacy),\n",
      "\u001b[0;32m~/anaconda3/lib/python3.8/site-packages/numpy/core/arrayprint.py\u001b[0m in \u001b[0;36m__init__\u001b[0;34m(self, data)\u001b[0m\n\u001b[1;32m   1185\u001b[0m     \u001b[0;32mdef\u001b[0m \u001b[0m__init__\u001b[0m\u001b[0;34m(\u001b[0m\u001b[0mself\u001b[0m\u001b[0;34m,\u001b[0m \u001b[0mdata\u001b[0m\u001b[0;34m)\u001b[0m\u001b[0;34m:\u001b[0m\u001b[0;34m\u001b[0m\u001b[0;34m\u001b[0m\u001b[0m\n\u001b[1;32m   1186\u001b[0m         \u001b[0;32mif\u001b[0m \u001b[0mdata\u001b[0m\u001b[0;34m.\u001b[0m\u001b[0msize\u001b[0m \u001b[0;34m>\u001b[0m \u001b[0;36m0\u001b[0m\u001b[0;34m:\u001b[0m\u001b[0;34m\u001b[0m\u001b[0;34m\u001b[0m\u001b[0m\n\u001b[0;32m-> 1187\u001b[0;31m             max_str_len = max(len(str(np.max(data))),\n\u001b[0m\u001b[1;32m   1188\u001b[0m                               len(str(np.min(data))))\n\u001b[1;32m   1189\u001b[0m         \u001b[0;32melse\u001b[0m\u001b[0;34m:\u001b[0m\u001b[0;34m\u001b[0m\u001b[0;34m\u001b[0m\u001b[0m\n",
      "\u001b[0;32m~/anaconda3/lib/python3.8/site-packages/use/aspectizing.py\u001b[0m in \u001b[0;36mwrapper\u001b[0;34m(*args, **kwargs)\u001b[0m\n\u001b[1;32m    238\u001b[0m             \u001b[0mprint\u001b[0m\u001b[0;34m(\u001b[0m\u001b[0;34mf\"{args} {kwargs} -> {_qualname(thing)}\"\u001b[0m\u001b[0;34m)\u001b[0m\u001b[0;34m\u001b[0m\u001b[0;34m\u001b[0m\u001b[0m\n\u001b[1;32m    239\u001b[0m             \u001b[0mbefore\u001b[0m \u001b[0;34m=\u001b[0m \u001b[0mperf_counter_ns\u001b[0m\u001b[0;34m(\u001b[0m\u001b[0;34m)\u001b[0m\u001b[0;34m\u001b[0m\u001b[0;34m\u001b[0m\u001b[0m\n\u001b[0;32m--> 240\u001b[0;31m             \u001b[0mres\u001b[0m \u001b[0;34m=\u001b[0m \u001b[0mthing\u001b[0m\u001b[0;34m(\u001b[0m\u001b[0;34m*\u001b[0m\u001b[0margs\u001b[0m\u001b[0;34m,\u001b[0m \u001b[0;34m**\u001b[0m\u001b[0mkwargs\u001b[0m\u001b[0;34m)\u001b[0m\u001b[0;34m\u001b[0m\u001b[0;34m\u001b[0m\u001b[0m\n\u001b[0m\u001b[1;32m    241\u001b[0m             \u001b[0mafter\u001b[0m \u001b[0;34m=\u001b[0m \u001b[0mperf_counter_ns\u001b[0m\u001b[0;34m(\u001b[0m\u001b[0;34m)\u001b[0m\u001b[0;34m\u001b[0m\u001b[0;34m\u001b[0m\u001b[0m\n\u001b[1;32m    242\u001b[0m             print(\n",
      "\u001b[0;32m<__array_function__ internals>\u001b[0m in \u001b[0;36mamax\u001b[0;34m(*args, **kwargs)\u001b[0m\n",
      "\u001b[0;32m~/anaconda3/lib/python3.8/site-packages/numpy/core/fromnumeric.py\u001b[0m in \u001b[0;36mamax\u001b[0;34m(a, axis, out, keepdims, initial, where)\u001b[0m\n\u001b[1;32m   2752\u001b[0m     \u001b[0;36m5\u001b[0m\u001b[0;34m\u001b[0m\u001b[0;34m\u001b[0m\u001b[0m\n\u001b[1;32m   2753\u001b[0m     \"\"\"\n\u001b[0;32m-> 2754\u001b[0;31m     return _wrapreduction(a, np.maximum, 'max', axis, None, out,\n\u001b[0m\u001b[1;32m   2755\u001b[0m                           keepdims=keepdims, initial=initial, where=where)\n\u001b[1;32m   2756\u001b[0m \u001b[0;34m\u001b[0m\u001b[0m\n",
      "\u001b[0;32m~/anaconda3/lib/python3.8/site-packages/numpy/core/fromnumeric.py\u001b[0m in \u001b[0;36m_wrapreduction\u001b[0;34m(obj, ufunc, method, axis, dtype, out, **kwargs)\u001b[0m\n\u001b[1;32m     84\u001b[0m                 \u001b[0;32mreturn\u001b[0m \u001b[0mreduction\u001b[0m\u001b[0;34m(\u001b[0m\u001b[0maxis\u001b[0m\u001b[0;34m=\u001b[0m\u001b[0maxis\u001b[0m\u001b[0;34m,\u001b[0m \u001b[0mout\u001b[0m\u001b[0;34m=\u001b[0m\u001b[0mout\u001b[0m\u001b[0;34m,\u001b[0m \u001b[0;34m**\u001b[0m\u001b[0mpasskwargs\u001b[0m\u001b[0;34m)\u001b[0m\u001b[0;34m\u001b[0m\u001b[0;34m\u001b[0m\u001b[0m\n\u001b[1;32m     85\u001b[0m \u001b[0;34m\u001b[0m\u001b[0m\n\u001b[0;32m---> 86\u001b[0;31m     \u001b[0;32mreturn\u001b[0m \u001b[0mufunc\u001b[0m\u001b[0;34m.\u001b[0m\u001b[0mreduce\u001b[0m\u001b[0;34m(\u001b[0m\u001b[0mobj\u001b[0m\u001b[0;34m,\u001b[0m \u001b[0maxis\u001b[0m\u001b[0;34m,\u001b[0m \u001b[0mdtype\u001b[0m\u001b[0;34m,\u001b[0m \u001b[0mout\u001b[0m\u001b[0;34m,\u001b[0m \u001b[0;34m**\u001b[0m\u001b[0mpasskwargs\u001b[0m\u001b[0;34m)\u001b[0m\u001b[0;34m\u001b[0m\u001b[0;34m\u001b[0m\u001b[0m\n\u001b[0m\u001b[1;32m     87\u001b[0m \u001b[0;34m\u001b[0m\u001b[0m\n\u001b[1;32m     88\u001b[0m \u001b[0;34m\u001b[0m\u001b[0m\n",
      "\u001b[0;31mAttributeError\u001b[0m: 'function' object has no attribute 'reduce'"
     ]
    }
   ],
   "source": [
    "np.array([1,2,3])"
   ]
  },
  {
   "cell_type": "markdown",
   "metadata": {},
   "source": [
    "If you aren't in a situation where you need to debug, log or control access (the classical applications of AOP) you might still want to use it in python - for type-checking/testing!\n",
    "For example you can apply our favorite dynamic type checker library beartype quite easily like so:"
   ]
  },
  {
   "cell_type": "code",
   "execution_count": null,
   "metadata": {
    "execution": {
     "iopub.status.busy": "2022-04-17T15:39:24.396276Z",
     "iopub.status.idle": "2022-04-17T15:39:24.396800Z",
     "shell.execute_reply": "2022-04-17T15:39:24.396549Z",
     "shell.execute_reply.started": "2022-04-17T15:39:24.396514Z"
    },
    "tags": []
   },
   "outputs": [],
   "source": [
    "from beartype import beartype\n",
    "\n",
    "use.apply_aspect(np, beartype)"
   ]
  },
  {
   "cell_type": "markdown",
   "metadata": {
    "execution": {
     "iopub.execute_input": "2021-11-26T15:35:16.483099Z",
     "iopub.status.busy": "2021-11-26T15:35:16.482573Z",
     "iopub.status.idle": "2021-11-26T15:35:16.507905Z",
     "shell.execute_reply": "2021-11-26T15:35:16.505878Z",
     "shell.execute_reply.started": "2021-11-26T15:35:16.483062Z"
    }
   },
   "source": [
    "Now all functions in numpy are beartype-checked! You can do the same with your own code, as long as you use() your modules."
   ]
  },
  {
   "cell_type": "markdown",
   "metadata": {
    "execution": {
     "iopub.execute_input": "2021-11-26T15:32:34.252907Z",
     "iopub.status.busy": "2021-11-26T15:32:34.252454Z",
     "iopub.status.idle": "2021-11-26T15:32:34.270157Z",
     "shell.execute_reply": "2021-11-26T15:32:34.266549Z",
     "shell.execute_reply.started": "2021-11-26T15:32:34.252870Z"
    }
   },
   "source": [
    "If you want to learn more about aspect-oriented programming, check out https://en.wikipedia.org/wiki/Aspect-oriented_programming "
   ]
  },
  {
   "cell_type": "markdown",
   "metadata": {},
   "source": [
    "Even though applying decorators this way usually is super simple and nice, one word of caution: in python it sometimes is not clear at all *what* something is. If you do `foo(x)` foo could be a pure function, an object with a `__call__` method or you might be calling the `__init__` method of a class. While it is nice for the user to be oblivious about those details in general, in this case it can be quite confusing and frustrating because each case needs to be handled differently and using a check like isfunction might be catching the wrong things. So, be aware of these potential pitfalls before applying decorators blindly without checking what actually got hit."
   ]
  }
 ],
 "metadata": {
  "kernelspec": {
   "display_name": "Python 3 (ipykernel)",
   "language": "python",
   "name": "python3"
  },
  "language_info": {
   "codemirror_mode": {
    "name": "ipython",
    "version": 3
   },
   "file_extension": ".py",
   "mimetype": "text/x-python",
   "name": "python",
   "nbconvert_exporter": "python",
   "pygments_lexer": "ipython3",
   "version": "3.8.5"
  }
 },
 "nbformat": 4,
 "nbformat_minor": 4
}
